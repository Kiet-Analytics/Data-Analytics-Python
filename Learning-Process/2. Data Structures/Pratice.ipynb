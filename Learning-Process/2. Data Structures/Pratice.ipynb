{
 "cells": [
  {
   "cell_type": "markdown",
   "id": "0659b773",
   "metadata": {},
   "source": [
    "### A. Lists and Membership Operators"
   ]
  },
  {
   "cell_type": "markdown",
   "id": "93a5a06d",
   "metadata": {},
   "source": [
    "1. Use list indexing to determine how many days are in a particular month based on the integer variable month, and store that value in the integer variable num_days. For example, if month is 8, num_days should be set to 31, since the eighth month, August, has 31 days."
   ]
  },
  {
   "cell_type": "code",
   "execution_count": null,
   "id": "4a735a11",
   "metadata": {},
   "outputs": [],
   "source": [
    "month = 8\n",
    "days_in_month = [31,28,31,30,31,30,31,31,30,31,30,31]\n",
    "\n",
    "# use list indexing to determine the number of days in month\n",
    "num_days = days_in_month[7]\n",
    "print(num_days)"
   ]
  },
  {
   "cell_type": "markdown",
   "id": "7b2544f6",
   "metadata": {},
   "source": [
    "2. Get the three most recent dates from this list using list slicing notation. Hint: negative indexes work in slices!"
   ]
  },
  {
   "cell_type": "code",
   "execution_count": null,
   "id": "0b406619",
   "metadata": {},
   "outputs": [],
   "source": [
    "eclipse_dates = ['June 21, 2001', 'December 4, 2002', 'November 23, 2003',\n",
    "                 'March 29, 2006', 'August 1, 2008', 'July 22, 2009',\n",
    "                 'July 11, 2010', 'November 13, 2012', 'March 20, 2015',\n",
    "                 'March 9, 2016']\n",
    "                 \n",
    "                 \n",
    "# TODO: Modify this line so it prints the last three elements of the list\n",
    "print(eclipse_dates[-3:])"
   ]
  },
  {
   "cell_type": "markdown",
   "id": "163e7164",
   "metadata": {},
   "source": [
    "3. Mutability Question: change this variable below to produce a string variable with value like ['we', 'want', 'to', 'register', 'a', 'complaint', '!']\n"
   ]
  },
  {
   "cell_type": "code",
   "execution_count": null,
   "id": "c6d0e8f2",
   "metadata": {},
   "outputs": [],
   "source": [
    "#intial variable\n",
    "sentence1 = [\"I\", \"wish\", \"to\", \"register\", \"a\", \"complaint\", \".\"]\n",
    "#change elements here:\n",
    "sentence1[0:2] = [\"we\", \"want\"]\n",
    "sentence1[6] = \"!\"\n",
    "print(sentence1)"
   ]
  },
  {
   "cell_type": "markdown",
   "id": "73a89da5",
   "metadata": {},
   "source": [
    "# B. List Methods"
   ]
  },
  {
   "cell_type": "markdown",
   "id": "cf971e4b",
   "metadata": {},
   "source": [
    "Change list below to have this string : \"Albert & Ben & Carol & Donna\""
   ]
  },
  {
   "cell_type": "code",
   "execution_count": null,
   "id": "0cde2062",
   "metadata": {},
   "outputs": [],
   "source": [
    "#inital\n",
    "names = [\"Carol\", \"Albert\", \"Ben\", \"Donna\"]\n",
    "#transforms\n",
    "names = \" & \".join(sorted(names))\n",
    "print(names)"
   ]
  },
  {
   "cell_type": "markdown",
   "id": "627e5d52",
   "metadata": {},
   "source": [
    "# C. Tuples"
   ]
  },
  {
   "cell_type": "markdown",
   "id": "9c800407",
   "metadata": {},
   "source": [
    "Declare two tuple variables, first one with (), second one with out (). Compare them to check wether they are equal or not?"
   ]
  },
  {
   "cell_type": "code",
   "execution_count": null,
   "id": "ebd0aaf0",
   "metadata": {},
   "outputs": [],
   "source": [
    "tuple_a = 1, 2\n",
    "tuple_b = (1, 2)\n",
    "print(1 in tuple_a)"
   ]
  },
  {
   "cell_type": "markdown",
   "id": "9f8b5724",
   "metadata": {},
   "source": [
    "# D. Dictionaries"
   ]
  },
  {
   "cell_type": "markdown",
   "id": "2c0b9330",
   "metadata": {},
   "source": [
    "1. Define a dictionary named population that contains this data:\n",
    "Keys:Values\n",
    "Shanghai\t17.8\n",
    "Istanbul\t13.3\n",
    "Karachi\t13.0\n",
    "Mumbai\t12.5\n",
    "2. What happens if we look up a value that isn't in the dictionary? Create a test dictionary and use the square brackets to look up a value that you haven't defined. What happens?"
   ]
  },
  {
   "cell_type": "code",
   "execution_count": null,
   "id": "b15e6345",
   "metadata": {},
   "outputs": [],
   "source": [
    "#1\n",
    "dicn = {\"Shanghai\":17.8,\n",
    "        \"Istanbul\":13.3, \n",
    "        \"Karachi\":13.0, \n",
    "        \"Mumbai\":12.5}\n",
    "print(dicn)"
   ]
  },
  {
   "cell_type": "code",
   "execution_count": null,
   "id": "ea14d361",
   "metadata": {},
   "outputs": [],
   "source": [
    "#2\n",
    "dic1 = {\"boy\":\"male\", \n",
    "        \"girl\":\"female\"}\n",
    "\n",
    "print(dic1[\"less\"])"
   ]
  },
  {
   "cell_type": "code",
   "execution_count": null,
   "id": "e53d66f1",
   "metadata": {},
   "outputs": [],
   "source": [
    " a = [1, 2, 3]\n",
    "b = [1,2,3]\n",
    "c = b\n",
    "print(a==c) # True\n",
    "print(a is c) #false\n",
    "print(b==c) #true\n",
    "print(b is c) #False"
   ]
  },
  {
   "cell_type": "markdown",
   "id": "b74fe69d",
   "metadata": {},
   "source": [
    "3. Use the dictionary below to answer ALL of the questions regarding dictionaries. Consider you have a dictionary named animals that looks like this: \n",
    "print two element in a list for each key in one line of code.\n"
   ]
  },
  {
   "cell_type": "code",
   "execution_count": null,
   "id": "a6bf3a64",
   "metadata": {},
   "outputs": [],
   "source": [
    "animals = {'dogs': [20, 10, 15, 8, 32, 15], \n",
    "           'cats': [3,4,2,8,2,4], \n",
    "           'rabbits': [2, 3, 3], \n",
    "           'fish': [0.3, 0.5, 0.8, 0.3, 1]}\n",
    "#1\n",
    "print(animals[\"dogs\"][0:2])\n",
    "print(animals[\"cats\"][4:6])\n",
    "print(animals[\"rabbits\"][:2])\n",
    "print(animals[\"fish\"][-2:])"
   ]
  },
  {
   "cell_type": "code",
   "execution_count": null,
   "id": "bf591d29",
   "metadata": {},
   "outputs": [],
   "source": [
    "a = set([1,2,3,4,5])\n",
    "print(a)"
   ]
  },
  {
   "cell_type": "markdown",
   "id": "4ce6e3f6",
   "metadata": {},
   "source": [
    "4. Fix the code belows"
   ]
  },
  {
   "cell_type": "code",
   "execution_count": null,
   "id": "ca8fc816",
   "metadata": {},
   "outputs": [],
   "source": [
    "# invalid dictionary - this should break\n",
    "room_numbers = {\n",
    "    ['Freddie', 'Jen']: 403,\n",
    "    ['Ned', 'Keith']: 391,\n",
    "    ['Kristin', 'Jazzmyne']: 411,\n",
    "    ['Eugene', 'Zach']: 395\n",
    "}\n",
    "#Fixing\n",
    "room_numbers = {\n",
    "    ('Freddie', 'Jen'): 403,\n",
    "    ('Ned', 'Keith'): 391,\n",
    "    ('Kristin', 'Jazzmyne'): 411,\n",
    "    ('Eugene', 'Zach'): 395\n",
    "}\n",
    "print(room_numbers)"
   ]
  },
  {
   "cell_type": "markdown",
   "id": "11905ff4",
   "metadata": {},
   "source": [
    "5. From a dictionary below, get the symbol and weight of hydrogen. Then get the symbol and weight of helium"
   ]
  },
  {
   "cell_type": "code",
   "execution_count": null,
   "id": "9407466c",
   "metadata": {},
   "outputs": [],
   "source": [
    "#intial dictionary\n",
    "elements = {\"hydrogen\": {\"number\": 1,\n",
    "                         \"weight\": 1.00794,\n",
    "                         \"symbol\": \"H\"},\n",
    "              \"helium\": {\"number\": 2,\n",
    "                         \"weight\": 4.002602,\n",
    "                         \"symbol\": \"He\"}}\n",
    "#code\n",
    "print(\"weight_hydrogen: \", elements[\"hydrogen\"][\"weight\"])\n",
    "print(\"symbol_hydrogen: \",  elements[\"hydrogen\"][\"symbol\"])\n",
    "print(\"weight_helium: \", elements[\"helium\"][\"weight\"])\n",
    "print(\"symbol_helium :\", elements[\"helium\"][\"symbol\"])"
   ]
  },
  {
   "cell_type": "markdown",
   "id": "53d4eee6",
   "metadata": {},
   "source": [
    "# E. Compound Data Structures"
   ]
  },
  {
   "cell_type": "markdown",
   "id": "699bd432",
   "metadata": {},
   "source": [
    "1. Try your hand at working with nested dictionaries. Add another entry, 'is_noble_gas,' to each dictionary in the elements dictionary. After inserting the new entries you should be able to perform these lookups:\n"
   ]
  },
  {
   "cell_type": "code",
   "execution_count": null,
   "id": "c6bdc647",
   "metadata": {},
   "outputs": [],
   "source": [
    "elements = {'hydrogen': {'number': 1, 'weight': 1.00794, 'symbol': 'H'},\n",
    "            'helium': {'number': 2, 'weight': 4.002602, 'symbol': 'He'}\n",
    "           }\n",
    "#>print(elements['hydrogen']['is_noble_gas'])\n",
    "#>>>False\n",
    "#>print(elements['helium']['is_noble_gas'])\n",
    "#>>>True\n",
    "\n",
    "#inserting value\n",
    "elements['hydrogen'][\"is_noble_gas\"] = False\n",
    "elements['helium']['is_noble_gas'] = True\n",
    "print(elements['hydrogen']['is_noble_gas'])\n",
    "print(elements['helium']['is_noble_gas'])\n",
    "print(elements)"
   ]
  },
  {
   "cell_type": "markdown",
   "id": "6c1a5014",
   "metadata": {},
   "source": [
    "2. Your task for this quiz is to find the number of unique words in the text. In the code editor below, complete these three steps to get your answer.\n",
    "\n",
    "Split verse into a list of words. Hint: You can use a string method you learned in the previous lesson.\n",
    "Convert the list into a data structure that would keep only the unique elements from the list.\n",
    "Print the length of the container."
   ]
  },
  {
   "cell_type": "code",
   "execution_count": null,
   "id": "f12d79a0",
   "metadata": {},
   "outputs": [],
   "source": [
    "verse = \"if you can keep your head when all about you are losing theirs and blaming it on you   if you can trust yourself when all men doubt you     but make allowance for their doubting too   if you can wait and not be tired by waiting      or being lied about  don’t deal in lies   or being hated  don’t give way to hating      and yet don’t look too good  nor talk too wise\"\n",
    "print(verse, '\\n')\n",
    "# split verse into list of words\n",
    "verse_list = verse.split()\n",
    "print(verse_list, '\\n')\n",
    "\n",
    "# convert list to a data structure that stores unique elements\n",
    "verse_set = set(verse_list)\n",
    "print(verse_set, '\\n')\n",
    "\n",
    "# print the number of unique words\n",
    "num_unique = len(verse_set)\n",
    "print(num_unique, '\\n')\n",
    "\n"
   ]
  },
  {
   "cell_type": "markdown",
   "id": "3fb73e14",
   "metadata": {},
   "source": [
    "3.In the code editor below, you'll find a dictionary containing the unique words of verse stored as keys and the number of times they appear in verse stored as values. Use this dictionary to answer the following questions. Submit these answers in the quiz below the code editor.\n",
    "\n",
    "Try to answer these using code, rather than inspecting the dictionary manually!\n",
    "\n",
    "How many unique words are in verse_dict?\n",
    "Is the key \"breathe\" in verse_dict?\n",
    "What is the first element in the list created when verse_dict is sorted by keys?\n",
    "Hint: Use the appropriate dictionary method to get a list of its keys, and then sort that list. Use this list of keys to answer the next two questions as well.\n",
    "Which key (word) has the highest value in verse_dict?"
   ]
  },
  {
   "cell_type": "code",
   "execution_count": null,
   "id": "630a6548",
   "metadata": {},
   "outputs": [],
   "source": [
    "verse_dict =  {'if': 3, 'you': 6, 'can': 3, 'keep': 1, 'your': 1, 'head': 1, 'when': 2, 'all': 2, 'about': 2, 'are': 1, 'losing': 1, 'theirs': 1, 'and': 3, 'blaming': 1, 'it': 1, 'on': 1, 'trust': 1, 'yourself': 1, 'men': 1, 'doubt': 1, 'but': 1, 'make': 1, 'allowance': 1, 'for': 1, 'their': 1, 'doubting': 1, 'too': 3, 'wait': 1, 'not': 1, 'be': 1, 'tired': 1, 'by': 1, 'waiting': 1, 'or': 2, 'being': 2, 'lied': 1, 'don\\'t': 3, 'deal': 1, 'in': 1, 'lies': 1, 'hated': 1, 'give': 1, 'way': 1, 'to': 1, 'hating': 1, 'yet': 1, 'look': 1, 'good': 1, 'nor': 1, 'talk': 1, 'wise': 1}\n",
    "print(verse_dict, '\\n')\n",
    "\n",
    "# find number of unique keys in the dictionary\n",
    "num_keys = len(verse_dict)\n",
    "print(num_keys)\n",
    "\n",
    "# find whether 'breathe' is a key in the dictionary\n",
    "contains_breathe = verse_dict.get(\"breathe\")\n",
    "print(contains_breathe)\n",
    "\n",
    "# create and sort a list of the dictionary's keys\n",
    "sorted_keys = sorted(verse_dict)\n",
    "\n",
    "\n",
    "# get the first element in the sorted list of keys\n",
    "print(sorted_keys[0])\n",
    "\n",
    "# find the element with the highest value in the list of keys\n",
    "print(sorted_keys[-1])"
   ]
  },
  {
   "cell_type": "code",
   "execution_count": null,
   "id": "0748c61c",
   "metadata": {},
   "outputs": [],
   "source": []
  }
 ],
 "metadata": {
  "kernelspec": {
   "display_name": "Python 3 (ipykernel)",
   "language": "python",
   "name": "python3"
  },
  "language_info": {
   "codemirror_mode": {
    "name": "ipython",
    "version": 3
   },
   "file_extension": ".py",
   "mimetype": "text/x-python",
   "name": "python",
   "nbconvert_exporter": "python",
   "pygments_lexer": "ipython3",
   "version": "3.11.2"
  }
 },
 "nbformat": 4,
 "nbformat_minor": 5
}
