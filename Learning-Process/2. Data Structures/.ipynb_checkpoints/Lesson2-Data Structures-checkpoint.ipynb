{
 "cells": [
  {
   "cell_type": "markdown",
   "id": "0659b773",
   "metadata": {},
   "source": [
    "### A. Lists and Membership Operators"
   ]
  },
  {
   "cell_type": "markdown",
   "id": "93a5a06d",
   "metadata": {},
   "source": [
    "1. Use list indexing to determine how many days are in a particular month based on the integer variable month, and store that value in the integer variable num_days. For example, if month is 8, num_days should be set to 31, since the eighth month, August, has 31 days."
   ]
  },
  {
   "cell_type": "code",
   "execution_count": 9,
   "id": "4a735a11",
   "metadata": {},
   "outputs": [
    {
     "name": "stdout",
     "output_type": "stream",
     "text": [
      "31\n"
     ]
    }
   ],
   "source": [
    "month = 8\n",
    "days_in_month = [31,28,31,30,31,30,31,31,30,31,30,31]\n",
    "\n",
    "# use list indexing to determine the number of days in month\n",
    "num_days = days_in_month[7]\n",
    "print(num_days)"
   ]
  },
  {
   "cell_type": "markdown",
   "id": "7b2544f6",
   "metadata": {},
   "source": [
    "2. Get the three most recent dates from this list using list slicing notation. Hint: negative indexes work in slices!"
   ]
  },
  {
   "cell_type": "code",
   "execution_count": 15,
   "id": "0b406619",
   "metadata": {},
   "outputs": [
    {
     "name": "stdout",
     "output_type": "stream",
     "text": [
      "['November 13, 2012', 'March 20, 2015', 'March 9, 2016']\n"
     ]
    }
   ],
   "source": [
    "eclipse_dates = ['June 21, 2001', 'December 4, 2002', 'November 23, 2003',\n",
    "                 'March 29, 2006', 'August 1, 2008', 'July 22, 2009',\n",
    "                 'July 11, 2010', 'November 13, 2012', 'March 20, 2015',\n",
    "                 'March 9, 2016']\n",
    "                 \n",
    "                 \n",
    "# TODO: Modify this line so it prints the last three elements of the list\n",
    "print(eclipse_dates[-3:])"
   ]
  },
  {
   "cell_type": "markdown",
   "id": "163e7164",
   "metadata": {},
   "source": [
    "3. Mutability Question: change this variable below to produce a string variable with value like ['we', 'want', 'to', 'register', 'a', 'complaint', '!']\n"
   ]
  },
  {
   "cell_type": "code",
   "execution_count": 22,
   "id": "c6d0e8f2",
   "metadata": {},
   "outputs": [
    {
     "name": "stdout",
     "output_type": "stream",
     "text": [
      "['we', 'want', 'to', 'register', 'a', 'complaint', '!']\n"
     ]
    }
   ],
   "source": [
    "#intial variable\n",
    "sentence1 = [\"I\", \"wish\", \"to\", \"register\", \"a\", \"complaint\", \".\"]\n",
    "#change elements here:\n",
    "sentence1[0:2] = [\"we\", \"want\"]\n",
    "sentence1[6] = \"!\"\n",
    "print(sentence1)"
   ]
  },
  {
   "cell_type": "markdown",
   "id": "73a89da5",
   "metadata": {},
   "source": [
    "# B. List Methods"
   ]
  },
  {
   "cell_type": "markdown",
   "id": "cf971e4b",
   "metadata": {},
   "source": [
    "Change list below to have this string : \"Albert & Ben & Carol & Donna\""
   ]
  },
  {
   "cell_type": "code",
   "execution_count": 37,
   "id": "0cde2062",
   "metadata": {},
   "outputs": [
    {
     "name": "stdout",
     "output_type": "stream",
     "text": [
      "Albert & Ben & Carol & Donna\n"
     ]
    }
   ],
   "source": [
    "#inital\n",
    "names = [\"Carol\", \"Albert\", \"Ben\", \"Donna\"]\n",
    "#transforms\n",
    "names = \" & \".join(sorted(names))\n",
    "print(names)"
   ]
  },
  {
   "cell_type": "markdown",
   "id": "627e5d52",
   "metadata": {},
   "source": [
    "# C. Tuples"
   ]
  },
  {
   "cell_type": "markdown",
   "id": "9c800407",
   "metadata": {},
   "source": [
    "Declare two tuple variables, first one with (), second one with out (). Compare them to check wether they are equal or not?"
   ]
  },
  {
   "cell_type": "code",
   "execution_count": 18,
   "id": "ebd0aaf0",
   "metadata": {},
   "outputs": [
    {
     "name": "stdout",
     "output_type": "stream",
     "text": [
      "True\n"
     ]
    }
   ],
   "source": [
    "tuple_a = 1, 2\n",
    "tuple_b = (1, 2)\n",
    "print(1 in tuple_a)"
   ]
  },
  {
   "cell_type": "markdown",
   "id": "9f8b5724",
   "metadata": {},
   "source": [
    "# D. Dictionaries"
   ]
  },
  {
   "cell_type": "markdown",
   "id": "2c0b9330",
   "metadata": {},
   "source": [
    "1. Define a dictionary named population that contains this data:\n",
    "Keys:Values\n",
    "Shanghai\t17.8\n",
    "Istanbul\t13.3\n",
    "Karachi\t13.0\n",
    "Mumbai\t12.5\n",
    "2. What happens if we look up a value that isn't in the dictionary? Create a test dictionary and use the square brackets to look up a value that you haven't defined. What happens?"
   ]
  },
  {
   "cell_type": "code",
   "execution_count": 33,
   "id": "b15e6345",
   "metadata": {},
   "outputs": [
    {
     "name": "stdout",
     "output_type": "stream",
     "text": [
      "{'Shanghai': 17.8, 'Istanbul': 13.3, 'Karachi': 13.0, 'Mumbai': 12.5}\n"
     ]
    }
   ],
   "source": [
    "#1\n",
    "dicn = {\"Shanghai\":17.8,\n",
    "        \"Istanbul\":13.3, \n",
    "        \"Karachi\":13.0, \n",
    "        \"Mumbai\":12.5}\n",
    "print(dicn)"
   ]
  },
  {
   "cell_type": "code",
   "execution_count": 32,
   "id": "ea14d361",
   "metadata": {},
   "outputs": [
    {
     "ename": "KeyError",
     "evalue": "'less'",
     "output_type": "error",
     "traceback": [
      "\u001b[0;31m---------------------------------------------------------------------------\u001b[0m",
      "\u001b[0;31mKeyError\u001b[0m                                  Traceback (most recent call last)",
      "Cell \u001b[0;32mIn[32], line 3\u001b[0m\n\u001b[1;32m      1\u001b[0m \u001b[38;5;66;03m#2\u001b[39;00m\n\u001b[1;32m      2\u001b[0m dic1 \u001b[38;5;241m=\u001b[39m {\u001b[38;5;124m\"\u001b[39m\u001b[38;5;124mboy\u001b[39m\u001b[38;5;124m\"\u001b[39m:\u001b[38;5;124m\"\u001b[39m\u001b[38;5;124mmale\u001b[39m\u001b[38;5;124m\"\u001b[39m, \u001b[38;5;124m\"\u001b[39m\u001b[38;5;124mgirl\u001b[39m\u001b[38;5;124m\"\u001b[39m:\u001b[38;5;124m\"\u001b[39m\u001b[38;5;124mfemale\u001b[39m\u001b[38;5;124m\"\u001b[39m}\n\u001b[0;32m----> 3\u001b[0m \u001b[38;5;28mprint\u001b[39m(\u001b[43mdic1\u001b[49m\u001b[43m[\u001b[49m\u001b[38;5;124;43m\"\u001b[39;49m\u001b[38;5;124;43mless\u001b[39;49m\u001b[38;5;124;43m\"\u001b[39;49m\u001b[43m]\u001b[49m)\n",
      "\u001b[0;31mKeyError\u001b[0m: 'less'"
     ]
    }
   ],
   "source": [
    "#2\n",
    "dic1 = {\"boy\":\"male\", \n",
    "        \"girl\":\"female\"}\n",
    "\n",
    "print(dic1[\"less\"])"
   ]
  },
  {
   "cell_type": "code",
   "execution_count": 35,
   "id": "e53d66f1",
   "metadata": {},
   "outputs": [
    {
     "name": "stdout",
     "output_type": "stream",
     "text": [
      "True\n",
      "False\n",
      "True\n",
      "True\n"
     ]
    }
   ],
   "source": [
    " a = [1, 2, 3]\n",
    "b = [1,2,3]\n",
    "c = b\n",
    "print(a==c) # True\n",
    "print(a is c) #false\n",
    "print(b==c) #true\n",
    "print(b is c) #False"
   ]
  },
  {
   "cell_type": "markdown",
   "id": "5701fe22",
   "metadata": {},
   "source": [
    "3. Use the dictionary below to answer ALL of the questions regarding dictionaries. Consider you have a dictionary named animals that looks like this:"
   ]
  },
  {
   "cell_type": "code",
   "execution_count": null,
   "id": "92afa117",
   "metadata": {},
   "outputs": [],
   "source": [
    "animals = {'dogs': [20, 10, 15, 8, 32, 15], \n",
    "           'cats': [3,4,2,8,2,4], \n",
    "           'rabbits': [2, 3, 3], \n",
    "           'fish': [0.3, 0.5, 0.8, 0.3, 1]}\n",
    "Let's"
   ]
  }
 ],
 "metadata": {
  "kernelspec": {
   "display_name": "Python 3 (ipykernel)",
   "language": "python",
   "name": "python3"
  },
  "language_info": {
   "codemirror_mode": {
    "name": "ipython",
    "version": 3
   },
   "file_extension": ".py",
   "mimetype": "text/x-python",
   "name": "python",
   "nbconvert_exporter": "python",
   "pygments_lexer": "ipython3",
   "version": "3.11.2"
  }
 },
 "nbformat": 4,
 "nbformat_minor": 5
}
