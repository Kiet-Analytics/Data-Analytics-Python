{
 "cells": [
  {
   "cell_type": "markdown",
   "id": "53f22a1f",
   "metadata": {},
   "source": [
    "# A. Arithmetic Operators's excersise."
   ]
  },
  {
   "cell_type": "markdown",
   "id": "20d874c1",
   "metadata": {},
   "source": [
    "1.  My electricity bills for the last three months have been 23, 23 and 64 dollars.What is the average monthly electricity bill over the three month period? Write an expression to calculate the mean, and use print() to view the result."
   ]
  },
  {
   "cell_type": "code",
   "execution_count": null,
   "id": "f7555ca3",
   "metadata": {},
   "outputs": [],
   "source": [
    "print((23+32+64) / 3)"
   ]
  },
  {
   "cell_type": "markdown",
   "id": "7a193479",
   "metadata": {},
   "source": [
    "2. In this quiz you're going to do some calculations for a tiler. Two parts of a floor need tiling. One part is 9 tiles wide by 7 tiles long, the other is 5 tiles wide by 7 tiles long. Tiles come in packages of 6.\n",
    "- How many tiles are needed?\n",
    "- You buy 17 packages of tiles containing 6 tiles each. How many tiles will be left over?"
   ]
  },
  {
   "cell_type": "code",
   "execution_count": null,
   "id": "284ef187",
   "metadata": {},
   "outputs": [],
   "source": [
    "#Q1\n",
    "print(9 * 7 + 5 * 7)\n",
    "\n",
    "#Q2\n",
    "print(17 * 6 - 98)"
   ]
  },
  {
   "cell_type": "code",
   "execution_count": null,
   "id": "20a3b848",
   "metadata": {},
   "outputs": [],
   "source": [
    "print((17 - 6)%(5 + 2))"
   ]
  },
  {
   "cell_type": "markdown",
   "id": "208ca0d4",
   "metadata": {},
   "source": [
    "# B. Variables and Assignment Operators"
   ]
  },
  {
   "cell_type": "markdown",
   "id": "3d686ae2",
   "metadata": {},
   "source": [
    "Write a line of code that implements the instruction."
   ]
  },
  {
   "cell_type": "code",
   "execution_count": null,
   "id": "0e7601ad",
   "metadata": {},
   "outputs": [],
   "source": [
    "# The current volume of a water reservoir (in cubic metres)\n",
    "reservoir_volume = 4.445e8\n",
    "\n",
    "# The amount of rainfall from a storm (in cubic metres)\n",
    "rainfall = 5e6\n",
    "\n",
    "# decrease the rainfall variable by 10% to account for runoff\n",
    "rainfall *= 0.9\n",
    "\n",
    "# add the rainfall variable to the reservoir_volume variable\n",
    "reservoir_volume += rainfall\n",
    "\n",
    "# increase reservoir_volume by 5% to account for stormwater that flows\n",
    "reservoir_volume *= 1.05\n",
    "\n",
    "# into the reservoir in the days following the storm\n",
    "# decrease reservoir_volume by 5% to account for evaporation\n",
    "reservoir_volume *= 0.95\n",
    "\n",
    "# subtract 2.5e5 cubic metres from reservoir_volume to account for water\n",
    "reservoir_volume -= 2.5 * 10**5\n",
    "\n",
    "# print the new value of the reservoir_volume variable\n",
    "print(reservoir_volume)"
   ]
  },
  {
   "cell_type": "markdown",
   "id": "abd69239",
   "metadata": {},
   "source": [
    "# C. Integers and Floats"
   ]
  },
  {
   "cell_type": "markdown",
   "id": "bfc5fa19",
   "metadata": {},
   "source": [
    "1. What happens if you divide by zero in Python? Try it out! Test run this code and see what happens.\n",
    "\n"
   ]
  },
  {
   "cell_type": "code",
   "execution_count": null,
   "id": "d5a88832",
   "metadata": {},
   "outputs": [],
   "source": [
    "print(5/0)"
   ]
  },
  {
   "cell_type": "markdown",
   "id": "43946308",
   "metadata": {},
   "source": [
    "2. it took 90mins to catch 20 fishs. Convert time to float, in hour"
   ]
  },
  {
   "cell_type": "code",
   "execution_count": null,
   "id": "3188c6fd",
   "metadata": {},
   "outputs": [],
   "source": [
    "hours (90 / 60)\n",
    "print(hours)"
   ]
  },
  {
   "cell_type": "markdown",
   "id": "bfdab64f",
   "metadata": {},
   "source": [
    "# D. Booleans, Comparison Operators, and Logical Operators"
   ]
  },
  {
   "cell_type": "markdown",
   "id": "b1d73f35",
   "metadata": {},
   "source": [
    "Try comparison operators in this quiz! This code calculates the population densities of Rio de Janeiro and San Francisco.\n",
    "\n",
    "Write code to compare these densities. Is the population of San Francisco more dense than that of Rio de Janeiro? Print True if it is and False if not."
   ]
  },
  {
   "cell_type": "code",
   "execution_count": null,
   "id": "067188ab",
   "metadata": {
    "scrolled": true
   },
   "outputs": [],
   "source": [
    "sf_population, sf_area = 864816, 231.89\n",
    "rio_population, rio_area = 6453682, 486.5\n",
    "\n",
    "san_francisco_pop_density = sf_population/sf_area\n",
    "rio_de_janeiro_pop_density = rio_population/rio_area\n",
    "# Write code that prints True if San Francisco is denser than Rio, and False otherwise\n",
    "print(san_francisco_pop_density > rio_de_janeiro_pop_density)\n",
    "print(san_francisco_pop_density < rio_de_janeiro_pop_density)\n",
    "\n",
    "if (san_francisco_pop_density > rio_de_janeiro_pop_density):\n",
    "    print (True)\n",
    "else:\n",
    "    print (False)\n"
   ]
  },
  {
   "cell_type": "markdown",
   "id": "39ec8d21",
   "metadata": {},
   "source": [
    "# E. strings"
   ]
  },
  {
   "cell_type": "markdown",
   "id": "bba13616",
   "metadata": {},
   "source": [
    "1. The line of code in the following quiz will cause a SyntaxError, thanks to the misuse of quotation marks. First run it with Test Run to view the error message. Then resolve the problem so that the quote (from Henry Ford) is correctly assigned to the variable ford_quote.\n",
    "ford_quote = 'Whether you think you can, or you think you can't--you're right.'"
   ]
  },
  {
   "cell_type": "code",
   "execution_count": null,
   "id": "069fe672",
   "metadata": {},
   "outputs": [],
   "source": [
    "# TODO: Fix this string!\n",
    "ford_quote = 'Whether you think you can, or you think you can\\'t--you\\'re right.'\n",
    "print(ford_quote)"
   ]
  },
  {
   "cell_type": "markdown",
   "id": "53877d13",
   "metadata": {},
   "source": [
    "2. Create two string variables then add them together to get value of 3415"
   ]
  },
  {
   "cell_type": "code",
   "execution_count": null,
   "id": "88ae3617",
   "metadata": {},
   "outputs": [],
   "source": [
    "coconut_count = \"34\"\n",
    "mango_count = \"15\"\n",
    "tropical_fruit_count = coconut_count + mango_count\n",
    "print(tropical_fruit_count)"
   ]
  },
  {
   "cell_type": "markdown",
   "id": "c5428e1a",
   "metadata": {},
   "source": [
    "3. You’ll be provided with example data for a user, the time of their visit and the site they accessed. You should use the variables provided and the techniques you’ve learned to print a log message like this one (with the username, url, and timestamp replaced with values from the appropriate variables):\n",
    "\"Yogesh accessed the site http://petshop.com/pets/reptiles/pythons at 16:20\".\n"
   ]
  },
  {
   "cell_type": "code",
   "execution_count": null,
   "id": "88d30084",
   "metadata": {},
   "outputs": [],
   "source": [
    "username = \"Kinari\"\n",
    "timestamp = \"04:50\"\n",
    "url = \"http://petshop.com/pets/mammals/cats\"\n",
    "logging_messages = username + \" accessed the site \" + url + \" at \" + timestamp\n",
    "print(logging_messages)\n"
   ]
  },
  {
   "cell_type": "markdown",
   "id": "e228b9e4",
   "metadata": {},
   "source": [
    "4. Use string concatenation and the len() function to find the length of a certain movie star's actual full name. Store that length in the name_length variable. Don't forget that there are spaces in between the different parts of a name!"
   ]
  },
  {
   "cell_type": "code",
   "execution_count": 2,
   "id": "8b174980",
   "metadata": {},
   "outputs": [
    {
     "name": "stdout",
     "output_type": "stream",
     "text": [
      "True\n"
     ]
    }
   ],
   "source": [
    "given_name = \"William\"\n",
    "middle_names = \"Bradley\"\n",
    "family_name = \"Pitt\"\n",
    "\n",
    "name_length = len(given_name + middle_names + family_name) + 2\n",
    "\n",
    "# Now we check to make sure that the name fits within the driving license character limit\n",
    "# Nothing you need to do here\n",
    "driving_license_character_limit = 28\n",
    "print(name_length <= driving_license_character_limit)"
   ]
  },
  {
   "cell_type": "code",
   "execution_count": 7,
   "id": "e2fa4ece",
   "metadata": {},
   "outputs": [
    {
     "name": "stdout",
     "output_type": "stream",
     "text": [
      "<class 'float'>\n"
     ]
    }
   ],
   "source": [
    "print(type(2.2))"
   ]
  },
  {
   "cell_type": "markdown",
   "id": "2a9ec606",
   "metadata": {},
   "source": [
    "# F. Type and Type Conversion"
   ]
  },
  {
   "cell_type": "markdown",
   "id": "88f0b0e7",
   "metadata": {},
   "source": [
    "Calculate and print the total sales for the week from the data provided. Print out a string of the form \"This week's total sales: xxx\", where xxx will be the actual total of all the numbers. You’ll need to change the type of the input data in order to calculate that total."
   ]
  },
  {
   "cell_type": "code",
   "execution_count": 8,
   "id": "12acd9dd",
   "metadata": {},
   "outputs": [
    {
     "name": "stdout",
     "output_type": "stream",
     "text": [
      "This week's total sales: 529\n"
     ]
    }
   ],
   "source": [
    "mon_sales = \"121\"\n",
    "tues_sales = \"105\"\n",
    "wed_sales = \"110\"\n",
    "thurs_sales = \"98\"\n",
    "fri_sales = \"95\"\n",
    "#TODO: Print a string with this format: This week's total sales: xxx\n",
    "total_sales = int(mon_sales) + int(tues_sales) + int(wed_sales) + int(thurs_sales) + int(fri_sales)\n",
    "print(\"This week's total sales: \" + str(total_sales))\n"
   ]
  },
  {
   "cell_type": "markdown",
   "id": "bba58c0c",
   "metadata": {},
   "source": [
    "# G. String Methods"
   ]
  },
  {
   "cell_type": "markdown",
   "id": "b625146a",
   "metadata": {},
   "source": [
    "1. Use the coding space below to practice using the format() string method. There are no right or wrong answers here, just practice!"
   ]
  },
  {
   "cell_type": "code",
   "execution_count": 11,
   "id": "c9068985",
   "metadata": {},
   "outputs": [
    {
     "name": "stdout",
     "output_type": "stream",
     "text": [
      "I love 2 and 3\n"
     ]
    }
   ],
   "source": [
    "# Write two lines off code below, each assigning a value to a variable\n",
    "math = 2\n",
    "chemistry = 3\n",
    "# Now write a print statement using .format() to print out a sentence and the \n",
    "print('I love {} and {}'.format(math, chemistry))"
   ]
  },
  {
   "cell_type": "code",
   "execution_count": 12,
   "id": "59608fad",
   "metadata": {},
   "outputs": [
    {
     "name": "stdout",
     "output_type": "stream",
     "text": [
      "['you', 'are so good']\n"
     ]
    }
   ],
   "source": [
    "a = \"you-are so good\"\n",
    "print(a.split('-'))"
   ]
  },
  {
   "cell_type": "markdown",
   "id": "b191031b",
   "metadata": {},
   "source": [
    "2. Below, we have a string variable that contains the first verse of the poem, If by Rudyard Kipling. Remember, \\n is a special sequence of characters that causes a line break (a new line).\n",
    "verse = \"If you can keep your head when all about you\\n  Are losing theirs and blaming it on you,\\nIf you can trust yourself when all men doubt you,\\n  But make allowance for their doubting too;\\nIf you can wait and not be tired by waiting,\\n  Or being lied about, don’t deal in lies,\\nOr being hated, don’t give way to hating,\\n  And yet don’t look too good, nor talk too wise:\"\n",
    "\n"
   ]
  },
  {
   "cell_type": "code",
   "execution_count": 23,
   "id": "cc26ed0f",
   "metadata": {},
   "outputs": [
    {
     "name": "stdout",
     "output_type": "stream",
     "text": [
      "Verse has a length of 362 characters\n",
      "The index of the first occurence of the word 'and' in verse is 65\n",
      "the index of the last occurence of the word 'you' is 186\n",
      "the count of occurences of the word 'you' in the verse is 8\n"
     ]
    }
   ],
   "source": [
    "verse = \"If you can keep your head when all about you\\n  Are losing theirs and blaming it on you,\\nIf you can trust yourself when all men doubt you,\\n  But make allowance for their doubting too;\\nIf you can wait and not be tired by waiting,\\n  Or being lied about, don’t deal in lies,\\nOr being hated, don’t give way to hating,\\n  And yet don’t look too good, nor talk too wise:\"\n",
    "#What is the length of the string variable verse?\n",
    "print(\"Verse has a length of {} characters\".format(len(verse)))\n",
    "\n",
    "#What is the index of the first occurrence of the word 'and' in verse?\n",
    "print(\"The index of the first occurence of the word 'and' in verse is {}\".format(verse.find('and')))\n",
    "\n",
    "#What is the index of the last occurrence of the word 'you' in verse?\n",
    "print(\"the index of the last occurence of the word 'you' is {}\".format(verse.rfind('you')))\n",
    "\n",
    "#What is the count of occurrences of the word 'you' in the verse?\n",
    "print(\"the count of occurences of the word 'you' in the verse is {}\".format(verse.count('you')))\n"
   ]
  },
  {
   "cell_type": "code",
   "execution_count": null,
   "id": "190e399a",
   "metadata": {},
   "outputs": [],
   "source": []
  }
 ],
 "metadata": {
  "kernelspec": {
   "display_name": "Python 3 (ipykernel)",
   "language": "python",
   "name": "python3"
  },
  "language_info": {
   "codemirror_mode": {
    "name": "ipython",
    "version": 3
   },
   "file_extension": ".py",
   "mimetype": "text/x-python",
   "name": "python",
   "nbconvert_exporter": "python",
   "pygments_lexer": "ipython3",
   "version": "3.11.2"
  }
 },
 "nbformat": 4,
 "nbformat_minor": 5
}
