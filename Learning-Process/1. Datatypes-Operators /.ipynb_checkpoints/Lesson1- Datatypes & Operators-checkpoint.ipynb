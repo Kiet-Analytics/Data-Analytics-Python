{
 "cells": [
  {
   "cell_type": "markdown",
   "id": "53f22a1f",
   "metadata": {},
   "source": [
    "# A. Arithmetic Operators's excersise."
   ]
  },
  {
   "cell_type": "markdown",
   "id": "20d874c1",
   "metadata": {},
   "source": [
    "1.  My electricity bills for the last three months have been 23, 23 and 64 dollars.What is the average monthly electricity bill over the three month period? Write an expression to calculate the mean, and use print() to view the result."
   ]
  },
  {
   "cell_type": "code",
   "execution_count": null,
   "id": "f7555ca3",
   "metadata": {},
   "outputs": [],
   "source": [
    "print((23+32+64) / 3)"
   ]
  },
  {
   "cell_type": "markdown",
   "id": "7a193479",
   "metadata": {},
   "source": [
    "2. In this quiz you're going to do some calculations for a tiler. Two parts of a floor need tiling. One part is 9 tiles wide by 7 tiles long, the other is 5 tiles wide by 7 tiles long. Tiles come in packages of 6.\n",
    "- How many tiles are needed?\n",
    "- You buy 17 packages of tiles containing 6 tiles each. How many tiles will be left over?"
   ]
  },
  {
   "cell_type": "code",
   "execution_count": 2,
   "id": "284ef187",
   "metadata": {},
   "outputs": [
    {
     "name": "stdout",
     "output_type": "stream",
     "text": [
      "98\n",
      "4\n"
     ]
    }
   ],
   "source": [
    "#Q1\n",
    "print(9 * 7 + 5 * 7)\n",
    "\n",
    "#Q2\n",
    "print(17 * 6 - 98)"
   ]
  },
  {
   "cell_type": "code",
   "execution_count": 6,
   "id": "20a3b848",
   "metadata": {},
   "outputs": [
    {
     "name": "stdout",
     "output_type": "stream",
     "text": [
      "1.5714285714285714\n"
     ]
    }
   ],
   "source": [
    "print((17 - 6)%(5 + 2))"
   ]
  },
  {
   "cell_type": "markdown",
   "id": "208ca0d4",
   "metadata": {},
   "source": [
    "# B. Variables and Assignment Operators"
   ]
  },
  {
   "cell_type": "markdown",
   "id": "3d686ae2",
   "metadata": {},
   "source": [
    "Write a line of code that implements the instruction."
   ]
  },
  {
   "cell_type": "code",
   "execution_count": 10,
   "id": "0e7601ad",
   "metadata": {},
   "outputs": [
    {
     "name": "stdout",
     "output_type": "stream",
     "text": [
      "447627500.0\n"
     ]
    }
   ],
   "source": [
    "# The current volume of a water reservoir (in cubic metres)\n",
    "reservoir_volume = 4.445e8\n",
    "\n",
    "# The amount of rainfall from a storm (in cubic metres)\n",
    "rainfall = 5e6\n",
    "\n",
    "# decrease the rainfall variable by 10% to account for runoff\n",
    "rainfall *= 0.9\n",
    "\n",
    "# add the rainfall variable to the reservoir_volume variable\n",
    "reservoir_volume += rainfall\n",
    "\n",
    "# increase reservoir_volume by 5% to account for stormwater that flows\n",
    "reservoir_volume *= 1.05\n",
    "\n",
    "# into the reservoir in the days following the storm\n",
    "# decrease reservoir_volume by 5% to account for evaporation\n",
    "reservoir_volume *= 0.95\n",
    "\n",
    "# subtract 2.5e5 cubic metres from reservoir_volume to account for water\n",
    "reservoir_volume -= 2.5 * 10**5\n",
    "\n",
    "# print the new value of the reservoir_volume variable\n",
    "print(reservoir_volume)"
   ]
  },
  {
   "cell_type": "markdown",
   "id": "abd69239",
   "metadata": {},
   "source": [
    "# C. Integers and Floats"
   ]
  },
  {
   "cell_type": "markdown",
   "id": "bfc5fa19",
   "metadata": {},
   "source": [
    "1. What happens if you divide by zero in Python? Try it out! Test run this code and see what happens.\n",
    "\n"
   ]
  },
  {
   "cell_type": "code",
   "execution_count": 17,
   "id": "d5a88832",
   "metadata": {},
   "outputs": [
    {
     "ename": "ZeroDivisionError",
     "evalue": "division by zero",
     "output_type": "error",
     "traceback": [
      "\u001b[0;31m---------------------------------------------------------------------------\u001b[0m",
      "\u001b[0;31mZeroDivisionError\u001b[0m                         Traceback (most recent call last)",
      "Cell \u001b[0;32mIn[17], line 1\u001b[0m\n\u001b[0;32m----> 1\u001b[0m \u001b[38;5;28mprint\u001b[39m(\u001b[38;5;241;43m5\u001b[39;49m\u001b[38;5;241;43m/\u001b[39;49m\u001b[38;5;241;43m0\u001b[39;49m)\n",
      "\u001b[0;31mZeroDivisionError\u001b[0m: division by zero"
     ]
    }
   ],
   "source": [
    "print(5/0)"
   ]
  },
  {
   "cell_type": "markdown",
   "id": "43946308",
   "metadata": {},
   "source": [
    "2. it took 90mins to catch 20 fishs. Convert time to float, in hour"
   ]
  },
  {
   "cell_type": "code",
   "execution_count": 19,
   "id": "3188c6fd",
   "metadata": {},
   "outputs": [
    {
     "name": "stdout",
     "output_type": "stream",
     "text": [
      "1.5\n"
     ]
    }
   ],
   "source": [
    "hours (90 / 60)\n",
    "print(hours)"
   ]
  },
  {
   "cell_type": "markdown",
   "id": "bfdab64f",
   "metadata": {},
   "source": [
    "# D. Booleans, Comparison Operators, and Logical Operators"
   ]
  },
  {
   "cell_type": "markdown",
   "id": "b1d73f35",
   "metadata": {},
   "source": [
    "Try comparison operators in this quiz! This code calculates the population densities of Rio de Janeiro and San Francisco.\n",
    "\n",
    "Write code to compare these densities. Is the population of San Francisco more dense than that of Rio de Janeiro? Print True if it is and False if not."
   ]
  },
  {
   "cell_type": "code",
   "execution_count": 21,
   "id": "067188ab",
   "metadata": {
    "scrolled": true
   },
   "outputs": [
    {
     "name": "stdout",
     "output_type": "stream",
     "text": [
      "False\n",
      "True\n",
      "False\n"
     ]
    }
   ],
   "source": [
    "sf_population, sf_area = 864816, 231.89\n",
    "rio_population, rio_area = 6453682, 486.5\n",
    "\n",
    "san_francisco_pop_density = sf_population/sf_area\n",
    "rio_de_janeiro_pop_density = rio_population/rio_area\n",
    "# Write code that prints True if San Francisco is denser than Rio, and False otherwise\n",
    "print(san_francisco_pop_density > rio_de_janeiro_pop_density)\n",
    "print(san_francisco_pop_density < rio_de_janeiro_pop_density)\n",
    "\n",
    "if (san_francisco_pop_density > rio_de_janeiro_pop_density):\n",
    "    print (True)\n",
    "else:\n",
    "    print (False)\n"
   ]
  },
  {
   "cell_type": "markdown",
   "id": "39ec8d21",
   "metadata": {},
   "source": [
    "# E. strings"
   ]
  },
  {
   "cell_type": "markdown",
   "id": "7ccddc6d",
   "metadata": {},
   "source": [
    "1. The line of code in the following quiz will cause a SyntaxError, thanks to the misuse of quotation marks. First run it with Test Run to view the error message. Then resolve the problem so that the quote (from Henry Ford) is correctly assigned to the variable ford_quote.\n",
    "ford_quote = 'Whether you think you can, or you think you can't--you're right.'"
   ]
  },
  {
   "cell_type": "code",
   "execution_count": 7,
   "id": "5de6bc41",
   "metadata": {},
   "outputs": [
    {
     "name": "stdout",
     "output_type": "stream",
     "text": [
      "Whether you think you can, or you think you can't--you're right.\n"
     ]
    }
   ],
   "source": [
    "# TODO: Fix this string!\n",
    "ford_quote = 'Whether you think you can, or you think you can\\'t--you\\'re right.'\n",
    "print(ford_quote)"
   ]
  },
  {
   "cell_type": "markdown",
   "id": "587b8fe3",
   "metadata": {},
   "source": [
    "2. We’ve already seen that the type of objects will affect how operators work on them. What will be the output of this code? \n"
   ]
  },
  {
   "cell_type": "code",
   "execution_count": 8,
   "id": "8eb6dab1",
   "metadata": {},
   "outputs": [
    {
     "name": "stdout",
     "output_type": "stream",
     "text": [
      "3415\n"
     ]
    }
   ],
   "source": [
    "coconut_count = \"34\"\n",
    "mango_count = \"15\"\n",
    "tropical_fruit_count = coconut_count + mango_count\n",
    "print(tropical_fruit_count)"
   ]
  },
  {
   "cell_type": "code",
   "execution_count": null,
   "id": "700858fa",
   "metadata": {},
   "outputs": [],
   "source": []
  }
 ],
 "metadata": {
  "kernelspec": {
   "display_name": "Python 3 (ipykernel)",
   "language": "python",
   "name": "python3"
  },
  "language_info": {
   "codemirror_mode": {
    "name": "ipython",
    "version": 3
   },
   "file_extension": ".py",
   "mimetype": "text/x-python",
   "name": "python",
   "nbconvert_exporter": "python",
   "pygments_lexer": "ipython3",
   "version": "3.11.2"
  }
 },
 "nbformat": 4,
 "nbformat_minor": 5
}
