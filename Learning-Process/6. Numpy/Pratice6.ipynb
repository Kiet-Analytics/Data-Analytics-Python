{
 "cells": [
  {
   "cell_type": "markdown",
   "id": "b9b5730e",
   "metadata": {},
   "source": [
    "# A.Creating and Saving Numpy ndarrays"
   ]
  },
  {
   "cell_type": "markdown",
   "id": "411d797c",
   "metadata": {},
   "source": [
    "1. Create some array object based on the following requirement below:"
   ]
  },
  {
   "cell_type": "code",
   "execution_count": null,
   "id": "2d295835",
   "metadata": {},
   "outputs": [],
   "source": [
    "#import numpy\n",
    "import numpy as np\n",
    "\n",
    "# We create a rank 1 ndarray that contains integers\n",
    "x = np.array([1,2,3])\n",
    "\n",
    "# We create a rank 1 ndarray that contains floats\n",
    "y = np.array([1.0,2.0,3.0])\n",
    "\n",
    "# We create a rank 1 ndarray that contains integers and floats\n",
    "z = np.array([1, 2.5, 4])\n",
    "\n",
    "# We print the dtype of each ndarray\n",
    "print('The elements in x are of type:', x.dtype)\n",
    "print('The elements in y are of type:', y.dtype)\n",
    "print(z)"
   ]
  },
  {
   "cell_type": "markdown",
   "id": "f70dbc8f",
   "metadata": {},
   "source": [
    "2. We create a rank 1 ndarray of floats but set the dtype to int64."
   ]
  },
  {
   "cell_type": "code",
   "execution_count": null,
   "id": "3281ecc6",
   "metadata": {},
   "outputs": [],
   "source": [
    "# We create a rank 1 ndarray of floats but set the dtype to int64\n",
    "x = np.array([1, 2, 3, 4, 5], dtype = np.float64)\n",
    "\n",
    "# We print x\n",
    "print()\n",
    "print('x = ', x)\n",
    "print()\n",
    "\n",
    "# We print the dtype x\n",
    "print('The elements in x are of type:', x.dtype)"
   ]
  },
  {
   "cell_type": "markdown",
   "id": "e0e910fd",
   "metadata": {},
   "source": [
    "3. Create, save and then load it to a array object toa file and use it later."
   ]
  },
  {
   "cell_type": "code",
   "execution_count": null,
   "id": "a2fa5d6d",
   "metadata": {},
   "outputs": [],
   "source": [
    "# We create a rank 1 ndarray\n",
    "x = np.array([1, 2, 3, 4, 5])\n",
    "\n",
    "# We save x into the current directory as \n",
    "np.save('my_array', x)\n"
   ]
  },
  {
   "cell_type": "code",
   "execution_count": null,
   "id": "33549c3c",
   "metadata": {},
   "outputs": [],
   "source": [
    "y = np.load('my_array.npy')\n",
    "print(y)"
   ]
  },
  {
   "cell_type": "markdown",
   "id": "45397493",
   "metadata": {},
   "source": [
    "# B.Using Built-in Functions to create ndarrays"
   ]
  },
  {
   "cell_type": "markdown",
   "id": "e7337c40",
   "metadata": {},
   "source": [
    "1. Create a numpy array of strings containing letters 'a' through 'j' (inclusive) of the alphabet. Then, use numpy array attributes to print the following information about this array:\n",
    "dtype of array,\n",
    "shape of array,\n",
    "size of array,\n"
   ]
  },
  {
   "cell_type": "code",
   "execution_count": null,
   "id": "9d3ece71",
   "metadata": {},
   "outputs": [],
   "source": [
    "import numpy as np\n",
    "\n",
    "# create numpy array of letters a-j\n",
    "list_chars =  [chr(i) for i in range(97,107)]\n",
    "    \n",
    "letter_array = np.array(list_chars)\n",
    "print(\"Letter Array: \", letter_array)\n",
    "\n",
    "# get dtype of array\n",
    "print(letter_array.dtype)\n",
    "\n",
    "# get shape of array\n",
    "print(letter_array.shape)\n",
    "\n",
    "\n",
    "# get size of array\n",
    "print(letter_array.size)"
   ]
  },
  {
   "cell_type": "markdown",
   "id": "aae27785",
   "metadata": {},
   "source": [
    "2. Using Numpy's functions to create 2D array with all elements equal to 0 (int) and 1.(float).\n"
   ]
  },
  {
   "cell_type": "code",
   "execution_count": null,
   "id": "982d1aae",
   "metadata": {},
   "outputs": [],
   "source": [
    "#2D array with all element equal to 0\n",
    "x =  np.zeros((3,4), dtype=int)\n",
    "print(x)\n",
    "\n",
    "#2D array with all element equal to 1\n",
    "y = np.ones((3,4))\n",
    "print(y)\n"
   ]
  },
  {
   "cell_type": "markdown",
   "id": "a8110373",
   "metadata": {},
   "source": [
    "3. Using function np.full() to create 3x5 2Darray with all elements equal to 10"
   ]
  },
  {
   "cell_type": "code",
   "execution_count": null,
   "id": "236dc763",
   "metadata": {},
   "outputs": [],
   "source": [
    "z = np.full((3,5), 6)\n",
    "print(z)"
   ]
  },
  {
   "cell_type": "markdown",
   "id": "56c4489c",
   "metadata": {},
   "source": [
    "4. create a identity matrix 5x5 with all elements equal to 0 except value in diagonal (equal to 1)."
   ]
  },
  {
   "cell_type": "code",
   "execution_count": null,
   "id": "eddacdea",
   "metadata": {},
   "outputs": [],
   "source": [
    "square_array = np.eye(5, dtype=int)\n",
    "print(square_array)"
   ]
  },
  {
   "cell_type": "markdown",
   "id": "6df7d876",
   "metadata": {},
   "source": [
    "5. Create a 6x6 diagonal matrix with value in diagonal equal to 10, 20, 30, 40, 50, 60 chronically."
   ]
  },
  {
   "cell_type": "code",
   "execution_count": null,
   "id": "fdc7cedb",
   "metadata": {},
   "outputs": [],
   "source": [
    "diagonal_matrix = np.diag([10,20,30,40,50,60])\n",
    "print(diagonal_matrix)"
   ]
  },
  {
   "cell_type": "markdown",
   "id": "7a22bb2f",
   "metadata": {},
   "source": [
    "6. Using the Built-in functions you learned about in the\n",
    "previous lesson, create a 4 x 4 ndarray that only\n",
    "contains consecutive even numbers from 2 to 32 (inclusive)"
   ]
  },
  {
   "cell_type": "code",
   "execution_count": null,
   "id": "84dcd002",
   "metadata": {},
   "outputs": [],
   "source": [
    "import numpy as np\n",
    "# using np.arange() method\n",
    "x = np.arange(2, 33, 2).reshape(4,4)\n",
    "print(x)\n",
    "\n",
    "# using np.linspace() method\n",
    "y = np.linspace(2,32, 16).reshape(4,4)\n",
    "\n",
    "print(y)"
   ]
  },
  {
   "cell_type": "markdown",
   "id": "36eb20ec",
   "metadata": {},
   "source": [
    "6. Create 3x3 array with random elements (float)."
   ]
  },
  {
   "cell_type": "code",
   "execution_count": null,
   "id": "d0cc171d",
   "metadata": {},
   "outputs": [],
   "source": [
    "random_array = np.random.random((3,3))\n",
    "print(random_array)"
   ]
  },
  {
   "cell_type": "markdown",
   "id": "6d7ef4e6",
   "metadata": {},
   "source": [
    "7. Create 5x6 array with random elements within a range that we define."
   ]
  },
  {
   "cell_type": "code",
   "execution_count": null,
   "id": "a09d3d37",
   "metadata": {},
   "outputs": [],
   "source": [
    "random_array = np.random.randint(0,5, (5,6))\n",
    "print(random_array)"
   ]
  },
  {
   "cell_type": "markdown",
   "id": "c85025ec",
   "metadata": {},
   "source": [
    "8. Create a 4x4 ndarray with the average of all elements equal to 1 and standard deviation 0.1"
   ]
  },
  {
   "cell_type": "code",
   "execution_count": null,
   "id": "323d89d1",
   "metadata": {},
   "outputs": [],
   "source": [
    "X = np.random.normal(1, 0.1, size=(4,4))\n",
    "\n",
    "print(X)\n",
    "print('An array has total {} elements > 1'.format((X > 1).sum()))\n",
    "print('An array has total {} elements < 1'.format((X < 1).sum()))\n",
    "print('the average of x: ', X.mean())\n",
    "print('Biggest value in array:', X.max())\n",
    "print('Smallest value in array:', X.min())"
   ]
  },
  {
   "cell_type": "markdown",
   "id": "dfd74ff2",
   "metadata": {},
   "source": [
    "# C. Accessing, deleting and inserting elements into ndarrays "
   ]
  },
  {
   "cell_type": "markdown",
   "id": "a3e0d1a0",
   "metadata": {},
   "source": [
    "1. Extract value from 1D and 2D array."
   ]
  },
  {
   "cell_type": "code",
   "execution_count": null,
   "id": "288e41fa",
   "metadata": {},
   "outputs": [],
   "source": [
    "#Extract element's value at index=5 from 1D array\n",
    "rank1_array = np.arange(10)\n",
    "print(rank1_array)\n",
    "print('Value of element has index = 5 equal to: {}'.format(rank1_array[5]), '\\n')\n",
    "\n",
    "#Extract element's value at (1st row and 2nd column) , (2nd row and 3nd column)  from 2D array\n",
    "rank2_array = np.arange(15).reshape(3,5)\n",
    "print(rank2_array)\n",
    "print('value at 1st row and 2nd column is: {}'.format(rank2_array[0,1]))\n",
    "print('value at 2nd row and 3nd column is: {}'.format(rank2_array[1,2]))\n"
   ]
  },
  {
   "cell_type": "markdown",
   "id": "773df9c3",
   "metadata": {},
   "source": [
    "2. Delete elememts from 1D array and 2D array."
   ]
  },
  {
   "cell_type": "code",
   "execution_count": null,
   "id": "d22e4e2d",
   "metadata": {},
   "outputs": [],
   "source": [
    "# Delete the first and the last elements at from 1D array.\n",
    "r1_array = np.arange(10)\n",
    "print('initial 1D array: ', r1_array)\n",
    "\n",
    "r1_array = np.delete(r1_array, [0, -1])\n",
    "print('1D array after remove elements:', '\\n', r1_array)\n",
    "\n",
    "# Delete multi rows in 2D array\n",
    "r2_array1 = np.arange(10).reshape(5,2)\n",
    "print('initial 2D array: ', '\\n', r2_array)\n",
    "\n",
    "r2_array1 = np.delete(r2_array1, [0,2], axis = 0)\n",
    "print('2D array after remove 1st . 3nd rows:', '\\n', r2_array1)\n",
    "\n",
    "## Delete multi column in 2D array\n",
    "r2_array2 = np.arange(10).reshape(2,5)\n",
    "print('initial 2D array: ', '\\n', r2_array2)\n",
    "\n",
    "r2_array2 = np.delete(r2_array2, [1, -1], axis = 1)\n",
    "print('2D array after remove 2nd , last column:', '\\n', r2_array2)"
   ]
  },
  {
   "cell_type": "markdown",
   "id": "97922192",
   "metadata": {},
   "source": [
    "3. Append value to ndarrays"
   ]
  },
  {
   "cell_type": "code",
   "execution_count": null,
   "id": "5f936000",
   "metadata": {},
   "outputs": [],
   "source": [
    "#Create 3x3 array\n",
    "x = np.arange(1,10).reshape(3,3)\n",
    "print('Origional array: \\n', x)\n",
    "\n",
    "#append two new rows\n",
    "y = np.append(x, [[10,11,12], [11,32,31]], axis=0)\n",
    "print('Array after append a row:\\n', y)\n",
    "\n",
    "#append two new columns\n",
    "z = np.append(x, [[13, 22 [14, 16], [15, 5]] ,axis=1)\n",
    "print('Array after append a column:\\n', z)\n"
   ]
  },
  {
   "cell_type": "markdown",
   "id": "916e7dcd",
   "metadata": {},
   "source": [
    "4. Using vstack function to perform NDarray."
   ]
  },
  {
   "cell_type": "code",
   "execution_count": null,
   "id": "8e7aa2f9",
   "metadata": {},
   "outputs": [],
   "source": [
    "# We create a rank 1 ndarray \n",
    "x = np.array([[1,2], [9,0]])\n",
    "# We create a rank 2 ndarray \n",
    "y = np.array([3,4])\n",
    "\n",
    "z = np.vstack((x, y))\n",
    "print('After stack two 2 arrays of x and y:', '\\n', z)\n"
   ]
  },
  {
   "cell_type": "markdown",
   "id": "08fbe8a0",
   "metadata": {},
   "source": [
    "5. Using hstack function to perform NDarray."
   ]
  },
  {
   "cell_type": "code",
   "execution_count": null,
   "id": "fd746aa9",
   "metadata": {},
   "outputs": [],
   "source": [
    "# We create a rank 2 ndarray \n",
    "x = np.array([[1,2], [3,4], [5,6]])\n",
    "\n",
    "\n",
    "# We create a rank 1 ndarray \n",
    "y = np.array([5,6,7])\n",
    "\n",
    "#hstack of x and y.\n",
    "z = np.hstack((x, y.reshape(3,1)))\n",
    "print('After stack two 2 arrays of x and y:', '\\n', z)\n"
   ]
  },
  {
   "cell_type": "markdown",
   "id": "5afa6764",
   "metadata": {},
   "source": [
    "# D. Slicing ndarrays"
   ]
  },
  {
   "cell_type": "markdown",
   "id": "9afdace2",
   "metadata": {},
   "source": [
    "1. Create 2nd array (4x5) and perform at 3 slices then save it into new variables."
   ]
  },
  {
   "cell_type": "code",
   "execution_count": null,
   "id": "f0199eec",
   "metadata": {},
   "outputs": [],
   "source": [
    "#Create 4x5 array\n",
    "X = np.arange(20).reshape(4,5)\n",
    "print(X, '\\n')\n",
    "\n",
    "#Use slicing to get 1st column and 2nd column in X\n",
    "Y = X[:, 1:3]\n",
    "print('Array Y (a view from orginal array X): ','\\n', Y)\n",
    "\n",
    "#Use slicing to get the last two rows of X but just contains only the last two columns in X\n",
    "Z = X[2:, 3:]\n",
    "print('Array Z (a view from orginal array X): ','\\n', Z)\n",
    "\n",
    "#Use slicling to get only 4th columns of X\n",
    "W = X[:, 3:4]\n",
    "print('Array W (a view from orginal array X): ','\\n', W)\n"
   ]
  },
  {
   "cell_type": "markdown",
   "id": "7e1d5597",
   "metadata": {},
   "source": [
    "2. Using np.copy() function to create and save a copied slice to a new variable. Try to change  the element in new varibale to see whether it changes the value in orginal array or not."
   ]
  },
  {
   "cell_type": "code",
   "execution_count": null,
   "id": "ec4f0e6b",
   "metadata": {},
   "outputs": [],
   "source": [
    "#Create 4x6 array\n",
    "X = np.arange(24).reshape(4,6)\n",
    "print('riginal array X: ', '\\n', X)\n",
    "\n",
    "#Using copy function to have a new variable from the orginal one, not just a view.\n",
    "Y = X[1:, 3:].copy()\n",
    "print('independent array Y: ','\\n', Y)\n",
    "\n",
    "#change value in array Y and test whether it also changes in orginal array X or not.\n",
    "Y[0, 2] = 12\n",
    "print('array Y after change: ', '\\n', Y)\n",
    "print('Original array X after change element in array Y: ', '\\n', X)\n",
    "\n"
   ]
  },
  {
   "cell_type": "markdown",
   "id": "6621a4cc",
   "metadata": {},
   "source": [
    "3. Using 1D array to make slices, select or change elements in other array"
   ]
  },
  {
   "cell_type": "code",
   "execution_count": null,
   "id": "1400baa0",
   "metadata": {},
   "outputs": [],
   "source": [
    "#Create 1D array as an indices\n",
    "indices = np.array([1,3])\n",
    "\n",
    "#create 2D 4x5 array.\n",
    "array = np.arange(20).reshape(4,5)\n",
    "print('array: ', '\\n', array)\n",
    "\n",
    "#Use indices to get 2nd and 4th rows in array\n",
    "x = array[indices, :]\n",
    "print('array x contains 2nd and 4th rows in array: ', '\\n', x)\n",
    "\n",
    "#Use #Use indices to get 2nd and 4th columns in array\n",
    "y = array[:, indices]\n",
    "print('array y contains 2nd and 4th columns in array: ', '\\n', y)\n"
   ]
  },
  {
   "cell_type": "markdown",
   "id": "2d6c81ba",
   "metadata": {},
   "source": [
    "4. Using function np.diag() to extract the value of the main diagonal or the value of the above, below diagonals."
   ]
  },
  {
   "cell_type": "code",
   "execution_count": null,
   "id": "44554bc9",
   "metadata": {},
   "outputs": [],
   "source": [
    "#Create a 6x6 array\n",
    "x = np.arange(36).reshape(6,6)\n",
    "print('x: ', '\\n', x)\n",
    "\n",
    "#extract elements lie on the main diagonal\n",
    "main_diag = np.diag(x)\n",
    "print('elements in the main diagonal:' ,main_diag)\n",
    "\n",
    "#extract elements of the diagonal which is above the main diagonal.\n",
    "above1_diag = np.diag(x, k=1)\n",
    "print('the 1st diagonal above the main diagonal: ', above1_diag)\n",
    "above2_diag = np.diag(x, k=2)\n",
    "print('the 2nd diagonal above the main diagonal: ', above2_diag)\n",
    "\n",
    "#extract elements of the diagonal which is below the main diagonal.\n",
    "below1_diag = np.diag(x, k=-1)\n",
    "print('the 1st diagonal below the main diagonal: ', below1_diag)\n",
    "below2_diag = np.diag(x, k=-2)\n",
    "print('the 2nd diagonal below the main diagonal: ', below2_diag)\n"
   ]
  },
  {
   "cell_type": "markdown",
   "id": "b5453372",
   "metadata": {},
   "source": [
    "5. Extract unique value from  ndarray using built-in function"
   ]
  },
  {
   "cell_type": "code",
   "execution_count": 6,
   "id": "ba274938",
   "metadata": {},
   "outputs": [
    {
     "name": "stdout",
     "output_type": "stream",
     "text": [
      "[[ 1  2  3  1]\n",
      " [ 4  3  7  8]\n",
      " [ 4  1 78  1]\n",
      " [ 1  2  4  2]]\n",
      "unique value:  [ 1  2  3  4  7  8 78]\n"
     ]
    }
   ],
   "source": [
    "import numpy as np\n",
    "#create 4x4 array with duplicates\n",
    "x = np.array([[1,2,3,1],[4,3,7,8],[4,1,78,1],[1,2,4,2]]).reshape(4,4)\n",
    "print(x)\n",
    "\n",
    "#extract unique values.\n",
    "print('unique value: ',np.unique(x))"
   ]
  },
  {
   "cell_type": "code",
   "execution_count": null,
   "id": "ef793da7",
   "metadata": {},
   "outputs": [],
   "source": []
  },
  {
   "cell_type": "code",
   "execution_count": null,
   "id": "33bf844e",
   "metadata": {},
   "outputs": [],
   "source": []
  }
 ],
 "metadata": {
  "kernelspec": {
   "display_name": "Python 3 (ipykernel)",
   "language": "python",
   "name": "python3"
  },
  "language_info": {
   "codemirror_mode": {
    "name": "ipython",
    "version": 3
   },
   "file_extension": ".py",
   "mimetype": "text/x-python",
   "name": "python",
   "nbconvert_exporter": "python",
   "pygments_lexer": "ipython3",
   "version": "3.11.2"
  }
 },
 "nbformat": 4,
 "nbformat_minor": 5
}
