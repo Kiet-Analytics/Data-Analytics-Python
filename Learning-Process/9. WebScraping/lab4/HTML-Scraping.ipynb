{
 "cells": [
  {
   "cell_type": "markdown",
   "metadata": {},
   "source": [
    "<p style=\"text-align:center\">\n",
    "    <a href=\"https://skills.network/?utm_medium=Exinfluencer&utm_source=Exinfluencer&utm_content=000026UJ&utm_term=10006555&utm_id=NA-SkillsNetwork-Channel-SkillsNetworkCoursesIBMDeveloperSkillsNetworkPY0101ENSkillsNetwork1005-2022-01-01\" target=\"_blank\">\n",
    "    <img src=\"https://cf-courses-data.s3.us.cloud-object-storage.appdomain.cloud/assets/logos/SN_web_lightmode.png\" width=\"200\" alt=\"Skills Network Logo\"  />\n",
    "    </a>\n",
    "</p>\n"
   ]
  },
  {
   "cell_type": "markdown",
   "metadata": {},
   "source": [
    "# **Web Scraping Lab**\n"
   ]
  },
  {
   "cell_type": "markdown",
   "metadata": {},
   "source": [
    "Estimated time needed: **30** minutes\n"
   ]
  },
  {
   "cell_type": "markdown",
   "metadata": {},
   "source": [
    "## Objectives\n"
   ]
  },
  {
   "cell_type": "markdown",
   "metadata": {},
   "source": [
    "\n",
    "After completing this lab you will be:\n",
    "\n",
    "* Familiar with the basics of the `BeautifulSoup` Python library \n",
    "* Be able to scrape webpages for data and filter the data \n"
   ]
  },
  {
   "cell_type": "markdown",
   "metadata": {},
   "source": [
    "<h2>Table of Contents</h2>\n",
    "<div class=\"alert alert-block alert-info\" style=\"margin-top: 20px\">\n",
    "    <ul>\n",
    "        <li>\n",
    "            <a href=\"BSO\">Beautiful Soup Object</a>\n",
    "            <ul>\n",
    "                <li>Tag</li>\n",
    "                <li>Children, Parents, and Siblings</li>\n",
    "                <li>HTML Attributes</li>\n",
    "                <li>Navigable String</li>\n",
    "            </ul>\n",
    "        </li>\n",
    "     </ul>\n",
    "    <ul>\n",
    "        <li>\n",
    "            <a href=\"filter\">Filter</a>\n",
    "            <ul>\n",
    "                <li>find All</li>\n",
    "                <li>find </li>\n",
    "                <li>HTML Attributes</li>\n",
    "                <li>Navigable String</li>\n",
    "            </ul>\n",
    "        </li>\n",
    "     </ul>\n",
    "     <ul>\n",
    "        <li>\n",
    "            <a href=\"DSCW\">Downloading And Scraping The Contents Of A Web</a>\n",
    "    </p>\n",
    "    \n",
    "</div>\n",
    "\n",
    "<hr>\n"
   ]
  },
  {
   "cell_type": "markdown",
   "metadata": {},
   "source": [
    "For this lab, we are going to be using Python and several Python libraries. Some of these libraries might be installed in your lab environment or in SN Labs. Others may need to be installed by you. The cells below will install these libraries when executed.\n"
   ]
  },
  {
   "cell_type": "code",
   "execution_count": 3,
   "metadata": {
    "tags": []
   },
   "outputs": [
    {
     "name": "stdout",
     "output_type": "stream",
     "text": [
      "Requirement already satisfied: bs4 in /Library/Frameworks/Python.framework/Versions/3.11/lib/python3.11/site-packages (0.0.2)\n",
      "Requirement already satisfied: beautifulsoup4 in /Library/Frameworks/Python.framework/Versions/3.11/lib/python3.11/site-packages (from bs4) (4.12.2)\n",
      "Requirement already satisfied: soupsieve>1.2 in /Library/Frameworks/Python.framework/Versions/3.11/lib/python3.11/site-packages (from beautifulsoup4->bs4) (2.4.1)\n",
      "Requirement already satisfied: requests in /Library/Frameworks/Python.framework/Versions/3.11/lib/python3.11/site-packages (2.31.0)\n",
      "Requirement already satisfied: charset-normalizer<4,>=2 in /Library/Frameworks/Python.framework/Versions/3.11/lib/python3.11/site-packages (from requests) (3.1.0)\n",
      "Requirement already satisfied: idna<4,>=2.5 in /Library/Frameworks/Python.framework/Versions/3.11/lib/python3.11/site-packages (from requests) (3.4)\n",
      "Requirement already satisfied: urllib3<3,>=1.21.1 in /Library/Frameworks/Python.framework/Versions/3.11/lib/python3.11/site-packages (from requests) (1.26.15)\n",
      "Requirement already satisfied: certifi>=2017.4.17 in /Library/Frameworks/Python.framework/Versions/3.11/lib/python3.11/site-packages (from requests) (2024.7.4)\n"
     ]
    }
   ],
   "source": [
    "!pip install bs4\n",
    "!pip install requests"
   ]
  },
  {
   "cell_type": "markdown",
   "metadata": {},
   "source": [
    "Import the required modules and functions\n"
   ]
  },
  {
   "cell_type": "code",
   "execution_count": 4,
   "metadata": {
    "tags": []
   },
   "outputs": [],
   "source": [
    "from bs4 import BeautifulSoup # this module helps in web scrapping.\n",
    "import requests  # this module helps us to download a web page"
   ]
  },
  {
   "cell_type": "markdown",
   "metadata": {},
   "source": [
    "<h2 id=\"BSO\">Beautiful Soup Objects</h2>\n"
   ]
  },
  {
   "cell_type": "markdown",
   "metadata": {},
   "source": [
    "Beautiful Soup is a Python library for pulling data out of HTML and XML files, we will focus on HTML files. This is accomplished by representing the HTML as a set of objects with methods used to parse the HTML.  We can navigate the HTML as a tree, and/or filter out what we are looking for.  \n",
    "\n",
    "Consider the following HTML:\n"
   ]
  },
  {
   "cell_type": "code",
   "execution_count": 5,
   "metadata": {
    "tags": []
   },
   "outputs": [
    {
     "data": {
      "text/html": [
       "<!DOCTYPE html>\n",
       "<html>\n",
       "<head>\n",
       "<title>Page Title</title>\n",
       "</head>\n",
       "<body>\n",
       "<h3><b id='boldest'>Lebron James</b></h3>\n",
       "<p> Salary: $ 92,000,000 </p>\n",
       "<h3> Stephen Curry</h3>\n",
       "<p> Salary: $85,000, 000 </p>\n",
       "<h3> Kevin Durant </h3>\n",
       "<p> Salary: $73,200, 000</p>\n",
       "</body>\n",
       "</html>\n"
      ],
      "text/plain": [
       "<IPython.core.display.HTML object>"
      ]
     },
     "metadata": {},
     "output_type": "display_data"
    }
   ],
   "source": [
    "%%html\n",
    "<!DOCTYPE html>\n",
    "<html>\n",
    "<head>\n",
    "<title>Page Title</title>\n",
    "</head>\n",
    "<body>\n",
    "<h3><b id='boldest'>Lebron James</b></h3>\n",
    "<p> Salary: $ 92,000,000 </p>\n",
    "<h3> Stephen Curry</h3>\n",
    "<p> Salary: $85,000, 000 </p>\n",
    "<h3> Kevin Durant </h3>\n",
    "<p> Salary: $73,200, 000</p>\n",
    "</body>\n",
    "</html>"
   ]
  },
  {
   "cell_type": "markdown",
   "metadata": {},
   "source": [
    "We can store it as a string in the variable HTML:\n"
   ]
  },
  {
   "cell_type": "code",
   "execution_count": 6,
   "metadata": {
    "tags": []
   },
   "outputs": [],
   "source": [
    "html = \"<!DOCTYPE html><html><head><title>Page Title</title></head><body><h3><b id='boldest'>Lebron James</b></h3><p> Salary: $ 92,000,000 </p><h3> Stephen Curry</h3><p> Salary: $85,000, 000 </p><h3> Kevin Durant </h3><p> Salary: $73,200, 000</p></body></html>\""
   ]
  },
  {
   "cell_type": "markdown",
   "metadata": {},
   "source": [
    "To parse a document, pass it into the <code>BeautifulSoup</code> constructor. The <code>BeautifulSoup</code> object represents the document as a nested data structure:\n"
   ]
  },
  {
   "cell_type": "code",
   "execution_count": 7,
   "metadata": {
    "tags": []
   },
   "outputs": [],
   "source": [
    "soup = BeautifulSoup(html, 'html.parser')"
   ]
  },
  {
   "cell_type": "markdown",
   "metadata": {},
   "source": [
    "First, the document is converted to Unicode (similar to ASCII) and HTML entities are converted to Unicode characters. Beautiful Soup transforms a complex HTML document into a complex tree of Python objects. The <code>BeautifulSoup</code> object can create other types of objects. In this lab, we will cover <code>BeautifulSoup</code> and <code>Tag</code> objects, that for the purposes of this lab are identical. Finally, we will look at <code>NavigableString</code> objects.\n"
   ]
  },
  {
   "cell_type": "markdown",
   "metadata": {},
   "source": [
    "We can use the method <code>prettify()</code> to display the HTML in the nested structure:\n"
   ]
  },
  {
   "cell_type": "code",
   "execution_count": 8,
   "metadata": {
    "tags": []
   },
   "outputs": [
    {
     "name": "stdout",
     "output_type": "stream",
     "text": [
      "<!DOCTYPE html>\n",
      "<html>\n",
      " <head>\n",
      "  <title>\n",
      "   Page Title\n",
      "  </title>\n",
      " </head>\n",
      " <body>\n",
      "  <h3>\n",
      "   <b id=\"boldest\">\n",
      "    Lebron James\n",
      "   </b>\n",
      "  </h3>\n",
      "  <p>\n",
      "   Salary: $ 92,000,000\n",
      "  </p>\n",
      "  <h3>\n",
      "   Stephen Curry\n",
      "  </h3>\n",
      "  <p>\n",
      "   Salary: $85,000, 000\n",
      "  </p>\n",
      "  <h3>\n",
      "   Kevin Durant\n",
      "  </h3>\n",
      "  <p>\n",
      "   Salary: $73,200, 000\n",
      "  </p>\n",
      " </body>\n",
      "</html>\n",
      "\n"
     ]
    }
   ],
   "source": [
    "print(soup.prettify())"
   ]
  },
  {
   "cell_type": "markdown",
   "metadata": {},
   "source": [
    "## Tags\n"
   ]
  },
  {
   "cell_type": "markdown",
   "metadata": {},
   "source": [
    "Let's say we want the  title of the page and the name of the top paid player. We can use the <code>Tag</code>. The <code>Tag</code> object corresponds to an HTML tag in the original document, for example, the tag title.\n"
   ]
  },
  {
   "cell_type": "code",
   "execution_count": 9,
   "metadata": {
    "tags": []
   },
   "outputs": [
    {
     "name": "stdout",
     "output_type": "stream",
     "text": [
      "Tag_object:\n",
      " <title>Page Title</title>\n"
     ]
    }
   ],
   "source": [
    "tag_object = soup.title\n",
    "print('Tag_object:\\n', tag_object)"
   ]
  },
  {
   "cell_type": "markdown",
   "metadata": {},
   "source": [
    "we can see the tag type <code>bs4.element.Tag</code>\n"
   ]
  },
  {
   "cell_type": "code",
   "execution_count": 10,
   "metadata": {
    "tags": []
   },
   "outputs": [
    {
     "name": "stdout",
     "output_type": "stream",
     "text": [
      "tag object type: <class 'bs4.element.Tag'>\n"
     ]
    }
   ],
   "source": [
    "print(\"tag object type:\",type(tag_object))"
   ]
  },
  {
   "cell_type": "markdown",
   "metadata": {},
   "source": [
    "If there is more than one <code>Tag</code> with the same name, the first element with that <code>Tag</code> name is called. This corresponds to the most paid player: \n"
   ]
  },
  {
   "cell_type": "code",
   "execution_count": 11,
   "metadata": {
    "tags": []
   },
   "outputs": [
    {
     "data": {
      "text/plain": [
       "<h3><b id=\"boldest\">Lebron James</b></h3>"
      ]
     },
     "execution_count": 11,
     "metadata": {},
     "output_type": "execute_result"
    }
   ],
   "source": [
    "tag_object=soup.h3\n",
    "tag_object"
   ]
  },
  {
   "cell_type": "markdown",
   "metadata": {},
   "source": [
    "Enclosed in the bold attribute <code>b</code>, it helps to use the tree representation. We can navigate down the tree using the child attribute to get the name. \n"
   ]
  },
  {
   "cell_type": "markdown",
   "metadata": {},
   "source": [
    "### Children, Parents, and Siblings\n"
   ]
  },
  {
   "cell_type": "markdown",
   "metadata": {},
   "source": [
    "As stated above, the <code>Tag</code> object is a tree of objects. We can access the child of the tag or navigate down the branch as follows:\n"
   ]
  },
  {
   "cell_type": "code",
   "execution_count": 12,
   "metadata": {
    "tags": []
   },
   "outputs": [
    {
     "data": {
      "text/plain": [
       "<b id=\"boldest\">Lebron James</b>"
      ]
     },
     "execution_count": 12,
     "metadata": {},
     "output_type": "execute_result"
    }
   ],
   "source": [
    "tag_child =tag_object.b\n",
    "tag_child"
   ]
  },
  {
   "cell_type": "markdown",
   "metadata": {},
   "source": [
    "You can access the parent with the <code> parent</code>\n"
   ]
  },
  {
   "cell_type": "code",
   "execution_count": 13,
   "metadata": {
    "tags": []
   },
   "outputs": [
    {
     "data": {
      "text/plain": [
       "<h3><b id=\"boldest\">Lebron James</b></h3>"
      ]
     },
     "execution_count": 13,
     "metadata": {},
     "output_type": "execute_result"
    }
   ],
   "source": [
    "parent_tag=tag_child.parent\n",
    "parent_tag"
   ]
  },
  {
   "cell_type": "markdown",
   "metadata": {},
   "source": [
    "this is identical to: \n"
   ]
  },
  {
   "cell_type": "code",
   "execution_count": 14,
   "metadata": {
    "tags": []
   },
   "outputs": [
    {
     "data": {
      "text/plain": [
       "<h3><b id=\"boldest\">Lebron James</b></h3>"
      ]
     },
     "execution_count": 14,
     "metadata": {},
     "output_type": "execute_result"
    }
   ],
   "source": [
    "tag_object"
   ]
  },
  {
   "cell_type": "markdown",
   "metadata": {},
   "source": [
    "<code>tag_object</code> parent is the <code>body</code> element.\n"
   ]
  },
  {
   "cell_type": "code",
   "execution_count": 15,
   "metadata": {
    "tags": []
   },
   "outputs": [
    {
     "data": {
      "text/plain": [
       "<body><h3><b id=\"boldest\">Lebron James</b></h3><p> Salary: $ 92,000,000 </p><h3> Stephen Curry</h3><p> Salary: $85,000, 000 </p><h3> Kevin Durant </h3><p> Salary: $73,200, 000</p></body>"
      ]
     },
     "execution_count": 15,
     "metadata": {},
     "output_type": "execute_result"
    }
   ],
   "source": [
    "tag_object.parent"
   ]
  },
  {
   "cell_type": "markdown",
   "metadata": {},
   "source": [
    "<code>tag_object</code> sibling is the <code>paragraph</code> element\n"
   ]
  },
  {
   "cell_type": "code",
   "execution_count": 16,
   "metadata": {
    "tags": []
   },
   "outputs": [
    {
     "data": {
      "text/plain": [
       "<p> Salary: $ 92,000,000 </p>"
      ]
     },
     "execution_count": 16,
     "metadata": {},
     "output_type": "execute_result"
    }
   ],
   "source": [
    "sibling_1=tag_object.next_sibling\n",
    "sibling_1"
   ]
  },
  {
   "cell_type": "markdown",
   "metadata": {},
   "source": [
    "`sibling_2` is the `header` element, which is also a sibling of both `sibling_1` and `tag_object`\n"
   ]
  },
  {
   "cell_type": "code",
   "execution_count": 17,
   "metadata": {
    "tags": []
   },
   "outputs": [
    {
     "data": {
      "text/plain": [
       "<h3> Stephen Curry</h3>"
      ]
     },
     "execution_count": 17,
     "metadata": {},
     "output_type": "execute_result"
    }
   ],
   "source": [
    "sibling_2=sibling_1.next_sibling\n",
    "sibling_2"
   ]
  },
  {
   "cell_type": "markdown",
   "metadata": {},
   "source": [
    "<h3 id=\"first_question\">Exercise: <code>next_sibling</code></h3>\n"
   ]
  },
  {
   "cell_type": "markdown",
   "metadata": {},
   "source": [
    "Use the object <code>sibling_2</code> and the method <code>next_sibling</code> to find the salary of Stephen Curry:\n"
   ]
  },
  {
   "cell_type": "code",
   "execution_count": 18,
   "metadata": {
    "tags": []
   },
   "outputs": [
    {
     "data": {
      "text/plain": [
       "<p> Salary: $85,000, 000 </p>"
      ]
     },
     "execution_count": 18,
     "metadata": {},
     "output_type": "execute_result"
    }
   ],
   "source": [
    "price_Curry = sibling_2.next_sibling\n",
    "price_Curry"
   ]
  },
  {
   "cell_type": "markdown",
   "metadata": {},
   "source": [
    "### HTML Attributes\n"
   ]
  },
  {
   "cell_type": "markdown",
   "metadata": {},
   "source": [
    "If the tag has attributes, the tag <code>id=\"boldest\"</code> has an attribute <code>id</code> whose value is <code>boldest</code>. You can access a tag’s attributes by treating the tag like a dictionary:\n"
   ]
  },
  {
   "cell_type": "code",
   "execution_count": 19,
   "metadata": {
    "tags": []
   },
   "outputs": [
    {
     "data": {
      "text/plain": [
       "'boldest'"
      ]
     },
     "execution_count": 19,
     "metadata": {},
     "output_type": "execute_result"
    }
   ],
   "source": [
    "tag_child['id']"
   ]
  },
  {
   "cell_type": "markdown",
   "metadata": {},
   "source": [
    "You can access that dictionary directly as <code>attrs</code>:\n"
   ]
  },
  {
   "cell_type": "code",
   "execution_count": 20,
   "metadata": {
    "tags": []
   },
   "outputs": [
    {
     "data": {
      "text/plain": [
       "{'id': 'boldest'}"
      ]
     },
     "execution_count": 20,
     "metadata": {},
     "output_type": "execute_result"
    }
   ],
   "source": [
    "tag_child.attrs"
   ]
  },
  {
   "cell_type": "markdown",
   "metadata": {},
   "source": [
    "You can also work with Multi-valued attributes. Check out <a href=\"https://www.crummy.com/software/BeautifulSoup/bs4/doc/?utm_medium=Exinfluencer&utm_source=Exinfluencer&utm_content=000026UJ&utm_term=10006555&utm_id=NA-SkillsNetwork-Channel-SkillsNetworkCoursesIBMDeveloperSkillsNetworkPY0101ENSkillsNetwork1005-2022-01-01\">[1]</a> for more.\n"
   ]
  },
  {
   "cell_type": "markdown",
   "metadata": {},
   "source": [
    "We can also obtain the content of the attribute of the <code>tag</code> using the Python <code>get()</code> method.\n"
   ]
  },
  {
   "cell_type": "code",
   "execution_count": 21,
   "metadata": {
    "tags": []
   },
   "outputs": [
    {
     "data": {
      "text/plain": [
       "'boldest'"
      ]
     },
     "execution_count": 21,
     "metadata": {},
     "output_type": "execute_result"
    }
   ],
   "source": [
    "tag_child.get('id')"
   ]
  },
  {
   "cell_type": "markdown",
   "metadata": {},
   "source": [
    "### Navigable String\n"
   ]
  },
  {
   "cell_type": "markdown",
   "metadata": {},
   "source": [
    "A string corresponds to a bit of text or content within a tag. Beautiful Soup uses the <code>NavigableString</code> class to contain this text. In our HTML we can obtain the name of the first player by extracting the string of the <code>Tag</code> object <code>tag_child</code> as follows:\n"
   ]
  },
  {
   "cell_type": "code",
   "execution_count": 22,
   "metadata": {
    "tags": []
   },
   "outputs": [
    {
     "data": {
      "text/plain": [
       "'Lebron James'"
      ]
     },
     "execution_count": 22,
     "metadata": {},
     "output_type": "execute_result"
    }
   ],
   "source": [
    "tag_string=tag_child.string\n",
    "tag_string"
   ]
  },
  {
   "cell_type": "markdown",
   "metadata": {},
   "source": [
    "we can verify the type is Navigable String\n"
   ]
  },
  {
   "cell_type": "code",
   "execution_count": 23,
   "metadata": {
    "tags": []
   },
   "outputs": [
    {
     "data": {
      "text/plain": [
       "bs4.element.NavigableString"
      ]
     },
     "execution_count": 23,
     "metadata": {},
     "output_type": "execute_result"
    }
   ],
   "source": [
    "type(tag_string)"
   ]
  },
  {
   "cell_type": "markdown",
   "metadata": {},
   "source": [
    "A NavigableString is similar to a Python string or Unicode string. To be more precise, the main difference is that it also supports some <code>BeautifulSoup</code> features. We can convert it to string object in Python:\n"
   ]
  },
  {
   "cell_type": "code",
   "execution_count": 24,
   "metadata": {
    "tags": []
   },
   "outputs": [
    {
     "data": {
      "text/plain": [
       "'Lebron James'"
      ]
     },
     "execution_count": 24,
     "metadata": {},
     "output_type": "execute_result"
    }
   ],
   "source": [
    "unicode_string = str(tag_string)\n",
    "unicode_string"
   ]
  },
  {
   "cell_type": "markdown",
   "metadata": {},
   "source": [
    "<h2 id=\"filter\">Filter</h2>\n"
   ]
  },
  {
   "cell_type": "markdown",
   "metadata": {},
   "source": [
    "Filters allow you to find complex patterns, the simplest filter is a string. In this section we will pass a string to a different filter method and Beautiful Soup will perform a match against that exact string. Consider the following HTML of rocket launches:\n"
   ]
  },
  {
   "cell_type": "code",
   "execution_count": 25,
   "metadata": {},
   "outputs": [
    {
     "data": {
      "text/html": [
       "<table>\n",
       "  <tr>\n",
       "    <td id='flight' >Flight No</td>\n",
       "    <td>Launch site</td> \n",
       "    <td>Payload mass</td>\n",
       "   </tr>\n",
       "  <tr> \n",
       "    <td>1</td>\n",
       "    <td><a href='https://en.wikipedia.org/wiki/Florida'>Florida</a></td>\n",
       "    <td>300 kg</td>\n",
       "  </tr>\n",
       "  <tr>\n",
       "    <td>2</td>\n",
       "    <td><a href='https://en.wikipedia.org/wiki/Texas'>Texas</a></td>\n",
       "    <td>94 kg</td>\n",
       "  </tr>\n",
       "  <tr>\n",
       "    <td>3</td>\n",
       "    <td><a href='https://en.wikipedia.org/wiki/Florida'>Florida<a> </td>\n",
       "    <td>80 kg</td>\n",
       "  </tr>\n",
       "</table>\n"
      ],
      "text/plain": [
       "<IPython.core.display.HTML object>"
      ]
     },
     "metadata": {},
     "output_type": "display_data"
    }
   ],
   "source": [
    "%%html\n",
    "<table>\n",
    "  <tr>\n",
    "    <td id='flight' >Flight No</td>\n",
    "    <td>Launch site</td> \n",
    "    <td>Payload mass</td>\n",
    "   </tr>\n",
    "  <tr> \n",
    "    <td>1</td>\n",
    "    <td><a href='https://en.wikipedia.org/wiki/Florida'>Florida</a></td>\n",
    "    <td>300 kg</td>\n",
    "  </tr>\n",
    "  <tr>\n",
    "    <td>2</td>\n",
    "    <td><a href='https://en.wikipedia.org/wiki/Texas'>Texas</a></td>\n",
    "    <td>94 kg</td>\n",
    "  </tr>\n",
    "  <tr>\n",
    "    <td>3</td>\n",
    "    <td><a href='https://en.wikipedia.org/wiki/Florida'>Florida<a> </td>\n",
    "    <td>80 kg</td>\n",
    "  </tr>\n",
    "</table>"
   ]
  },
  {
   "cell_type": "markdown",
   "metadata": {},
   "source": [
    "We can store it as a string in the variable <code>table</code>:\n"
   ]
  },
  {
   "cell_type": "code",
   "execution_count": 26,
   "metadata": {},
   "outputs": [],
   "source": [
    "table=\"<table><tr><td id='flight'>Flight No</td><td>Launch site</td> <td>Payload mass</td></tr><tr> <td>1</td><td><a href='https://en.wikipedia.org/wiki/Florida'>Florida<a></td><td>300 kg</td></tr><tr><td>2</td><td><a href='https://en.wikipedia.org/wiki/Texas'>Texas</a></td><td>94 kg</td></tr><tr><td>3</td><td><a href='https://en.wikipedia.org/wiki/Florida'>Florida<a> </td><td>80 kg</td></tr></table>\""
   ]
  },
  {
   "cell_type": "code",
   "execution_count": 27,
   "metadata": {},
   "outputs": [],
   "source": [
    "table_bs = BeautifulSoup(table, 'html.parser')\n"
   ]
  },
  {
   "cell_type": "markdown",
   "metadata": {},
   "source": [
    "## find All\n"
   ]
  },
  {
   "cell_type": "markdown",
   "metadata": {},
   "source": [
    "The <code>find_all()</code> method looks through a tag’s descendants and retrieves all descendants that match your filters. \n",
    "\n",
    "<p>\n",
    "The Method signature for <code>find_all(name, attrs, recursive, string, limit, **kwargs)<c/ode>\n",
    "</p>\n",
    " \n"
   ]
  },
  {
   "cell_type": "markdown",
   "metadata": {},
   "source": [
    "### Name\n"
   ]
  },
  {
   "cell_type": "markdown",
   "metadata": {},
   "source": [
    "When we set the <code>name</code> parameter to a tag name, the method will extract all the tags with that name and its children.\n"
   ]
  },
  {
   "cell_type": "code",
   "execution_count": 28,
   "metadata": {
    "scrolled": true
   },
   "outputs": [
    {
     "data": {
      "text/plain": [
       "[<tr><td id=\"flight\">Flight No</td><td>Launch site</td> <td>Payload mass</td></tr>,\n",
       " <tr> <td>1</td><td><a href=\"https://en.wikipedia.org/wiki/Florida\">Florida<a></a></a></td><td>300 kg</td></tr>,\n",
       " <tr><td>2</td><td><a href=\"https://en.wikipedia.org/wiki/Texas\">Texas</a></td><td>94 kg</td></tr>,\n",
       " <tr><td>3</td><td><a href=\"https://en.wikipedia.org/wiki/Florida\">Florida<a> </a></a></td><td>80 kg</td></tr>]"
      ]
     },
     "execution_count": 28,
     "metadata": {},
     "output_type": "execute_result"
    }
   ],
   "source": [
    "table_rows=table_bs.find_all('tr')\n",
    "table_rows"
   ]
  },
  {
   "cell_type": "code",
   "execution_count": 29,
   "metadata": {},
   "outputs": [
    {
     "data": {
      "text/plain": [
       "'https://en.wikipedia.org/wiki/Florida'"
      ]
     },
     "execution_count": 29,
     "metadata": {},
     "output_type": "execute_result"
    }
   ],
   "source": [
    "#task extract each cell of a table \n",
    "tables_rows  = table_bs.find_all('tr')\n",
    "row_2 = tables_rows[1]\n",
    "list_row2 = row_2.find_all('td')\n",
    "list_row2[1].a['href']"
   ]
  },
  {
   "cell_type": "markdown",
   "metadata": {},
   "source": [
    "The result is a Python Iterable just like a list, each element is a <code>tag</code> object:\n"
   ]
  },
  {
   "cell_type": "code",
   "execution_count": 30,
   "metadata": {},
   "outputs": [
    {
     "data": {
      "text/plain": [
       "<tr><td id=\"flight\">Flight No</td><td>Launch site</td> <td>Payload mass</td></tr>"
      ]
     },
     "execution_count": 30,
     "metadata": {},
     "output_type": "execute_result"
    }
   ],
   "source": [
    "first_row =tables_rows[0]\n",
    "first_row"
   ]
  },
  {
   "cell_type": "markdown",
   "metadata": {},
   "source": [
    "The type is <code>tag</code>\n"
   ]
  },
  {
   "cell_type": "code",
   "execution_count": 31,
   "metadata": {},
   "outputs": [
    {
     "name": "stdout",
     "output_type": "stream",
     "text": [
      "<class 'bs4.element.Tag'>\n"
     ]
    }
   ],
   "source": [
    "print(type(first_row))"
   ]
  },
  {
   "cell_type": "markdown",
   "metadata": {},
   "source": [
    "we can obtain the child \n"
   ]
  },
  {
   "cell_type": "code",
   "execution_count": 32,
   "metadata": {},
   "outputs": [
    {
     "data": {
      "text/plain": [
       "<td id=\"flight\">Flight No</td>"
      ]
     },
     "execution_count": 32,
     "metadata": {},
     "output_type": "execute_result"
    }
   ],
   "source": [
    "first_row.td"
   ]
  },
  {
   "cell_type": "markdown",
   "metadata": {},
   "source": [
    "If we iterate through the list, each element corresponds to a row in the table:\n"
   ]
  },
  {
   "cell_type": "code",
   "execution_count": 33,
   "metadata": {},
   "outputs": [
    {
     "name": "stdout",
     "output_type": "stream",
     "text": [
      "row 0 is <tr><td id=\"flight\">Flight No</td><td>Launch site</td> <td>Payload mass</td></tr>\n",
      "row 1 is <tr> <td>1</td><td><a href=\"https://en.wikipedia.org/wiki/Florida\">Florida<a></a></a></td><td>300 kg</td></tr>\n",
      "row 2 is <tr><td>2</td><td><a href=\"https://en.wikipedia.org/wiki/Texas\">Texas</a></td><td>94 kg</td></tr>\n",
      "row 3 is <tr><td>3</td><td><a href=\"https://en.wikipedia.org/wiki/Florida\">Florida<a> </a></a></td><td>80 kg</td></tr>\n"
     ]
    }
   ],
   "source": [
    "for i,row in enumerate(table_rows):\n",
    "    print(\"row\",i,\"is\",row)"
   ]
  },
  {
   "cell_type": "markdown",
   "metadata": {},
   "source": [
    "As <code>row</code> is a <code>cell</code> object, we can apply the method <code>find_all</code> to it and extract table cells in the object <code>cells</code> using the tag <code>td</code>, this is all the children with the name <code>td</code>. The result is a list, each element corresponds to a cell and is a <code>Tag</code> object, we can iterate through this list as well. We can extract the content using the <code>string</code> attribute.\n"
   ]
  },
  {
   "cell_type": "code",
   "execution_count": 34,
   "metadata": {},
   "outputs": [
    {
     "name": "stdout",
     "output_type": "stream",
     "text": [
      "row 0\n",
      "colunm 0 cell <td id=\"flight\">Flight No</td>\n",
      "colunm 1 cell <td>Launch site</td>\n",
      "colunm 2 cell <td>Payload mass</td>\n",
      "row 1\n",
      "colunm 0 cell <td>1</td>\n",
      "colunm 1 cell <td><a href=\"https://en.wikipedia.org/wiki/Florida\">Florida<a></a></a></td>\n",
      "colunm 2 cell <td>300 kg</td>\n",
      "row 2\n",
      "colunm 0 cell <td>2</td>\n",
      "colunm 1 cell <td><a href=\"https://en.wikipedia.org/wiki/Texas\">Texas</a></td>\n",
      "colunm 2 cell <td>94 kg</td>\n",
      "row 3\n",
      "colunm 0 cell <td>3</td>\n",
      "colunm 1 cell <td><a href=\"https://en.wikipedia.org/wiki/Florida\">Florida<a> </a></a></td>\n",
      "colunm 2 cell <td>80 kg</td>\n"
     ]
    }
   ],
   "source": [
    "for i,row in enumerate(table_rows):\n",
    "    print(\"row\",i)\n",
    "    cells=row.find_all('td')\n",
    "    for j,cell in enumerate(cells):\n",
    "        print('colunm',j,\"cell\",cell)"
   ]
  },
  {
   "cell_type": "markdown",
   "metadata": {},
   "source": [
    "If we use a list we can match against any item in that list.\n"
   ]
  },
  {
   "cell_type": "code",
   "execution_count": 35,
   "metadata": {},
   "outputs": [
    {
     "data": {
      "text/plain": [
       "[<tr><td id=\"flight\">Flight No</td><td>Launch site</td> <td>Payload mass</td></tr>,\n",
       " <td id=\"flight\">Flight No</td>,\n",
       " <td>Launch site</td>,\n",
       " <td>Payload mass</td>,\n",
       " <tr> <td>1</td><td><a href=\"https://en.wikipedia.org/wiki/Florida\">Florida<a></a></a></td><td>300 kg</td></tr>,\n",
       " <td>1</td>,\n",
       " <td><a href=\"https://en.wikipedia.org/wiki/Florida\">Florida<a></a></a></td>,\n",
       " <td>300 kg</td>,\n",
       " <tr><td>2</td><td><a href=\"https://en.wikipedia.org/wiki/Texas\">Texas</a></td><td>94 kg</td></tr>,\n",
       " <td>2</td>,\n",
       " <td><a href=\"https://en.wikipedia.org/wiki/Texas\">Texas</a></td>,\n",
       " <td>94 kg</td>,\n",
       " <tr><td>3</td><td><a href=\"https://en.wikipedia.org/wiki/Florida\">Florida<a> </a></a></td><td>80 kg</td></tr>,\n",
       " <td>3</td>,\n",
       " <td><a href=\"https://en.wikipedia.org/wiki/Florida\">Florida<a> </a></a></td>,\n",
       " <td>80 kg</td>]"
      ]
     },
     "execution_count": 35,
     "metadata": {},
     "output_type": "execute_result"
    }
   ],
   "source": [
    "list_input=table_bs .find_all(name=[\"tr\", \"td\"])\n",
    "list_input"
   ]
  },
  {
   "cell_type": "markdown",
   "metadata": {},
   "source": [
    "## Attributes \n"
   ]
  },
  {
   "cell_type": "markdown",
   "metadata": {},
   "source": [
    "If the argument is not recognized it will be turned into a filter on the tag’s attributes. For example with the <code>id</code> argument, Beautiful Soup will filter against each tag’s <code>id</code> attribute. For example, the first <code>td</code> elements have a value of <code>id</code> of <code>flight</code>, therefore we can filter based on that <code>id</code> value. \n"
   ]
  },
  {
   "cell_type": "code",
   "execution_count": 36,
   "metadata": {},
   "outputs": [
    {
     "data": {
      "text/plain": [
       "[<td id=\"flight\">Flight No</td>]"
      ]
     },
     "execution_count": 36,
     "metadata": {},
     "output_type": "execute_result"
    }
   ],
   "source": [
    "table_bs.find_all(id=\"flight\")\n"
   ]
  },
  {
   "cell_type": "markdown",
   "metadata": {},
   "source": [
    "We can find all the elements that have links to the Florida Wikipedia page:\n"
   ]
  },
  {
   "cell_type": "code",
   "execution_count": 37,
   "metadata": {},
   "outputs": [
    {
     "data": {
      "text/plain": [
       "[<a href=\"https://en.wikipedia.org/wiki/Florida\">Florida<a></a></a>,\n",
       " <a href=\"https://en.wikipedia.org/wiki/Florida\">Florida<a> </a></a>]"
      ]
     },
     "execution_count": 37,
     "metadata": {},
     "output_type": "execute_result"
    }
   ],
   "source": [
    "list_input=table_bs.find_all(href=\"https://en.wikipedia.org/wiki/Florida\")\n",
    "list_input"
   ]
  },
  {
   "cell_type": "markdown",
   "metadata": {},
   "source": [
    "If we set the <code>href</code> attribute to True, regardless of what the value is, the code finds all tags with <code>href</code> value:\n"
   ]
  },
  {
   "cell_type": "code",
   "execution_count": 38,
   "metadata": {},
   "outputs": [
    {
     "data": {
      "text/plain": [
       "[<a href=\"https://en.wikipedia.org/wiki/Florida\">Florida<a></a></a>,\n",
       " <a href=\"https://en.wikipedia.org/wiki/Texas\">Texas</a>,\n",
       " <a href=\"https://en.wikipedia.org/wiki/Florida\">Florida<a> </a></a>]"
      ]
     },
     "execution_count": 38,
     "metadata": {},
     "output_type": "execute_result"
    }
   ],
   "source": [
    "table_bs.find_all(href=True)"
   ]
  },
  {
   "cell_type": "markdown",
   "metadata": {},
   "source": [
    "There are other methods for dealing with attributes and other related methods. Check out the following <a href='https://www.crummy.com/software/BeautifulSoup/bs4/doc/?utm_medium=Exinfluencer&utm_source=Exinfluencer&utm_content=000026UJ&utm_term=10006555&utm_id=NA-SkillsNetwork-Channel-SkillsNetworkCoursesIBMDeveloperSkillsNetworkPY0101ENSkillsNetwork1005-2022-01-01#css-selectors'>link</a>\n"
   ]
  },
  {
   "cell_type": "markdown",
   "metadata": {},
   "source": [
    "<h3 id=\"exer_type\">Exercise: <code>find_all</code></h3>\n"
   ]
  },
  {
   "cell_type": "markdown",
   "metadata": {},
   "source": [
    "Using the logic above, find all the elements without <code>href</code> value \n"
   ]
  },
  {
   "cell_type": "code",
   "execution_count": 39,
   "metadata": {
    "scrolled": false
   },
   "outputs": [
    {
     "data": {
      "text/plain": [
       "[<table><tr><td id=\"flight\">Flight No</td><td>Launch site</td> <td>Payload mass</td></tr><tr> <td>1</td><td><a href=\"https://en.wikipedia.org/wiki/Florida\">Florida<a></a></a></td><td>300 kg</td></tr><tr><td>2</td><td><a href=\"https://en.wikipedia.org/wiki/Texas\">Texas</a></td><td>94 kg</td></tr><tr><td>3</td><td><a href=\"https://en.wikipedia.org/wiki/Florida\">Florida<a> </a></a></td><td>80 kg</td></tr></table>,\n",
       " <tr><td id=\"flight\">Flight No</td><td>Launch site</td> <td>Payload mass</td></tr>,\n",
       " <td id=\"flight\">Flight No</td>,\n",
       " <td>Launch site</td>,\n",
       " <td>Payload mass</td>,\n",
       " <tr> <td>1</td><td><a href=\"https://en.wikipedia.org/wiki/Florida\">Florida<a></a></a></td><td>300 kg</td></tr>,\n",
       " <td>1</td>,\n",
       " <td><a href=\"https://en.wikipedia.org/wiki/Florida\">Florida<a></a></a></td>,\n",
       " <a></a>,\n",
       " <td>300 kg</td>,\n",
       " <tr><td>2</td><td><a href=\"https://en.wikipedia.org/wiki/Texas\">Texas</a></td><td>94 kg</td></tr>,\n",
       " <td>2</td>,\n",
       " <td><a href=\"https://en.wikipedia.org/wiki/Texas\">Texas</a></td>,\n",
       " <td>94 kg</td>,\n",
       " <tr><td>3</td><td><a href=\"https://en.wikipedia.org/wiki/Florida\">Florida<a> </a></a></td><td>80 kg</td></tr>,\n",
       " <td>3</td>,\n",
       " <td><a href=\"https://en.wikipedia.org/wiki/Florida\">Florida<a> </a></a></td>,\n",
       " <a> </a>,\n",
       " <td>80 kg</td>]"
      ]
     },
     "execution_count": 39,
     "metadata": {},
     "output_type": "execute_result"
    }
   ],
   "source": [
    "table_bs.find_all(href=False)"
   ]
  },
  {
   "cell_type": "markdown",
   "metadata": {},
   "source": [
    "Using the soup object <code>soup</code>, find the element with the <code>id</code> attribute content set to <code>\"boldest\"</code>. \n"
   ]
  },
  {
   "cell_type": "code",
   "execution_count": 40,
   "metadata": {},
   "outputs": [
    {
     "data": {
      "text/plain": [
       "[<b id=\"boldest\">Lebron James</b>]"
      ]
     },
     "execution_count": 40,
     "metadata": {},
     "output_type": "execute_result"
    }
   ],
   "source": [
    "soup.find_all(id='boldest')"
   ]
  },
  {
   "cell_type": "markdown",
   "metadata": {},
   "source": [
    "### string\n"
   ]
  },
  {
   "cell_type": "markdown",
   "metadata": {},
   "source": [
    "With string you can search for strings instead of tags, where we find all the elments with Florida:\n"
   ]
  },
  {
   "cell_type": "code",
   "execution_count": 41,
   "metadata": {},
   "outputs": [
    {
     "data": {
      "text/plain": [
       "['Florida', 'Florida']"
      ]
     },
     "execution_count": 41,
     "metadata": {},
     "output_type": "execute_result"
    }
   ],
   "source": [
    "table_bs.find_all(string=\"Florida\")"
   ]
  },
  {
   "cell_type": "markdown",
   "metadata": {},
   "source": [
    "## find\n"
   ]
  },
  {
   "cell_type": "markdown",
   "metadata": {},
   "source": [
    "The <code>find_all()</code> method scans the entire document looking for results. It’s useful if you are looking for one element, as you can use the <code>find()</code> method to find the first element in the document. Consider the following two tables:\n"
   ]
  },
  {
   "cell_type": "code",
   "execution_count": 42,
   "metadata": {},
   "outputs": [
    {
     "data": {
      "text/html": [
       "<h3>Rocket Launch </h3>\n",
       "\n",
       "<p>\n",
       "<table class='rocket'>\n",
       "  <tr>\n",
       "    <td>Flight No</td>\n",
       "    <td>Launch site</td> \n",
       "    <td>Payload mass</td>\n",
       "  </tr>\n",
       "  <tr>\n",
       "    <td>1</td>\n",
       "    <td>Florida</td>\n",
       "    <td>300 kg</td>\n",
       "  </tr>\n",
       "  <tr>\n",
       "    <td>2</td>\n",
       "    <td>Texas</td>\n",
       "    <td>94 kg</td>\n",
       "  </tr>\n",
       "  <tr>\n",
       "    <td>3</td>\n",
       "    <td>Florida </td>\n",
       "    <td>80 kg</td>\n",
       "  </tr>\n",
       "</table>\n",
       "</p>\n",
       "<p>\n",
       "\n",
       "<h3>Pizza Party  </h3>\n",
       "  \n",
       "    \n",
       "<table class='pizza'>\n",
       "  <tr>\n",
       "    <td>Pizza Place</td>\n",
       "    <td>Orders</td> \n",
       "    <td>Slices </td>\n",
       "   </tr>\n",
       "  <tr>\n",
       "    <td>Domino's Pizza</td>\n",
       "    <td>10</td>\n",
       "    <td>100</td>\n",
       "  </tr>\n",
       "  <tr>\n",
       "    <td>Little Caesars</td>\n",
       "    <td>12</td>\n",
       "    <td >144 </td>\n",
       "  </tr>\n",
       "  <tr>\n",
       "    <td>Papa John's </td>\n",
       "    <td>15 </td>\n",
       "    <td>165</td>\n",
       "  </tr>\n"
      ],
      "text/plain": [
       "<IPython.core.display.HTML object>"
      ]
     },
     "metadata": {},
     "output_type": "display_data"
    }
   ],
   "source": [
    "%%html\n",
    "<h3>Rocket Launch </h3>\n",
    "\n",
    "<p>\n",
    "<table class='rocket'>\n",
    "  <tr>\n",
    "    <td>Flight No</td>\n",
    "    <td>Launch site</td> \n",
    "    <td>Payload mass</td>\n",
    "  </tr>\n",
    "  <tr>\n",
    "    <td>1</td>\n",
    "    <td>Florida</td>\n",
    "    <td>300 kg</td>\n",
    "  </tr>\n",
    "  <tr>\n",
    "    <td>2</td>\n",
    "    <td>Texas</td>\n",
    "    <td>94 kg</td>\n",
    "  </tr>\n",
    "  <tr>\n",
    "    <td>3</td>\n",
    "    <td>Florida </td>\n",
    "    <td>80 kg</td>\n",
    "  </tr>\n",
    "</table>\n",
    "</p>\n",
    "<p>\n",
    "\n",
    "<h3>Pizza Party  </h3>\n",
    "  \n",
    "    \n",
    "<table class='pizza'>\n",
    "  <tr>\n",
    "    <td>Pizza Place</td>\n",
    "    <td>Orders</td> \n",
    "    <td>Slices </td>\n",
    "   </tr>\n",
    "  <tr>\n",
    "    <td>Domino's Pizza</td>\n",
    "    <td>10</td>\n",
    "    <td>100</td>\n",
    "  </tr>\n",
    "  <tr>\n",
    "    <td>Little Caesars</td>\n",
    "    <td>12</td>\n",
    "    <td >144 </td>\n",
    "  </tr>\n",
    "  <tr>\n",
    "    <td>Papa John's </td>\n",
    "    <td>15 </td>\n",
    "    <td>165</td>\n",
    "  </tr>\n"
   ]
  },
  {
   "cell_type": "markdown",
   "metadata": {},
   "source": [
    "We store the HTML as a Python string and assign <code>two_tables</code>:\n"
   ]
  },
  {
   "cell_type": "code",
   "execution_count": 43,
   "metadata": {},
   "outputs": [],
   "source": [
    "two_tables=\"<h3>Rocket Launch </h3><p><table class='rocket'><tr><td>Flight No</td><td>Launch site</td> <td>Payload mass</td></tr><tr><td>1</td><td>Florida</td><td>300 kg</td></tr><tr><td>2</td><td>Texas</td><td>94 kg</td></tr><tr><td>3</td><td>Florida </td><td>80 kg</td></tr></table></p><p><h3>Pizza Party  </h3><table class='pizza'><tr><td>Pizza Place</td><td>Orders</td> <td>Slices </td></tr><tr><td>Domino's Pizza</td><td>10</td><td>100</td></tr><tr><td>Little Caesars</td><td>12</td><td >144 </td></tr><tr><td>Papa John's </td><td>15 </td><td>165</td></tr>\""
   ]
  },
  {
   "cell_type": "markdown",
   "metadata": {},
   "source": [
    "We create a <code>BeautifulSoup</code> object  <code>two_tables_bs</code>\n"
   ]
  },
  {
   "cell_type": "code",
   "execution_count": 44,
   "metadata": {},
   "outputs": [],
   "source": [
    "two_tables_bs= BeautifulSoup(two_tables, 'html.parser')"
   ]
  },
  {
   "cell_type": "markdown",
   "metadata": {},
   "source": [
    "We can find the first table using the tag name table\n"
   ]
  },
  {
   "cell_type": "code",
   "execution_count": 45,
   "metadata": {},
   "outputs": [
    {
     "data": {
      "text/plain": [
       "<table class=\"rocket\"><tr><td>Flight No</td><td>Launch site</td> <td>Payload mass</td></tr><tr><td>1</td><td>Florida</td><td>300 kg</td></tr><tr><td>2</td><td>Texas</td><td>94 kg</td></tr><tr><td>3</td><td>Florida </td><td>80 kg</td></tr></table>"
      ]
     },
     "execution_count": 45,
     "metadata": {},
     "output_type": "execute_result"
    }
   ],
   "source": [
    "two_tables_bs.find(\"table\")"
   ]
  },
  {
   "cell_type": "markdown",
   "metadata": {},
   "source": [
    "We can filter on the class attribute to find the second table, but because class is a keyword in Python, we add an underscore to differentiate them.\n"
   ]
  },
  {
   "cell_type": "code",
   "execution_count": 46,
   "metadata": {},
   "outputs": [
    {
     "data": {
      "text/plain": [
       "<table class=\"pizza\"><tr><td>Pizza Place</td><td>Orders</td> <td>Slices </td></tr><tr><td>Domino's Pizza</td><td>10</td><td>100</td></tr><tr><td>Little Caesars</td><td>12</td><td>144 </td></tr><tr><td>Papa John's </td><td>15 </td><td>165</td></tr></table>"
      ]
     },
     "execution_count": 46,
     "metadata": {},
     "output_type": "execute_result"
    }
   ],
   "source": [
    "two_tables_bs.find(\"table\",class_='pizza')"
   ]
  },
  {
   "cell_type": "markdown",
   "metadata": {},
   "source": [
    "<h2 id=\"DSCW\">Downloading And Scraping The Contents Of A Web Page</h2> \n"
   ]
  },
  {
   "cell_type": "markdown",
   "metadata": {},
   "source": [
    "We Download the contents of the web page:\n"
   ]
  },
  {
   "cell_type": "code",
   "execution_count": 47,
   "metadata": {},
   "outputs": [],
   "source": [
    "url = \"http://www.ibm.com\""
   ]
  },
  {
   "cell_type": "markdown",
   "metadata": {},
   "source": [
    "We use <code>get</code> to download the contents of the webpage in text format and store in a variable called <code>data</code>:\n"
   ]
  },
  {
   "cell_type": "code",
   "execution_count": 48,
   "metadata": {},
   "outputs": [
    {
     "data": {
      "text/plain": [
       "'\\n<!DOCTYPE HTML>\\n<html lang=\"en-us\">\\n<head>\\r\\n    \\r\\n    \\r\\n    \\r\\n    \\r\\n    \\r\\n    \\r\\n    \\r\\n    <meta charset=\"UTF-8\"/>\\r\\n    <meta name=\"languageCode\" content=\"en\"/>\\r\\n    <meta name=\"countryCode\" content=\"us\"/>\\r\\n    <meta name=\"searchTitle\" content=\"IBM - United States\"/>\\r\\n    <meta name=\"focusArea\" content=\"Cross IBM - All\"/>\\r\\n    <title>IBM - United States</title>\\r\\n    <link rel=\"icon\" href=\"/content/dam/adobe-cms/default-images/favicon.svg\"/>\\r\\n    \\r\\n    <meta name=\"description\" content=\"For more than a century, IBM has been a global technology innovator, leading advances in AI, automation and hybrid cloud solutions that help businesses grow.\"/>\\r\\n    <meta name=\"template\" content=\"full-width-layout\"/>\\r\\n    <meta name=\"viewport\" content=\"width=device-width, initial-scale=1\"/>\\r\\n    <meta name=\"robots\" content=\"index, follow\"/>\\r\\n    \\r\\n      \\r\\n      \\r\\n    <link rel=\"canonical\" href=\"https://www.ibm.com/\"/>\\r\\n    <style id=\"anti-flicker-style\">\\r\\n        :not(:defined) {\\r\\n          visibility: hidden;\\r\\n        }\\r\\n    </style>\\r\\n    <!--<script type=\"text/javascript\" id=\"anti-flicker-script\">\\r\\n        (async () => {\\r\\n          await customElements.whenDefined(\\'dds-masthead-container\\');\\r\\n          document.getElementById(\\'anti-flicker-style\\').remove();\\r\\n          document.getElementById(\\'anti-flicker-script\\').remove();\\r\\n        })()\\r\\n    </script>-->\\r\\n    \\r\\n\\r\\n    <script type=\"text/javascript\">\\r\\n        window.searchKey = {\\r\\n            templateName: \\'full\\\\u002Dwidth\\\\u002Dlayout\\',\\r\\n            taxonomylist: \\'\\',\\r\\n            L0Tag: \\'Topics,Brands,Industries,Geography,Compliance Entities,Products,Events,Computer Languages,Content Format,Series,Content Type,CMaaS Focus Areas\\',\\r\\n        }\\r\\n    </script>\\r\\n\\r\\n    \\r\\n        <link rel=\"alternate\" hreflang=\"de-de\" href=\"https://www.ibm.com/de-de\"/>\\r\\n    \\r\\n        <link rel=\"alternate\" hreflang=\"en-us\" href=\"https://www.ibm.com/\"/>\\r\\n    \\r\\n        <link rel=\"alternate\" hreflang=\"en-ca\" href=\"https://www.ibm.com/ca-en\"/>\\r\\n    \\r\\n        <link rel=\"alternate\" hreflang=\"ko-kr\" href=\"https://www.ibm.com/kr-ko\"/>\\r\\n    \\r\\n        <link rel=\"alternate\" hreflang=\"pt-br\" href=\"https://www.ibm.com/br-pt\"/>\\r\\n    \\r\\n        <link rel=\"alternate\" hreflang=\"en-in\" href=\"https://www.ibm.com/in-en\"/>\\r\\n    \\r\\n        <link rel=\"alternate\" hreflang=\"es-es\" href=\"https://www.ibm.com/es-es\"/>\\r\\n    \\r\\n        <link rel=\"alternate\" hreflang=\"zh-cn\" href=\"https://www.ibm.com/cn-zh\"/>\\r\\n    \\r\\n        <link rel=\"alternate\" hreflang=\"es-mx\" href=\"https://www.ibm.com/mx-es\"/>\\r\\n    \\r\\n        <link rel=\"alternate\" hreflang=\"fr-ca\" href=\"https://www.ibm.com/ca-fr\"/>\\r\\n    \\r\\n        <link rel=\"alternate\" hreflang=\"it-it\" href=\"https://www.ibm.com/it-it\"/>\\r\\n    \\r\\n        <link rel=\"alternate\" hreflang=\"id-id\" href=\"https://www.ibm.com/id-id\"/>\\r\\n    \\r\\n        <link rel=\"alternate\" hreflang=\"en-au\" href=\"https://www.ibm.com/au-en\"/>\\r\\n    \\r\\n        <link rel=\"alternate\" hreflang=\"en-uk\" href=\"https://www.ibm.com/uk-en\"/>\\r\\n    \\r\\n        <link rel=\"alternate\" hreflang=\"fr-fr\" href=\"https://www.ibm.com/fr-fr\"/>\\r\\n    \\r\\n        <link rel=\"alternate\" hreflang=\"ja-jp\" href=\"https://www.ibm.com/jp-ja\"/>\\r\\n    \\r\\n    <script type=\"text/javascript\">\\r\\n        window.antiFlicker = {\\r\\n            active: true,\\r\\n            timeout: 3000\\r\\n        }\\r\\n    </script>\\r\\n    <script type=\"text/javascript\">\\r\\n        var languageCode = document.getElementsByName(\\'languageCode\\')[0].content;\\r\\n        var countryCode = document.getElementsByName(\\'countryCode\\')[0].content;\\r\\n        var focusArea = document.getElementsByName(\\'focusArea\\')[0].content;\\r\\n        /* Define digital data object based on _appInfo object */\\r\\n        window.digitalData = {\\r\\n            page: {\\r\\n                category: {\\r\\n                    primaryCategory: \\'\\',\\r\\n                },\\r\\n                pageInfo: {\\r\\n                    language: languageCode + \\'-\\' + countryCode,\\r\\n                    ibm: {\\r\\n                        siteID: \\'MarketingAEM\\',\\r\\n                        country: countryCode,\\r\\n                        messaging: {\\r\\n                            routing: {\\r\\n                                focusArea: focusArea,\\r\\n                                languageCode: languageCode,\\r\\n                                regionCode: countryCode\\r\\n                            },\\r\\n                            translation: {\\r\\n                                languageCode: languageCode,\\r\\n                                regionCode: countryCode\\r\\n                            }\\r\\n                        },\\r\\n                        sections: 0,\\r\\n                        patterns: 0,\\r\\n                    },\\r\\n                    carbon: {\\r\\n                        \\'@carbon/web-components\\': \\'v1.41.0\\\\u002Drc.0\\',\\r\\n                        \\'@carbon/ibmdotcom-web-components\\': \\'v1.45.0\\\\u002Drc.1\\',\\r\\n                        \\'carbon-for-aem\\': \\'v0.14.0\\',\\r\\n                    },\\r\\n                },\\r\\n            },\\r\\n        };\\r\\n    </script>\\r\\n    \\n    \\n        <meta property=\"og:url\" content=\"https://www.ibm.com/\"/>\\n    \\n        <meta property=\"og:type\" content=\"website\"/>\\n    \\n        <meta property=\"og:title\" content=\"IBM - United States\"/>\\n    \\n        <meta property=\"og:description\" content=\"For more than a century, IBM has been a global technology innovator, leading advances in AI, automation and hybrid cloud solutions that help businesses grow.\"/>\\n    \\n        <meta property=\"og:image\" content=\"https://www.ibm.com/content/dam/connectedassets-adobe-cms/worldwide-content/creative-assets/s-migr/ul/g/18/f9/ibm_logo_pos_blue60_rgb.png/_jcr_content/renditions/cq5dam.web.1280.1280.png\"/>\\n    \\n        \\n    \\n\\r\\n    <script src=\"https://1.www.s81c.com/common/stats/ibm-common.js\" type=\"text/javascript\" async=\"async\"></script>\\r\\n    <script src=\"https://hybrid-cloud-widgets-production.s3.us.cloud-object-storage.appdomain.cloud/loader.js\" type=\"application/javascript\"></script>\\r\\n    \\n    \\n        \\n    \\n<link rel=\"stylesheet\" href=\"/etc.clientlibs/adobe-cms/clientlibs/clientlib-idlStylesCarbon.lc-4bcd71d5119ddf067401538b806d7bbb-lc.min.css\" type=\"text/css\">\\n<link rel=\"stylesheet\" href=\"/etc.clientlibs/adobe-cms/clientlibs/clientlib-idlStyles.lc-0e2b69e2328aa14007364d24851c60d0-lc.min.css\" type=\"text/css\">\\n\\n\\n\\n        \\n        \\n        <link rel=\"stylesheet\" href=\"https://1.www.s81c.com/common/carbon-for-ibm-dotcom/tag/v1/latest/plex.css\"/>\\n        <link rel=\"stylesheet\" href=\"https://1.www.s81c.com/common/carbon/plex/sans.css\"/>\\n        \\n        \\n    \\n    \\r\\n    \\n    \\n    \\n\\n    \\n\\n    \\n\\n\\n\\n    \\n    \\n    \\n\\n\\n\\n    \\n\\r\\n    \\r\\n\\r\\n\\r\\n<script type=\"module\">\\n  window.RUM_BASE = \\'/\\';\\n  import { sampleRUM } from \\'/.rum/@adobe/helix-rum-js@^1/src/index.js\\';\\n  window.hlx = window.hlx || {};\\n  window.hlx.sampleRUM = sampleRUM;\\n  sampleRUM(\\'top\\');\\n  window.addEventListener(\\'load\\', () => sampleRUM(\\'load\\'));\\n  document.addEventListener(\\'click\\', () => sampleRUM(\\'click\\'));\\n</script></head>\\n<body class=\"content-page page basicpage publish\" id=\"content-page-c8104b3589\">\\n\\n\\n\\n    \\n\\n\\n\\n\\n    \\n\\n\\n\\n    \\n<div class=\"root container responsivegrid\">\\n\\n    \\n    \\n    \\n    <div id=\"container-9225520bd9\" class=\"cmp-container\">\\n        \\n        <div class=\"masthead\">\\r\\n\\r\\n\\r\\n\\r\\n\\r\\n\\r\\n\\r\\n\\r\\n<dds-masthead-container data-endpoint=\"/common/carbon-for-ibm-dotcom/translations/masthead-footer/v2.1\" auth-method=\"profile-api\" has-contact=\"true\"></dds-masthead-container>\\r\\n<script src=\"https://1.www.s81c.com/common/carbon-for-ibm-dotcom/version/2.0.0.alpha.9164247689/masthead.min.js\" type=\"module\"></script>\\r\\n\\r\\n\\r\\n\\r\\n\\r\\n\\r\\n\\r\\n<script type=\"text/javascript\">\\r\\n    if(window.location.href.includes(\"/careers\")){\\r\\n       document.querySelector(\\'dds-masthead-container\\').setAttribute(\"has-search\",\"false\");\\r\\n       document.querySelector(\\'dds-masthead-container\\').setAttribute(\"has-profile\",\"false\");\\r\\n    } \\r\\n</script></div>\\n<div class=\"leadspace-container container responsivegrid\">\\n\\n    \\n    \\n    \\n    <div id=\"leadspace-container-1e918979ca\" class=\"cmp-container\">\\n        \\n        <div class=\"leadspace-expanded leadspace\">\\r\\n<script type=\"module\" src=\"https://1.www.s81c.com/common/carbon/carbon-for-aem/version/v0.13.1/star-rating.min.js\"></script>\\t \\r\\n\\r\\n\\r\\n\\r\\n<section class=\"theme-white\">\\r\\n    <dds-video-cta-container>\\r\\n        <caem-container-leadspace size=\"tall\">\\r\\n            \\r\\n\\r\\n            \\r\\n\\r\\n            <caem-heading slot=\"heading\" type=\"h1\" type-style=\"display-01\" id=\"leadspaceSimpleTitle\">\\r\\n                \\n\\n\\n  <dds-content-group-heading>\\n    \\n\\n  \\n\\n<span class=\"enhanced-title\">Future-proof your career with AI and tech skills</span>\\n\\n\\n\\n    \\n\\n  </dds-content-group-heading>\\n\\n\\n\\n\\n\\n\\n    \\n\\n\\r\\n            </caem-heading>\\r\\n\\r\\n            <caem-paragraph size=\"lead-in\" data-autoid=\"caem--paragraph\">\\r\\n                \\r\\n                    <p> \\n\\n\\n  \\n  \\n      From self-paced courses to community events, IBM training is your gateway to the technical skills that can fuel your future\\n  \\n\\n\\n\\n\\n    \\n\\n</p>\\r\\n                \\r\\n            </caem-paragraph>\\r\\n\\t\\t\\t\\r\\n            \\r\\n            \\r\\n\\r\\n            \\r\\n                <caem-button-group slot=\"action\">\\r\\n                    \\r\\n                        \\r\\n                        \\n\\n\\n\\n\\n\\n\\n    \\n    \\n    \\n    \\n    \\n    <caem-button-cta href=\"https://skillsbuild.org/adult-learners/explore-learning/ai-skills-in-an-hour?lnk=hpUSls1\" target=\"_self\" kind=\"primary\" cta-type=\"external\" data-aem-autoid=\"aem--leadspace_cta-0\">\\n        <span>Take a free 1-hour AI course</span>\\n        \\n        \\n    </caem-button-cta>\\n    \\n    \\n\\n\\n    \\n    \\n    \\n    \\n    \\n    <caem-button-cta href=\"https://www.ibm.com/products/watsonx-assistant/resources/how-to-build-a-chatbot?lnk=hpUSls2\" target=\"_self\" kind=\"tertiary\" cta-type=\"local\" data-aem-autoid=\"aem--leadspace_cta-1\">\\n        <span>Build a chatbot</span>\\n        \\n        \\n    </caem-button-cta>\\n    \\n    \\n\\n\\n\\n \\n \\r\\n                    \\r\\n                </caem-button-group>\\r\\n            \\r\\n\\r\\n            \\r\\n            \\r\\n                <caem-video-player-container aspect-ratio=\"4x3\" slot=\"media\" video-id=\"1_5fq0oexs\" caption=\"Meaningful learning experiences with IBM Training\" caption-alignment=\"left\" playing-mode=\"inline\" thumbnail=\"/content/dam/connectedassets-adobe-cms/worldwide-content/creative-assets/s-migr/ul/g/2a/ba/homepage-vid-thumbnail-training-v2.component.crop-4by3-xl.ts=1721046401456.png/content/adobe-cms/us/en/homepage/jcr:content/root/leadspace_container/leadspace_expanded\"></caem-video-player-container>\\r\\n\\r\\n            \\r\\n            \\r\\n            \\r\\n                \\r\\n            \\r\\n            \\r\\n                \\r\\n                    \\r\\n                        <dds-link-list slot=\"aside\" class=\"newsfeed\">\\r\\n                            <dds-link-list-heading role=\"heading\" aria-level=\"4\" slot=\"heading\">\\r\\n                                \\n\\n\\n  \\n  \\n      Latest news\\n  \\n\\n\\n\\n\\n    \\n\\n\\r\\n                            </dds-link-list-heading>\\r\\n\\t\\t\\t\\t\\t\\t\\t\\r\\n                            \\r\\n                                \\r\\n                                \\r\\n                                    \\n\\n\\r\\n                                \\r\\n                            \\r\\n                                \\r\\n                                \\r\\n                                    \\n\\n\\r\\n                                \\r\\n                            \\r\\n                                \\r\\n                                \\r\\n                                    \\n\\n\\r\\n                                \\r\\n                            \\r\\n                                \\r\\n                                \\r\\n                                    \\n\\n\\r\\n                                \\r\\n                            \\r\\n                            \\r\\n                                \\r\\n                                    \\n    <caem-link-list-item cta-type=\"link\" href=\"https://newsroom.ibm.com/2024-07-18-IBM-Intends-to-Partner-with-Fermilabs-SQMS-Center-to-Advance-Critical-Quantum-Information-Science-Initiatives\" aria-label=\"IBM Intends to Partner with Fermilab’s SQMS Center to Advance Critical Quantum Information Science Initiatives\">\\n        <p>IBM Intends to Partner with Fermilab’s SQMS Center to Advance Critical Quantum Information Science Initiatives</p>\\n        <dds-card-cta-footer href=\"https://newsroom.ibm.com/2024-07-18-IBM-Intends-to-Partner-with-Fermilabs-SQMS-Center-to-Advance-Critical-Quantum-Information-Science-Initiatives\" cta-type=\"local\" target=\"_self\">\\n            <span slot=\"icon\" class=\"ibm_icon_arrowright_local bx--card__cta dds-ce--cta__icon\"></span>\\n        </dds-card-cta-footer>\\n    </caem-link-list-item>\\n    \\n    \\n\\r\\n                                \\r\\n                            \\r\\n                                \\r\\n                                    \\n    <caem-link-list-item cta-type=\"link\" href=\"https://newsroom.ibm.com/2024-07-17-IBM-Wins-Contract-to-Strengthen-USAID-Cybersecurity-Response-in-Europe-and-Eurasia\" aria-label=\"IBM Wins Contract to Strengthen USAID Cybersecurity Response in Europe and Eurasia\">\\n        <p>IBM Wins Contract to Strengthen USAID Cybersecurity Response in Europe and Eurasia</p>\\n        <dds-card-cta-footer href=\"https://newsroom.ibm.com/2024-07-17-IBM-Wins-Contract-to-Strengthen-USAID-Cybersecurity-Response-in-Europe-and-Eurasia\" cta-type=\"local\" target=\"_self\">\\n            <span slot=\"icon\" class=\"ibm_icon_arrowright_local bx--card__cta dds-ce--cta__icon\"></span>\\n        </dds-card-cta-footer>\\n    </caem-link-list-item>\\n    \\n    \\n\\r\\n                                \\r\\n                            \\r\\n                                \\r\\n                                    \\n    <caem-link-list-item cta-type=\"link\" href=\"https://newsroom.ibm.com/2024-07-15-IBM-and-JLL-Collaborate-on-ESG-Reporting-and-Data-Management-Solution-for-Commercial-Properties\" aria-label=\"IBM and JLL Collaborate on ESG Reporting and Data Management Solution for Commercial Properties\">\\n        <p>IBM and JLL Collaborate on ESG Reporting and Data Management Solution for Commercial Properties</p>\\n        <dds-card-cta-footer href=\"https://newsroom.ibm.com/2024-07-15-IBM-and-JLL-Collaborate-on-ESG-Reporting-and-Data-Management-Solution-for-Commercial-Properties\" cta-type=\"local\" target=\"_self\">\\n            <span slot=\"icon\" class=\"ibm_icon_arrowright_local bx--card__cta dds-ce--cta__icon\"></span>\\n        </dds-card-cta-footer>\\n    </caem-link-list-item>\\n    \\n    \\n\\r\\n                                \\r\\n                            \\r\\n                                \\r\\n                                    \\n    <caem-link-list-item cta-type=\"link\" href=\"https://newsroom.ibm.com/2024-07-10-IBM-to-Announce-Second-Quarter-2024-Financial-Results\" aria-label=\"IBM to Announce Second-Quarter 2024 Financial Results\">\\n        <p>IBM to Announce Second-Quarter 2024 Financial Results</p>\\n        <dds-card-cta-footer href=\"https://newsroom.ibm.com/2024-07-10-IBM-to-Announce-Second-Quarter-2024-Financial-Results\" cta-type=\"local\" target=\"_self\">\\n            <span slot=\"icon\" class=\"ibm_icon_arrowright_local bx--card__cta dds-ce--cta__icon\"></span>\\n        </dds-card-cta-footer>\\n    </caem-link-list-item>\\n    \\n    \\n\\r\\n                                \\r\\n                            \\r\\n                                \\r\\n                                    \\n    <caem-link-list-item cta-type=\"link\" href=\"https://newsroom.ibm.com/2024-07-10-IBM-Recommits-to-the-Rome-Call-for-AI-Ethics-as-the-Vatican-Welcomes-Eastern-Religions-to-the-Pledge\" aria-label=\"IBM Recommits to the &#39;Rome Call for AI Ethics&#39; as the Vatican Welcomes Eastern Religions to the Pledge\">\\n        <p>IBM Recommits to the &#39;Rome Call for AI Ethics&#39; as the Vatican Welcomes Eastern Religions to the Pledge</p>\\n        <dds-card-cta-footer href=\"https://newsroom.ibm.com/2024-07-10-IBM-Recommits-to-the-Rome-Call-for-AI-Ethics-as-the-Vatican-Welcomes-Eastern-Religions-to-the-Pledge\" cta-type=\"local\" target=\"_self\">\\n            <span slot=\"icon\" class=\"ibm_icon_arrowright_local bx--card__cta dds-ce--cta__icon\"></span>\\n        </dds-card-cta-footer>\\n    </caem-link-list-item>\\n    \\n    \\n\\r\\n                                \\r\\n                            \\r\\n                                \\r\\n                                    \\n    <caem-link-list-item cta-type=\"link\" href=\"https://newsroom.ibm.com/2024-07-08-BNP-Paribas-Collaborates-with-QuantumStreet-AI-to-Launch-Cross-Asset-Trend-and-AI-Index-in-Brazil\" aria-label=\"BNP Paribas Collaborates with QuantumStreet AI to Launch Cross Asset Trend and AI Index in Brazil\\n\">\\n        <p>BNP Paribas Collaborates with QuantumStreet AI to Launch Cross Asset Trend and AI Index in Brazil\\n</p>\\n        <dds-card-cta-footer href=\"https://newsroom.ibm.com/2024-07-08-BNP-Paribas-Collaborates-with-QuantumStreet-AI-to-Launch-Cross-Asset-Trend-and-AI-Index-in-Brazil\" cta-type=\"local\" target=\"_self\">\\n            <span slot=\"icon\" class=\"ibm_icon_arrowright_local bx--card__cta dds-ce--cta__icon\"></span>\\n        </dds-card-cta-footer>\\n    </caem-link-list-item>\\n    \\n    \\n\\r\\n                                \\r\\n                            \\r\\n                                \\r\\n                                    \\n    <caem-link-list-item cta-type=\"link\" href=\"https://newsroom.ibm.com/2024-07-02-HCLTech-and-IBM-Announce-Generative-AI-Center-of-Excellence-to-Support-Clients-with-Customized-AI-Solutions\" aria-label=\"HCLTech and IBM Announce Generative AI Center of Excellence to Support Clients with Customized AI Solutions\">\\n        <p>HCLTech and IBM Announce Generative AI Center of Excellence to Support Clients with Customized AI Solutions</p>\\n        <dds-card-cta-footer href=\"https://newsroom.ibm.com/2024-07-02-HCLTech-and-IBM-Announce-Generative-AI-Center-of-Excellence-to-Support-Clients-with-Customized-AI-Solutions\" cta-type=\"local\" target=\"_self\">\\n            <span slot=\"icon\" class=\"ibm_icon_arrowright_local bx--card__cta dds-ce--cta__icon\"></span>\\n        </dds-card-cta-footer>\\n    </caem-link-list-item>\\n    \\n    \\n\\r\\n                                \\r\\n                            \\r\\n                                \\r\\n                                    \\n    <caem-link-list-item cta-type=\"link\" href=\"https://newsroom.ibm.com/2024-07-01-IBM-Consulting-and-Microsoft-Collaborate-to-Help-Clients-Modernize-Security-Operations-and-Protect-Against-Cloud-Identity-Threats\" aria-label=\"IBM Consulting and Microsoft Collaborate to Help Clients Modernize Security Operations and Protect Against Cloud Identity Threats\">\\n        <p>IBM Consulting and Microsoft Collaborate to Help Clients Modernize Security Operations and Protect Against Cloud Identity Threats</p>\\n        <dds-card-cta-footer href=\"https://newsroom.ibm.com/2024-07-01-IBM-Consulting-and-Microsoft-Collaborate-to-Help-Clients-Modernize-Security-Operations-and-Protect-Against-Cloud-Identity-Threats\" cta-type=\"local\" target=\"_self\">\\n            <span slot=\"icon\" class=\"ibm_icon_arrowright_local bx--card__cta dds-ce--cta__icon\"></span>\\n        </dds-card-cta-footer>\\n    </caem-link-list-item>\\n    \\n    \\n\\r\\n                                \\r\\n                            \\r\\n                        </dds-link-list>\\r\\n                    \\r\\n                \\r\\n            \\r\\n        </caem-container-leadspace>\\r\\n    </dds-video-cta-container>\\r\\n</section>\\r\\n\\r\\n\\r\\n\\r\\n\\r\\n\\r\\n\\r\\n\\r\\n</div>\\n\\n        \\n    </div>\\n\\n</div>\\n<div class=\"table-of-contents container responsivegrid\">\\n<dds-table-of-contents data-cmp-is=\"table-of-contents\" data-autoid=\"dds--table-of-contents\" class=\"cmp-table-of-contents\" stickyoffset=\"48\" toc-layout=\"horizontal\" toc-hide=\"hidden\">\\n    \\n    \\n    <div id=\"table-of-contents-b422012d4b\" class=\"cmp-table-of-contents\">\\n        \\n        <div class=\"modular-container container responsivegrid\">\\n\\n    \\n    \\n    \\n    <div id=\"modular-container-253180b30f\" class=\"cmp-container\">\\n        \\n        <div class=\"standalone-title enhanced-title text\">\\r\\n\\n  \\n\\r\\n<caem-heading type=\"h5\">Recommended for you<br /></caem-heading>\\r\\n\\n    \\n\\r\\n</div>\\n\\n        \\n    </div>\\n\\n</div>\\n<div class=\"tile-group-container container responsivegrid\">\\n  <div class=\"bx--col\">\\n    \\r\\n\\n  \\n\\r\\n<caem-heading type=\"h2\"></caem-heading>\\r\\n\\n    \\n\\r\\n\\n    <caem-tile-group>\\n      \\n\\n    \\r\\n    \\n    <caem-tile label=\"Subscribe\" cta-type=\"local\" href=\"https://www.ibm.com/training/subscriptions?lnk=hpUSrc1\" target=\"_self\">\\n        \\n        \\n            \\n\\n\\n\\n\\n    \\n    \\n        \\n        \\n        \\n        \\n        <dds-image id=\"image--1773978476\" alt=\"Aerial top view of person working on computer\" slot=\"image\" default-src=\"/content/dam/connectedassets-adobe-cms/worldwide-content/stock-assets/getty/image/photography/0e/0c/000110466895_Unapproved.component.tile-card-xl.ts=1721046403372.jpg/content/adobe-cms/us/en/homepage/jcr:content/root/table_of_contents/tile_group_container_1662354541/container/tile_card_2026675993/image\" class=\"\">\\n            \\n            \\n                \\n                    \\n    <dds-image-item media=\"(min-width: 1312px) and (min-resolution: 192dpi)\" srcset=\"/content/dam/connectedassets-adobe-cms/worldwide-content/stock-assets/getty/image/photography/0e/0c/000110466895_Unapproved.component.tile-card-xl-retina.ts=1721046403372.jpg/content/adobe-cms/us/en/homepage/jcr:content/root/table_of_contents/tile_group_container_1662354541/container/tile_card_2026675993/image\"></dds-image-item>\\n    <dds-image-item media=\"(min-width: 1312px)\" srcset=\"/content/dam/connectedassets-adobe-cms/worldwide-content/stock-assets/getty/image/photography/0e/0c/000110466895_Unapproved.component.tile-card-xl.ts=1721046403372.jpg/content/adobe-cms/us/en/homepage/jcr:content/root/table_of_contents/tile_group_container_1662354541/container/tile_card_2026675993/image\"></dds-image-item>\\n    <dds-image-item media=\"(min-width: 1056px) and (min-resolution: 192dpi)\" srcset=\"/content/dam/connectedassets-adobe-cms/worldwide-content/stock-assets/getty/image/photography/0e/0c/000110466895_Unapproved.component.tile-card-l-retina.ts=1721046403372.jpg/content/adobe-cms/us/en/homepage/jcr:content/root/table_of_contents/tile_group_container_1662354541/container/tile_card_2026675993/image\"></dds-image-item>\\n    <dds-image-item media=\"(min-width: 1056px)\" srcset=\"/content/dam/connectedassets-adobe-cms/worldwide-content/stock-assets/getty/image/photography/0e/0c/000110466895_Unapproved.component.tile-card-l.ts=1721046403372.jpg/content/adobe-cms/us/en/homepage/jcr:content/root/table_of_contents/tile_group_container_1662354541/container/tile_card_2026675993/image\"></dds-image-item>\\n    <dds-image-item media=\"(min-width: 672px) and (min-resolution: 192dpi)\" srcset=\"/content/dam/connectedassets-adobe-cms/worldwide-content/stock-assets/getty/image/photography/0e/0c/000110466895_Unapproved.component.tile-card-m-retina.ts=1721046403372.jpg/content/adobe-cms/us/en/homepage/jcr:content/root/table_of_contents/tile_group_container_1662354541/container/tile_card_2026675993/image\"></dds-image-item>\\n    <dds-image-item media=\"(min-width: 672px)\" srcset=\"/content/dam/connectedassets-adobe-cms/worldwide-content/stock-assets/getty/image/photography/0e/0c/000110466895_Unapproved.component.tile-card-m.ts=1721046403372.jpg/content/adobe-cms/us/en/homepage/jcr:content/root/table_of_contents/tile_group_container_1662354541/container/tile_card_2026675993/image\"></dds-image-item>\\n    <dds-image-item media=\"(min-width: 481px) and (min-resolution: 192dpi)\" srcset=\"/content/dam/connectedassets-adobe-cms/worldwide-content/stock-assets/getty/image/photography/0e/0c/000110466895_Unapproved.component.tile-card-s-retina.ts=1721046403372.jpg/content/adobe-cms/us/en/homepage/jcr:content/root/table_of_contents/tile_group_container_1662354541/container/tile_card_2026675993/image\"></dds-image-item>\\n    <dds-image-item media=\"(min-width: 481px)\" srcset=\"/content/dam/connectedassets-adobe-cms/worldwide-content/stock-assets/getty/image/photography/0e/0c/000110466895_Unapproved.component.tile-card-s.ts=1721046403372.jpg/content/adobe-cms/us/en/homepage/jcr:content/root/table_of_contents/tile_group_container_1662354541/container/tile_card_2026675993/image\"></dds-image-item>\\n    <dds-image-item media=\"(max-width: 480px) and (min-resolution: 192dpi)\" srcset=\"/content/dam/connectedassets-adobe-cms/worldwide-content/stock-assets/getty/image/photography/0e/0c/000110466895_Unapproved.component.tile-card-xs-retina.ts=1721046403372.jpg/content/adobe-cms/us/en/homepage/jcr:content/root/table_of_contents/tile_group_container_1662354541/container/tile_card_2026675993/image\"></dds-image-item>\\n    <dds-image-item media=\"(max-width: 480px)\" srcset=\"/content/dam/connectedassets-adobe-cms/worldwide-content/stock-assets/getty/image/photography/0e/0c/000110466895_Unapproved.component.tile-card-xs.ts=1721046403372.jpg/content/adobe-cms/us/en/homepage/jcr:content/root/table_of_contents/tile_group_container_1662354541/container/tile_card_2026675993/image\"></dds-image-item>\\n    \\n\\n                    \\n                \\n            \\n        </dds-image>\\n    \\n\\n    \\n    \\n\\n\\n\\n        \\n        \\n    \\n\\n        Boost your skills with IBM Learning Subscriptions\\n        \\n    \\n\\n\\n\\n    \\n\\n\\n\\n        <p slot=\"cta\">\\n            \\n        </p>\\n\\n    </caem-tile>\\n\\n    <div class=\"caem-card-svg-source\" hidden>\\n        <svg xmlns=\"http://www.w3.org/2000/svg\" id=\"accelerated-computing\" viewBox=\"0 0 32 32\"><path d=\"M19,29.36c-3.401,0-6.596-1.506-8.764-4.131l0.556-0.459c2.03,2.459,5.022,3.869,8.208,3.869 c5.867,0,10.64-4.772,10.64-10.64c0-5.867-4.772-10.64-10.64-10.64c-3.186,0-6.177,1.411-8.208,3.87l-0.555-0.459 c2.091-2.532,5.137-4.022,8.403-4.125V5.36H16c-0.199,0-0.36-0.161-0.36-0.36V3c0-0.199,0.161-0.36,0.36-0.36h6 c0.199,0,0.36,0.161,0.36,0.36v2c0,0.199-0.161,0.36-0.36,0.36h-2.64v1.286c6.098,0.191,11,5.211,11,11.354 C30.36,24.264,25.264,29.36,19,29.36z M16.36,4.64h5.28V3.36h-5.28V4.64z M14,23.36H4v-0.72h10V23.36z M12,18.36H2v-0.72h10V18.36z M19.179,18.312l-0.357-0.625l7-4l0.357,0.625L19.179,18.312z M14,13.36H4v-0.72h10V13.36z\"/></svg>\\n    </div>\\n    \\n    \\n\\n\\r\\n\\r\\n\\n\\n    \\r\\n    \\n    <caem-tile label=\"TechXchange 2024\" cta-type=\"local\" href=\"https://www.ibm.com/community/ibm-techxchange-conference/?lnk=hpUSrc2\" target=\"_self\">\\n        \\n        \\n            \\n\\n\\n\\n\\n    \\n    \\n        \\n        \\n        \\n        \\n        <dds-image id=\"image--504210012\" alt=\"Colorful shape montage with bee\" slot=\"image\" default-src=\"/content/dam/connectedassets-adobe-cms/worldwide-content/sys/cf/ul/g/9f/15/techxchange-banner_sydney.component.tile-card-xl.ts=1721046403659.png/content/adobe-cms/us/en/homepage/jcr:content/root/table_of_contents/tile_group_container_1662354541/container/tile_card/image\" class=\"\">\\n            \\n            \\n                \\n                    \\n    <dds-image-item media=\"(min-width: 1312px) and (min-resolution: 192dpi)\" srcset=\"/content/dam/connectedassets-adobe-cms/worldwide-content/sys/cf/ul/g/9f/15/techxchange-banner_sydney.component.tile-card-xl-retina.ts=1721046403659.png/content/adobe-cms/us/en/homepage/jcr:content/root/table_of_contents/tile_group_container_1662354541/container/tile_card/image\"></dds-image-item>\\n    <dds-image-item media=\"(min-width: 1312px)\" srcset=\"/content/dam/connectedassets-adobe-cms/worldwide-content/sys/cf/ul/g/9f/15/techxchange-banner_sydney.component.tile-card-xl.ts=1721046403659.png/content/adobe-cms/us/en/homepage/jcr:content/root/table_of_contents/tile_group_container_1662354541/container/tile_card/image\"></dds-image-item>\\n    <dds-image-item media=\"(min-width: 1056px) and (min-resolution: 192dpi)\" srcset=\"/content/dam/connectedassets-adobe-cms/worldwide-content/sys/cf/ul/g/9f/15/techxchange-banner_sydney.component.tile-card-l-retina.ts=1721046403659.png/content/adobe-cms/us/en/homepage/jcr:content/root/table_of_contents/tile_group_container_1662354541/container/tile_card/image\"></dds-image-item>\\n    <dds-image-item media=\"(min-width: 1056px)\" srcset=\"/content/dam/connectedassets-adobe-cms/worldwide-content/sys/cf/ul/g/9f/15/techxchange-banner_sydney.component.tile-card-l.ts=1721046403659.png/content/adobe-cms/us/en/homepage/jcr:content/root/table_of_contents/tile_group_container_1662354541/container/tile_card/image\"></dds-image-item>\\n    <dds-image-item media=\"(min-width: 672px) and (min-resolution: 192dpi)\" srcset=\"/content/dam/connectedassets-adobe-cms/worldwide-content/sys/cf/ul/g/9f/15/techxchange-banner_sydney.component.tile-card-m-retina.ts=1721046403659.png/content/adobe-cms/us/en/homepage/jcr:content/root/table_of_contents/tile_group_container_1662354541/container/tile_card/image\"></dds-image-item>\\n    <dds-image-item media=\"(min-width: 672px)\" srcset=\"/content/dam/connectedassets-adobe-cms/worldwide-content/sys/cf/ul/g/9f/15/techxchange-banner_sydney.component.tile-card-m.ts=1721046403659.png/content/adobe-cms/us/en/homepage/jcr:content/root/table_of_contents/tile_group_container_1662354541/container/tile_card/image\"></dds-image-item>\\n    <dds-image-item media=\"(min-width: 481px) and (min-resolution: 192dpi)\" srcset=\"/content/dam/connectedassets-adobe-cms/worldwide-content/sys/cf/ul/g/9f/15/techxchange-banner_sydney.component.tile-card-s-retina.ts=1721046403659.png/content/adobe-cms/us/en/homepage/jcr:content/root/table_of_contents/tile_group_container_1662354541/container/tile_card/image\"></dds-image-item>\\n    <dds-image-item media=\"(min-width: 481px)\" srcset=\"/content/dam/connectedassets-adobe-cms/worldwide-content/sys/cf/ul/g/9f/15/techxchange-banner_sydney.component.tile-card-s.ts=1721046403659.png/content/adobe-cms/us/en/homepage/jcr:content/root/table_of_contents/tile_group_container_1662354541/container/tile_card/image\"></dds-image-item>\\n    <dds-image-item media=\"(max-width: 480px) and (min-resolution: 192dpi)\" srcset=\"/content/dam/connectedassets-adobe-cms/worldwide-content/sys/cf/ul/g/9f/15/techxchange-banner_sydney.component.tile-card-xs-retina.ts=1721046403659.png/content/adobe-cms/us/en/homepage/jcr:content/root/table_of_contents/tile_group_container_1662354541/container/tile_card/image\"></dds-image-item>\\n    <dds-image-item media=\"(max-width: 480px)\" srcset=\"/content/dam/connectedassets-adobe-cms/worldwide-content/sys/cf/ul/g/9f/15/techxchange-banner_sydney.component.tile-card-xs.ts=1721046403659.png/content/adobe-cms/us/en/homepage/jcr:content/root/table_of_contents/tile_group_container_1662354541/container/tile_card/image\"></dds-image-item>\\n    \\n\\n                    \\n                \\n            \\n        </dds-image>\\n    \\n\\n    \\n    \\n\\n\\n\\n        \\n        \\n    \\n\\n        Fuel your AI at the ultimate IBM learning event\\n        \\n    \\n\\n\\n\\n    \\n\\n\\n\\n        <p slot=\"cta\">\\n            \\n        </p>\\n\\n    </caem-tile>\\n\\n    <div class=\"caem-card-svg-source\" hidden>\\n        <svg xmlns=\"http://www.w3.org/2000/svg\" id=\"accelerated-computing\" viewBox=\"0 0 32 32\"><path d=\"M19,29.36c-3.401,0-6.596-1.506-8.764-4.131l0.556-0.459c2.03,2.459,5.022,3.869,8.208,3.869 c5.867,0,10.64-4.772,10.64-10.64c0-5.867-4.772-10.64-10.64-10.64c-3.186,0-6.177,1.411-8.208,3.87l-0.555-0.459 c2.091-2.532,5.137-4.022,8.403-4.125V5.36H16c-0.199,0-0.36-0.161-0.36-0.36V3c0-0.199,0.161-0.36,0.36-0.36h6 c0.199,0,0.36,0.161,0.36,0.36v2c0,0.199-0.161,0.36-0.36,0.36h-2.64v1.286c6.098,0.191,11,5.211,11,11.354 C30.36,24.264,25.264,29.36,19,29.36z M16.36,4.64h5.28V3.36h-5.28V4.64z M14,23.36H4v-0.72h10V23.36z M12,18.36H2v-0.72h10V18.36z M19.179,18.312l-0.357-0.625l7-4l0.357,0.625L19.179,18.312z M14,13.36H4v-0.72h10V13.36z\"/></svg>\\n    </div>\\n    \\n    \\n\\n\\r\\n\\r\\n\\n\\n    \\r\\n    \\n    <caem-tile label=\"AI Academy\" cta-type=\"local\" href=\"https://www.ibm.com/think/videos/series/ai-academy?lnk=hpUSrc3\" target=\"_self\">\\n        \\n        \\n            \\n\\n\\n\\n\\n    \\n    \\n        \\n        \\n        \\n        \\n        <dds-image id=\"image--1140056554\" alt=\"Man standing in front of table with arms crossed\" slot=\"image\" default-src=\"/content/dam/connectedassets-adobe-cms/worldwide-content/creative-assets/ibs/ul/g/11/cc/202403_hughstewart_sydney_aiacademy_nr_0266.component.tile-card-xl.ts=1721046403946.jpg/content/adobe-cms/us/en/homepage/jcr:content/root/table_of_contents/tile_group_container_1662354541/container/tile_card_964526575/image\" class=\"\">\\n            \\n            \\n                \\n                    \\n    <dds-image-item media=\"(min-width: 1312px) and (min-resolution: 192dpi)\" srcset=\"/content/dam/connectedassets-adobe-cms/worldwide-content/creative-assets/ibs/ul/g/11/cc/202403_hughstewart_sydney_aiacademy_nr_0266.component.tile-card-xl-retina.ts=1721046403946.jpg/content/adobe-cms/us/en/homepage/jcr:content/root/table_of_contents/tile_group_container_1662354541/container/tile_card_964526575/image\"></dds-image-item>\\n    <dds-image-item media=\"(min-width: 1312px)\" srcset=\"/content/dam/connectedassets-adobe-cms/worldwide-content/creative-assets/ibs/ul/g/11/cc/202403_hughstewart_sydney_aiacademy_nr_0266.component.tile-card-xl.ts=1721046403946.jpg/content/adobe-cms/us/en/homepage/jcr:content/root/table_of_contents/tile_group_container_1662354541/container/tile_card_964526575/image\"></dds-image-item>\\n    <dds-image-item media=\"(min-width: 1056px) and (min-resolution: 192dpi)\" srcset=\"/content/dam/connectedassets-adobe-cms/worldwide-content/creative-assets/ibs/ul/g/11/cc/202403_hughstewart_sydney_aiacademy_nr_0266.component.tile-card-l-retina.ts=1721046403946.jpg/content/adobe-cms/us/en/homepage/jcr:content/root/table_of_contents/tile_group_container_1662354541/container/tile_card_964526575/image\"></dds-image-item>\\n    <dds-image-item media=\"(min-width: 1056px)\" srcset=\"/content/dam/connectedassets-adobe-cms/worldwide-content/creative-assets/ibs/ul/g/11/cc/202403_hughstewart_sydney_aiacademy_nr_0266.component.tile-card-l.ts=1721046403946.jpg/content/adobe-cms/us/en/homepage/jcr:content/root/table_of_contents/tile_group_container_1662354541/container/tile_card_964526575/image\"></dds-image-item>\\n    <dds-image-item media=\"(min-width: 672px) and (min-resolution: 192dpi)\" srcset=\"/content/dam/connectedassets-adobe-cms/worldwide-content/creative-assets/ibs/ul/g/11/cc/202403_hughstewart_sydney_aiacademy_nr_0266.component.tile-card-m-retina.ts=1721046403946.jpg/content/adobe-cms/us/en/homepage/jcr:content/root/table_of_contents/tile_group_container_1662354541/container/tile_card_964526575/image\"></dds-image-item>\\n    <dds-image-item media=\"(min-width: 672px)\" srcset=\"/content/dam/connectedassets-adobe-cms/worldwide-content/creative-assets/ibs/ul/g/11/cc/202403_hughstewart_sydney_aiacademy_nr_0266.component.tile-card-m.ts=1721046403946.jpg/content/adobe-cms/us/en/homepage/jcr:content/root/table_of_contents/tile_group_container_1662354541/container/tile_card_964526575/image\"></dds-image-item>\\n    <dds-image-item media=\"(min-width: 481px) and (min-resolution: 192dpi)\" srcset=\"/content/dam/connectedassets-adobe-cms/worldwide-content/creative-assets/ibs/ul/g/11/cc/202403_hughstewart_sydney_aiacademy_nr_0266.component.tile-card-s-retina.ts=1721046403946.jpg/content/adobe-cms/us/en/homepage/jcr:content/root/table_of_contents/tile_group_container_1662354541/container/tile_card_964526575/image\"></dds-image-item>\\n    <dds-image-item media=\"(min-width: 481px)\" srcset=\"/content/dam/connectedassets-adobe-cms/worldwide-content/creative-assets/ibs/ul/g/11/cc/202403_hughstewart_sydney_aiacademy_nr_0266.component.tile-card-s.ts=1721046403946.jpg/content/adobe-cms/us/en/homepage/jcr:content/root/table_of_contents/tile_group_container_1662354541/container/tile_card_964526575/image\"></dds-image-item>\\n    <dds-image-item media=\"(max-width: 480px) and (min-resolution: 192dpi)\" srcset=\"/content/dam/connectedassets-adobe-cms/worldwide-content/creative-assets/ibs/ul/g/11/cc/202403_hughstewart_sydney_aiacademy_nr_0266.component.tile-card-xs-retina.ts=1721046403946.jpg/content/adobe-cms/us/en/homepage/jcr:content/root/table_of_contents/tile_group_container_1662354541/container/tile_card_964526575/image\"></dds-image-item>\\n    <dds-image-item media=\"(max-width: 480px)\" srcset=\"/content/dam/connectedassets-adobe-cms/worldwide-content/creative-assets/ibs/ul/g/11/cc/202403_hughstewart_sydney_aiacademy_nr_0266.component.tile-card-xs.ts=1721046403946.jpg/content/adobe-cms/us/en/homepage/jcr:content/root/table_of_contents/tile_group_container_1662354541/container/tile_card_964526575/image\"></dds-image-item>\\n    \\n\\n                    \\n                \\n            \\n        </dds-image>\\n    \\n\\n    \\n    \\n\\n\\n\\n        \\n        \\n    \\n\\n        Take a course on the most relevant AI topics\\n        \\n    \\n\\n\\n\\n    \\n\\n\\n\\n        <p slot=\"cta\">\\n            \\n        </p>\\n\\n    </caem-tile>\\n\\n    <div class=\"caem-card-svg-source\" hidden>\\n        <svg xmlns=\"http://www.w3.org/2000/svg\" id=\"accelerated-computing\" viewBox=\"0 0 32 32\"><path d=\"M19,29.36c-3.401,0-6.596-1.506-8.764-4.131l0.556-0.459c2.03,2.459,5.022,3.869,8.208,3.869 c5.867,0,10.64-4.772,10.64-10.64c0-5.867-4.772-10.64-10.64-10.64c-3.186,0-6.177,1.411-8.208,3.87l-0.555-0.459 c2.091-2.532,5.137-4.022,8.403-4.125V5.36H16c-0.199,0-0.36-0.161-0.36-0.36V3c0-0.199,0.161-0.36,0.36-0.36h6 c0.199,0,0.36,0.161,0.36,0.36v2c0,0.199-0.161,0.36-0.36,0.36h-2.64v1.286c6.098,0.191,11,5.211,11,11.354 C30.36,24.264,25.264,29.36,19,29.36z M16.36,4.64h5.28V3.36h-5.28V4.64z M14,23.36H4v-0.72h10V23.36z M12,18.36H2v-0.72h10V18.36z M19.179,18.312l-0.357-0.625l7-4l0.357,0.625L19.179,18.312z M14,13.36H4v-0.72h10V13.36z\"/></svg>\\n    </div>\\n    \\n    \\n\\n\\r\\n\\r\\n\\n\\n    \\r\\n    \\n    <caem-tile label=\"Open source models\" cta-type=\"local\" href=\"https://www.ibm.com/granite?lnk=hpUSrc4\" target=\"_self\">\\n        \\n        \\n            \\n\\n\\n\\n\\n    \\n    \\n        \\n        \\n        \\n        \\n        <dds-image id=\"image--1031071656\" alt=\"A granite rock with one side digitally altered\" slot=\"image\" default-src=\"/content/dam/connectedassets-adobe-cms/worldwide-content/creative-assets/s-migr/ul/g/dd/4b/granite-v2.component.tile-card-xl.ts=1721046404220.png/content/adobe-cms/us/en/homepage/jcr:content/root/table_of_contents/tile_group_container_1662354541/container/tile_card_734954344/image\" class=\"\">\\n            \\n            \\n                \\n                    \\n    <dds-image-item media=\"(min-width: 1312px) and (min-resolution: 192dpi)\" srcset=\"/content/dam/connectedassets-adobe-cms/worldwide-content/creative-assets/s-migr/ul/g/dd/4b/granite-v2.component.tile-card-xl-retina.ts=1721046404220.png/content/adobe-cms/us/en/homepage/jcr:content/root/table_of_contents/tile_group_container_1662354541/container/tile_card_734954344/image\"></dds-image-item>\\n    <dds-image-item media=\"(min-width: 1312px)\" srcset=\"/content/dam/connectedassets-adobe-cms/worldwide-content/creative-assets/s-migr/ul/g/dd/4b/granite-v2.component.tile-card-xl.ts=1721046404220.png/content/adobe-cms/us/en/homepage/jcr:content/root/table_of_contents/tile_group_container_1662354541/container/tile_card_734954344/image\"></dds-image-item>\\n    <dds-image-item media=\"(min-width: 1056px) and (min-resolution: 192dpi)\" srcset=\"/content/dam/connectedassets-adobe-cms/worldwide-content/creative-assets/s-migr/ul/g/dd/4b/granite-v2.component.tile-card-l-retina.ts=1721046404220.png/content/adobe-cms/us/en/homepage/jcr:content/root/table_of_contents/tile_group_container_1662354541/container/tile_card_734954344/image\"></dds-image-item>\\n    <dds-image-item media=\"(min-width: 1056px)\" srcset=\"/content/dam/connectedassets-adobe-cms/worldwide-content/creative-assets/s-migr/ul/g/dd/4b/granite-v2.component.tile-card-l.ts=1721046404220.png/content/adobe-cms/us/en/homepage/jcr:content/root/table_of_contents/tile_group_container_1662354541/container/tile_card_734954344/image\"></dds-image-item>\\n    <dds-image-item media=\"(min-width: 672px) and (min-resolution: 192dpi)\" srcset=\"/content/dam/connectedassets-adobe-cms/worldwide-content/creative-assets/s-migr/ul/g/dd/4b/granite-v2.component.tile-card-m-retina.ts=1721046404220.png/content/adobe-cms/us/en/homepage/jcr:content/root/table_of_contents/tile_group_container_1662354541/container/tile_card_734954344/image\"></dds-image-item>\\n    <dds-image-item media=\"(min-width: 672px)\" srcset=\"/content/dam/connectedassets-adobe-cms/worldwide-content/creative-assets/s-migr/ul/g/dd/4b/granite-v2.component.tile-card-m.ts=1721046404220.png/content/adobe-cms/us/en/homepage/jcr:content/root/table_of_contents/tile_group_container_1662354541/container/tile_card_734954344/image\"></dds-image-item>\\n    <dds-image-item media=\"(min-width: 481px) and (min-resolution: 192dpi)\" srcset=\"/content/dam/connectedassets-adobe-cms/worldwide-content/creative-assets/s-migr/ul/g/dd/4b/granite-v2.component.tile-card-s-retina.ts=1721046404220.png/content/adobe-cms/us/en/homepage/jcr:content/root/table_of_contents/tile_group_container_1662354541/container/tile_card_734954344/image\"></dds-image-item>\\n    <dds-image-item media=\"(min-width: 481px)\" srcset=\"/content/dam/connectedassets-adobe-cms/worldwide-content/creative-assets/s-migr/ul/g/dd/4b/granite-v2.component.tile-card-s.ts=1721046404220.png/content/adobe-cms/us/en/homepage/jcr:content/root/table_of_contents/tile_group_container_1662354541/container/tile_card_734954344/image\"></dds-image-item>\\n    <dds-image-item media=\"(max-width: 480px) and (min-resolution: 192dpi)\" srcset=\"/content/dam/connectedassets-adobe-cms/worldwide-content/creative-assets/s-migr/ul/g/dd/4b/granite-v2.component.tile-card-xs-retina.ts=1721046404220.png/content/adobe-cms/us/en/homepage/jcr:content/root/table_of_contents/tile_group_container_1662354541/container/tile_card_734954344/image\"></dds-image-item>\\n    <dds-image-item media=\"(max-width: 480px)\" srcset=\"/content/dam/connectedassets-adobe-cms/worldwide-content/creative-assets/s-migr/ul/g/dd/4b/granite-v2.component.tile-card-xs.ts=1721046404220.png/content/adobe-cms/us/en/homepage/jcr:content/root/table_of_contents/tile_group_container_1662354541/container/tile_card_734954344/image\"></dds-image-item>\\n    \\n\\n                    \\n                \\n            \\n        </dds-image>\\n    \\n\\n    \\n    \\n\\n\\n\\n        \\n        \\n    \\n\\n        Build enterprise-grade foundation models with IBM Granite LLM \\n        \\n    \\n\\n\\n\\n    \\n\\n\\n\\n        <p slot=\"cta\">\\n            \\n        </p>\\n\\n    </caem-tile>\\n\\n    <div class=\"caem-card-svg-source\" hidden>\\n        <svg xmlns=\"http://www.w3.org/2000/svg\" id=\"accelerated-computing\" viewBox=\"0 0 32 32\"><path d=\"M19,29.36c-3.401,0-6.596-1.506-8.764-4.131l0.556-0.459c2.03,2.459,5.022,3.869,8.208,3.869 c5.867,0,10.64-4.772,10.64-10.64c0-5.867-4.772-10.64-10.64-10.64c-3.186,0-6.177,1.411-8.208,3.87l-0.555-0.459 c2.091-2.532,5.137-4.022,8.403-4.125V5.36H16c-0.199,0-0.36-0.161-0.36-0.36V3c0-0.199,0.161-0.36,0.36-0.36h6 c0.199,0,0.36,0.161,0.36,0.36v2c0,0.199-0.161,0.36-0.36,0.36h-2.64v1.286c6.098,0.191,11,5.211,11,11.354 C30.36,24.264,25.264,29.36,19,29.36z M16.36,4.64h5.28V3.36h-5.28V4.64z M14,23.36H4v-0.72h10V23.36z M12,18.36H2v-0.72h10V18.36z M19.179,18.312l-0.357-0.625l7-4l0.357,0.625L19.179,18.312z M14,13.36H4v-0.72h10V13.36z\"/></svg>\\n    </div>\\n    \\n    \\n\\n\\r\\n\\r\\n\\n\\n\\n\\n\\n    </caem-tile-group>\\n  </div>\\n\\n\\n\\n</div>\\n<div class=\"intro-section\">\\n<div class=\"bx--col\">\\n    <caem-intro-section>\\n\\n        <caem-heading slot=\"heading\" type=\"h2\" type-style=\"expressive-heading-05\" data-autoid=\"caem-heading\">\\n            \\n\\n\\n\\n  \\n    Technology and services\\n\\n\\n\\n\\n\\n\\n    \\n\\n\\n        </caem-heading>\\n\\n        <caem-paragraph size=\"lead-in\" data-autoid=\"caem--paragraph\">\\n            <div class=\"cms-richtext\" id=\"rich-text-c26afb5940\" data-dynamic-inner-content=\"description\">\\n    <p>From our flagship products for enterprise\\xa0<a href=\"https://www.ibm.com/hybrid-cloud?lnk&#61;hpUSbt1\">hybrid cloud infrastructure</a> to\\xa0next-generation AI, security and storage solutions, find the answer to your business challenge, and engage <a href=\"https://www.ibm.com/consulting\" target=\"_self\" rel=\"noopener noreferrer\">IBM Consulting</a> to scale transformation and reinvent how your business works with AI.</p>\\r\\n \\n    \\n    \\n    \\n    \\n\\n</div>\\n        </caem-paragraph>\\n\\n        \\n            <dds-link-list type=\"vertical\">\\n                \\n                    \\n    \\n    \\n        \\n        \\n        <dds-video-cta-container>\\n            <dds-link-list-item-cta cta-type=\"local\" href=\"https://www.ibm.com/products/offers-and-discounts?lnk=hpUSbt1\" icon-placement=\"right\" role=\"listitem\" target=\"_self\">\\n                Save on select IBM products today\\n                \\n            </dds-link-list-item-cta>\\n        </dds-video-cta-container>\\n    \\n    \\n    \\n\\n    \\n    \\n\\n\\n                \\n                \\n                    \\n    \\n    \\n        \\n        \\n        <dds-video-cta-container>\\n            <dds-link-list-item-cta cta-type=\"local\" href=\"https://www.ibm.com/products?lnk=hpUSbt2\" icon-placement=\"right\" role=\"listitem\" target=\"_self\">\\n                View all products\\n                \\n            </dds-link-list-item-cta>\\n        </dds-video-cta-container>\\n    \\n    \\n    \\n\\n    \\n    \\n\\n\\n                \\n            </dds-link-list>\\n        \\n\\n        \\n\\n    </caem-intro-section>\\n</div>\\n\\n\\n\\n\\n\\n\\n</div>\\n<div class=\"container-50-50 container responsivegrid\"><div class=\"container-50-50-container\">\\n    <div class=\"container-50-50-row\">\\n        <div class=\"container-50-50--col-lg-8\">\\n            \\n\\n    \\n    \\n    \\n    <div id=\"container-item-50-50-b36203fbf7\" class=\"cmp-container\">\\n        \\n        <div class=\"container-50-50 container responsivegrid\"><div class=\"container-50-50-container\">\\n    <div class=\"container-50-50-row\">\\n        <div class=\"container-50-50--col-lg-8\">\\n            \\n\\n    \\n    \\n    \\n    <div id=\"container-item-50-50-00302c3b29\" class=\"cmp-container\">\\n        \\n        <div class=\"tile-card card link button\">\\r\\n    \\n    <caem-tile label=\"Artificial intelligence\" cta-type=\"local\" href=\"https://www.ibm.com/artificial-intelligence?lnk=prodC\" target=\"_self\" align-with-content=\"align-with-content\">\\n        \\n            <svg slot=\"pictogram\" focusable=\"false\" preserveAspectRatio=\"xMidYMid meet\" xmlns=\"http://www.w3.org/2000/svg\" data-autoid=\"dds--card__pictogram\" aria-label=\"Pictogram description\" viewBox=\"0 0 32 32\" role=\"img\" class=\"bx--card__pictogram\" fill=\"#0f62fe\">\\n                <use href=\"#ai\"></use>\\n            </svg>\\n        \\n        \\n        \\n    \\n\\n        Scale AI with greater confidence and stronger results\\n        \\n    <dds-tag-group>\\n        \\n    \\n        \\n    </dds-tag-group>\\n\\n\\n\\n    \\n\\n\\n\\n        <p slot=\"cta\">\\n            Explore AI solutions\\n        </p>\\n\\n    </caem-tile>\\n\\n    <div class=\"caem-card-svg-source\" hidden>\\n        <svg xmlns=\"http://www.w3.org/2000/svg\" id=\"ai\" viewBox=\"0 0 32 32\"><path d=\"M16.195,31.36c-6.421,0-12.169-4.007-14.399-10.002 C1.051,21.408,0.373,20.771,0.372,20c0-0.75,0.61-1.36,1.36-1.36s1.36,0.61,1.36,1.36c0,0.474-0.243,0.892-0.611,1.135 c2.133,5.698,7.604,9.505,13.714,9.505c6.446,0,11.919-4.301,13.773-10.22c-1.448,2.06-3.877,3.44-6.565,3.44 c-3.822,0-7.066-2.785-7.664-6.525C15.113,17.212,14.64,16.661,14.64,16c0-0.584,0.37-1.083,0.888-1.275 c-0.608-3.421-3.615-5.962-7.125-5.962c-3.947,0-7.04,3.176-7.042,7.231c0,0.002,0,0.004,0,0.006H0.64c0-0.002,0-0.004,0-0.007 C0.644,7.526,7.445,0.64,15.805,0.64c6.42,0,12.168,4.006,14.399,10.001c0.777-0.034,1.425,0.587,1.425,1.358 c0,0.75-0.61,1.36-1.36,1.36s-1.36-0.61-1.36-1.36c0-0.473,0.243-0.891,0.611-1.135C27.387,5.166,21.916,1.36,15.805,1.36 c-6.319,0-11.704,4.134-13.659,9.873c1.402-1.949,3.662-3.19,6.256-3.19c3.881,0,7.204,2.826,7.846,6.62 C16.88,14.779,17.36,15.335,17.36,16c0,0.589-0.376,1.092-0.901,1.28c0.567,3.363,3.496,5.859,6.943,5.859 c3.857,0,7.127-3.118,7.235-6.851c0.001-0.096,0.002-0.192,0.002-0.289h0.721c0,0.033,0,0.065-0.001,0.098h0.001 c0,0.069-0.001,0.138-0.003,0.207C31.196,24.634,24.456,31.36,16.195,31.36z M1.732,19.36c-0.353,0-0.64,0.287-0.64,0.64 s0.287,0.64,0.64,0.64s0.64-0.287,0.64-0.64S2.085,19.36,1.732,19.36z M16,15.36c-0.353,0-0.64,0.287-0.64,0.64 s0.287,0.64,0.64,0.64s0.64-0.287,0.64-0.64S16.353,15.36,16,15.36z M30.269,11.36c-0.353,0-0.64,0.287-0.64,0.64 s0.287,0.64,0.64,0.64s0.64-0.287,0.64-0.64S30.621,11.36,30.269,11.36z\"/></svg>\\n    </div>\\n    \\n    \\n\\n\\r\\n\\r\\n</div>\\n<div class=\"tile-card card link button\">\\r\\n    \\n    <caem-tile label=\"IT automation\" cta-type=\"local\" href=\"https://www.ibm.com/aiops?lnk=ProdC\" target=\"_self\" align-with-content=\"align-with-content\">\\n        \\n            <svg slot=\"pictogram\" focusable=\"false\" preserveAspectRatio=\"xMidYMid meet\" xmlns=\"http://www.w3.org/2000/svg\" data-autoid=\"dds--card__pictogram\" aria-label=\"Pictogram description\" viewBox=\"0 0 32 32\" role=\"img\" class=\"bx--card__pictogram\" fill=\"#0f62fe\">\\n                <use href=\"#automation--decision\"></use>\\n            </svg>\\n        \\n        \\n        \\n    \\n\\n        Automate IT infrastructure management\\n        \\n    <dds-tag-group>\\n        \\n    </dds-tag-group>\\n\\n\\n\\n    \\n\\n\\n\\n        <p slot=\"cta\">\\n            Explore AIOps solutions\\n        </p>\\n\\n    </caem-tile>\\n\\n    <div class=\"caem-card-svg-source\" hidden>\\n        <svg xmlns=\"http://www.w3.org/2000/svg\" id=\"automation--decision\" viewBox=\"0 0 32 32\"><path d=\"M27.255,19.255L30.509,16l-3.254-3.254l-0.51,0.509l2.386,2.386H16.149L9.36,8.85V5.36h19.771 l-2.386,2.386l0.51,0.509L30.509,5l-3.254-3.254l-0.51,0.509l2.386,2.386H9C8.801,4.64,8.64,4.801,8.64,5v3.85l-6.895,6.896 c-0.141,0.141-0.141,0.368,0,0.509L8.64,23.15V27c0,0.199,0.161,0.36,0.36,0.36h20.131l-2.386,2.385l0.51,0.51L30.509,27 l-3.254-3.255l-0.51,0.51l2.386,2.385H9.36v-3.49l6.789-6.79h12.982l-2.386,2.385L27.255,19.255z M9,22.491L2.509,16L9,9.508 L15.491,16L9,22.491z\"/></svg>\\n    </div>\\n    \\n    \\n\\n\\r\\n\\r\\n</div>\\n\\n        \\n    </div>\\n\\n\\n        </div>\\n\\n        <div class=\"container-50-50--col-lg-8\">\\n            \\n\\n    \\n    \\n    \\n    <div id=\"container-item-50-50-1ea79e4190\" class=\"cmp-container\">\\n        \\n        <div class=\"tile-card card link button\">\\r\\n    \\n    <caem-tile label=\"Analytics\" cta-type=\"local\" href=\"https://www.ibm.com/analytics?lnk=ProdC\" target=\"_self\" align-with-content=\"align-with-content\">\\n        \\n            <svg slot=\"pictogram\" focusable=\"false\" preserveAspectRatio=\"xMidYMid meet\" xmlns=\"http://www.w3.org/2000/svg\" data-autoid=\"dds--card__pictogram\" aria-label=\"Pictogram description\" viewBox=\"0 0 32 32\" role=\"img\" class=\"bx--card__pictogram\" fill=\"#0f62fe\">\\n                <use href=\"#chart--multi-type\"></use>\\n            </svg>\\n        \\n        \\n        \\n    \\n\\n        Aggregate and analyze large datasets\\n        \\n    <dds-tag-group>\\n        \\n    </dds-tag-group>\\n\\n\\n\\n    \\n\\n\\n\\n        <p slot=\"cta\">\\n            Explore analytics solutions\\n        </p>\\n\\n    </caem-tile>\\n\\n    <div class=\"caem-card-svg-source\" hidden>\\n        <svg xmlns=\"http://www.w3.org/2000/svg\" id=\"chart--multi-type\" viewBox=\"0 0 32 32\"><path d=\"M6,10.5C6,10.776,5.776,11,5.5,11S5,10.776,5,10.5S5.224,10,5.5,10S6,10.224,6,10.5z M7.5,8 C7.224,8,7,8.224,7,8.5S7.224,9,7.5,9S8,8.776,8,8.5S7.776,8,7.5,8z M10.5,8C10.224,8,10,8.224,10,8.5S10.224,9,10.5,9 S11,8.776,11,8.5S10.776,8,10.5,8z M6.5,6C6.224,6,6,6.224,6,6.5S6.224,7,6.5,7S7,6.776,7,6.5S6.776,6,6.5,6z M8.5,5 C8.224,5,8,5.224,8,5.5S8.224,6,8.5,6S9,5.776,9,5.5S8.776,5,8.5,5z M11.5,5C11.224,5,11,5.224,11,5.5S11.224,6,11.5,6 S12,5.776,12,5.5S11.776,5,11.5,5z M30.36,24c0-3.507-2.854-6.36-6.36-6.36s-6.36,2.854-6.36,6.36s2.854,6.36,6.36,6.36 S30.36,27.507,30.36,24z M23.64,24c0,0.199,0.161,0.36,0.36,0.36h5.629c-0.187,2.942-2.64,5.279-5.629,5.279 c-3.11,0-5.64-2.529-5.64-5.64c0-2.989,2.337-5.442,5.279-5.629L23.64,24L23.64,24z M24.36,18.371 c2.823,0.179,5.09,2.445,5.269,5.269H24.36V18.371z M13.36,30v-6c0-0.199-0.161-0.36-0.36-0.36h-2c-0.199,0-0.36,0.161-0.36,0.36v6 c0,0.199,0.161,0.36,0.36,0.36h2C13.199,30.36,13.36,30.199,13.36,30z M11.36,24.36h1.28v5.279h-1.28V24.36z M9.36,30V20 c0-0.199-0.161-0.36-0.36-0.36H7c-0.199,0-0.36,0.161-0.36,0.36v10c0,0.199,0.161,0.36,0.36,0.36h2C9.199,30.36,9.36,30.199,9.36,30 z M7.36,20.36h1.28v9.279H7.36V20.36z M5.36,30v-4c0-0.199-0.161-0.36-0.36-0.36H3c-0.199,0-0.36,0.161-0.36,0.36v4 c0,0.199,0.161,0.36,0.36,0.36h2C5.199,30.36,5.36,30.199,5.36,30z M3.36,26.36h1.28v3.279H3.36V26.36z M30,13.64H18.36v-2.28H22 c0.096,0,0.188-0.038,0.255-0.105L27.15,6.36H30V5.64h-3c-0.096,0-0.188,0.038-0.255,0.105L21.85,10.64h-3.49V2h-0.72v12 c0,0.199,0.161,0.36,0.36,0.36h12V13.64z M14,13.64H2.36V2H1.64v12c0,0.199,0.161,0.36,0.36,0.36h12V13.64z\"/></svg>\\n    </div>\\n    \\n    \\n\\n\\r\\n\\r\\n</div>\\n<div class=\"tile-card card link button\">\\r\\n    \\n    <caem-tile label=\"Quantum\" cta-type=\"local\" href=\"https://www.ibm.com/quantum?lnk=ProdC\" target=\"_self\" align-with-content=\"align-with-content\">\\n        \\n            <svg slot=\"pictogram\" focusable=\"false\" preserveAspectRatio=\"xMidYMid meet\" xmlns=\"http://www.w3.org/2000/svg\" data-autoid=\"dds--card__pictogram\" aria-label=\"Pictogram description\" viewBox=\"0 0 32 32\" role=\"img\" class=\"bx--card__pictogram\" fill=\"#0f62fe\">\\n                <use href=\"#quantum--safe\"></use>\\n            </svg>\\n        \\n        \\n        \\n    \\n\\n        Run code on real quantum systems using a full-stack SDK\\n        \\n    <dds-tag-group>\\n        \\n    </dds-tag-group>\\n\\n\\n\\n    \\n\\n\\n\\n        <p slot=\"cta\">\\n            Explore quantum computing\\n        </p>\\n\\n    </caem-tile>\\n\\n    <div class=\"caem-card-svg-source\" hidden>\\n        <svg xmlns=\"http://www.w3.org/2000/svg\" id=\"quantum--safe\" viewBox=\"0 0 32 32\"><path d=\"M16,31.36C9.736,31.36,4.64,26.264,4.64,20V7 c0-0.132,0.072-0.253,0.188-0.316l11-6c0.107-0.059,0.237-0.059,0.345,0l11,6C27.288,6.747,27.36,6.868,27.36,7v13 C27.36,26.264,22.264,31.36,16,31.36z M5.36,7.214V20c0,5.867,4.773,10.64,10.64,10.64S26.64,25.868,26.64,20V7.214L16,1.41 L5.36,7.214z M16,23.36c-1.089,0-1.841-0.229-2.703-0.599l0.284-0.662c0.797,0.343,1.449,0.54,2.419,0.54 c3.421,0,6.16-2.355,6.583-5.502C21.287,17.971,18.572,18.36,16,18.36c-3.558,0-7.36-0.62-7.36-2.36c0-0.903,0.218-1.93,0.598-2.817 c0.752-1.794,2.166-3.197,3.978-3.947c1.815-0.751,3.803-0.751,5.598,0L18.535,9.9c-1.613-0.677-3.405-0.678-5.044,0.001 c-1.635,0.677-2.91,1.942-3.59,3.562c-0.173,0.403-0.308,0.835-0.4,1.269c1.301-0.894,3.878-1.467,6.317-1.541l0.021,0.72 C12.081,14.026,9.36,15.238,9.36,16c0,0.806,2.484,1.64,6.64,1.64c4.114,0,6.64-0.955,6.64-1.64c0-0.39-1.028-1.311-2.71-1.647 l0.141-0.706c1.814,0.363,3.29,1.418,3.29,2.353v0.285C23.36,20.252,20.127,23.36,16,23.36z M11,22.612 c-0.889,0-1.612-0.724-1.612-1.612s0.723-1.612,1.612-1.612s1.612,0.724,1.612,1.612S11.889,22.612,11,22.612z M11,20.108 c-0.492,0-0.892,0.399-0.892,0.892s0.4,0.892,0.892,0.892s0.892-0.399,0.892-0.892S11.492,20.108,11,20.108z M16.254,16.254 l-0.509-0.509l3.888-3.889c-0.39-0.623-0.314-1.456,0.226-1.997c0.629-0.629,1.652-0.628,2.281,0c0.628,0.629,0.628,1.651,0,2.28 l0,0c-0.541,0.541-1.375,0.616-1.997,0.226L16.254,16.254z M21,10.108c-0.229,0-0.457,0.087-0.631,0.261 c-0.348,0.348-0.348,0.914,0,1.262s0.914,0.348,1.262,0s0.348-0.914,0-1.262C21.457,10.195,21.229,10.108,21,10.108z\"/></svg>\\n    </div>\\n    \\n    \\n\\n\\r\\n\\r\\n</div>\\n\\n        \\n    </div>\\n\\n\\n        </div>\\n    </div>\\n</div></div>\\n\\n        \\n    </div>\\n\\n\\n        </div>\\n\\n        <div class=\"container-50-50--col-lg-8\">\\n            \\n\\n    \\n    \\n    \\n    <div id=\"container-item-50-50-3312e805d6\" class=\"cmp-container\">\\n        \\n        <div class=\"container-50-50 container responsivegrid\"><div class=\"container-50-50-container\">\\n    <div class=\"container-50-50-row\">\\n        <div class=\"container-50-50--col-lg-8\">\\n            \\n\\n    \\n    \\n    \\n    <div id=\"container-item-50-50-0785d7ffcb\" class=\"cmp-container\">\\n        \\n        <div class=\"tile-card card link button\">\\r\\n    \\n    <caem-tile label=\"Compute &amp; servers\" cta-type=\"local\" href=\"https://www.ibm.com/servers?lnk=ProdC\" target=\"_self\" align-with-content=\"align-with-content\">\\n        \\n            <svg slot=\"pictogram\" focusable=\"false\" preserveAspectRatio=\"xMidYMid meet\" xmlns=\"http://www.w3.org/2000/svg\" data-autoid=\"dds--card__pictogram\" aria-label=\"Pictogram description\" viewBox=\"0 0 32 32\" role=\"img\" class=\"bx--card__pictogram\" fill=\"#0f62fe\">\\n                <use href=\"#server--rack\"></use>\\n            </svg>\\n        \\n        \\n        \\n    \\n\\n        Run workloads on hybrid cloud infrastructure\\n        \\n    <dds-tag-group>\\n        \\n    \\n        \\n    </dds-tag-group>\\n\\n\\n\\n    \\n\\n\\n\\n        <p slot=\"cta\">\\n            Explore enterprise server solutions\\n        </p>\\n\\n    </caem-tile>\\n\\n    <div class=\"caem-card-svg-source\" hidden>\\n        <svg xmlns=\"http://www.w3.org/2000/svg\" id=\"server--rack\" viewBox=\"0 0 32 32\"><path d=\"M27,31.36H5c-0.199,0-0.36-0.161-0.36-0.36V1c0-0.199,0.161-0.36,0.36-0.36h22 c0.199,0,0.36,0.161,0.36,0.36v30C27.36,31.199,27.199,31.36,27,31.36z M5.36,30.64h21.28v-4.28H5.36V30.64z M5.36,25.64h21.28 v-4.28H5.36V25.64z M5.36,20.64h21.28v-4.28H5.36V20.64z M5.36,15.64h21.28v-4.28H5.36V15.64z M5.36,10.64h21.28V6.36H5.36V10.64z M5.36,5.64h21.28V1.36H5.36V5.64z M25,28.36h-6v-0.72h6V28.36z M12,28.36h-1v-0.72h1V28.36z M10,28.36H9v-0.72h1V28.36z M8,28.36H7 v-0.72h1V28.36z M25,23.36h-6v-0.72h6V23.36z M12,23.36h-1v-0.72h1V23.36z M10,23.36H9v-0.72h1V23.36z M8,23.36H7v-0.72h1V23.36z M25,18.36h-6v-0.72h6V18.36z M12,18.36h-1v-0.72h1V18.36z M10,18.36H9v-0.72h1V18.36z M8,18.36H7v-0.72h1V18.36z M25,13.36h-6 v-0.72h6V13.36z M12,13.36h-1v-0.72h1V13.36z M10,13.36H9v-0.72h1V13.36z M8,13.36H7v-0.72h1V13.36z M25,8.36h-6V7.64h6V8.36z M12,8.36h-1V7.64h1V8.36z M10,8.36H9V7.64h1V8.36z M8,8.36H7V7.64h1V8.36z M25,3.36h-6V2.64h6V3.36z M12,3.36h-1V2.64h1V3.36z M10,3.36H9V2.64h1V3.36z M8,3.36H7V2.64h1V3.36z\"/></svg>\\n    </div>\\n    \\n    \\n\\n\\r\\n\\r\\n</div>\\n<div class=\"tile-card card link button\">\\r\\n    \\n    <caem-tile label=\"Security\" cta-type=\"local\" href=\"https://www.ibm.com/security?lnk=prodC\" target=\"_self\" align-with-content=\"align-with-content\">\\n        \\n            <svg slot=\"pictogram\" focusable=\"false\" preserveAspectRatio=\"xMidYMid meet\" xmlns=\"http://www.w3.org/2000/svg\" data-autoid=\"dds--card__pictogram\" aria-label=\"Pictogram description\" viewBox=\"0 0 32 32\" role=\"img\" class=\"bx--card__pictogram\" fill=\"#0f62fe\">\\n                <use href=\"#security--02\"></use>\\n            </svg>\\n        \\n        \\n        \\n    \\n\\n        Protect your business with AI-driven cybersecurity solutions\\n        \\n    <dds-tag-group>\\n        \\n    </dds-tag-group>\\n\\n\\n\\n    \\n\\n\\n\\n        <p slot=\"cta\">\\n            Explore security solutions\\n        </p>\\n\\n    </caem-tile>\\n\\n    <div class=\"caem-card-svg-source\" hidden>\\n        <svg xmlns=\"http://www.w3.org/2000/svg\" id=\"security--02\" viewBox=\"0 0 32 32\"><path d=\"M16,31.36C8.082,31.36,1.64,24.918,1.64,17V1 c0-0.199,0.161-0.36,0.36-0.36h28c0.199,0,0.36,0.161,0.36,0.36v16C30.36,24.918,23.918,31.36,16,31.36z M16.36,26.36v4.275 c3.757-0.099,7.141-1.723,9.553-4.275H16.36z M2.36,1.36V17c0,7.4,5.925,13.444,13.28,13.636v-8.324c-0.576-0.158-1-0.687-1-1.312 s0.424-1.153,1-1.312V7.312c-0.576-0.158-1-0.686-1-1.312s0.424-1.153,1-1.312V1.36H2.36z M16.36,25.64h10.187 c1.033-1.259,1.847-2.705,2.379-4.279H17.312c-0.127,0.461-0.491,0.824-0.952,0.951V25.64z M16,20.36c-0.353,0-0.64,0.287-0.64,0.64 s0.287,0.64,0.64,0.64s0.64-0.287,0.64-0.64S16.353,20.36,16,20.36z M17.312,20.64h11.835c0.321-1.159,0.493-2.38,0.493-3.64v-0.64 H16.36v3.329C16.821,19.815,17.185,20.179,17.312,20.64z M16.36,15.64h13.28v-4.28h-2.328c-0.158,0.576-0.687,1-1.312,1 s-1.153-0.424-1.312-1H16.36V15.64z M26,10.36c-0.353,0-0.64,0.287-0.64,0.64s0.287,0.64,0.64,0.64s0.64-0.287,0.64-0.64 S26.353,10.36,26,10.36z M27.312,10.64h2.328V6.36H17.312c-0.127,0.461-0.491,0.825-0.952,0.952v3.329h8.329 c0.158-0.576,0.687-1,1.312-1S27.153,10.064,27.312,10.64z M16,5.36c-0.353,0-0.64,0.287-0.64,0.64S15.647,6.64,16,6.64 c0.353,0,0.64-0.287,0.64-0.64S16.353,5.36,16,5.36z M17.312,5.64H29.64V1.36H16.36v3.329C16.821,4.815,17.185,5.179,17.312,5.64z\"/></svg>\\n    </div>\\n    \\n    \\n\\n\\r\\n\\r\\n</div>\\n\\n        \\n    </div>\\n\\n\\n        </div>\\n\\n        <div class=\"container-50-50--col-lg-8\">\\n            \\n\\n    \\n    \\n    \\n    <div id=\"container-item-50-50-0837be4a67\" class=\"cmp-container\">\\n        \\n        <div class=\"tile-card card link button\">\\r\\n    \\n    <caem-tile label=\"Databases\" cta-type=\"local\" href=\"https://www.ibm.com/database?lnk=ProdC\" target=\"_self\" align-with-content=\"align-with-content\">\\n        \\n            <svg slot=\"pictogram\" focusable=\"false\" preserveAspectRatio=\"xMidYMid meet\" xmlns=\"http://www.w3.org/2000/svg\" data-autoid=\"dds--card__pictogram\" aria-label=\"Pictogram description\" viewBox=\"0 0 32 32\" role=\"img\" class=\"bx--card__pictogram\" fill=\"#0f62fe\">\\n                <use href=\"#data--processing\"></use>\\n            </svg>\\n        \\n        \\n        \\n    \\n\\n        Store, query and analyze structured data\\n        \\n    <dds-tag-group>\\n        \\n    </dds-tag-group>\\n\\n\\n\\n    \\n\\n\\n\\n        <p slot=\"cta\">\\n            Explore database solutions\\n        </p>\\n\\n    </caem-tile>\\n\\n    <div class=\"caem-card-svg-source\" hidden>\\n        <svg xmlns=\"http://www.w3.org/2000/svg\" id=\"data--processing\" viewBox=\"0 0 32 32\"><circle cx=\"13.5\" cy=\"4\" r=\".5\"/><circle cx=\"13.5\" cy=\"11\" r=\".5\"/><circle cx=\"27.5\" cy=\"20\" r=\".5\"/><circle cx=\"27.5\" cy=\"27\" r=\".5\"/><path d=\"M16,7.36H2C1.801,7.36,1.64,7.199,1.64,7V2c0-0.199,0.161-0.36,0.36-0.36h14c0.199,0,0.36,0.161,0.36,0.36v5 C16.36,7.199,16.199,7.36,16,7.36z M2.36,6.64h13.28V2.36H2.36V6.64z M10,3.64H4v0.72h6V3.64z M16,14.36H2 c-0.199,0-0.36-0.161-0.36-0.36V9c0-0.199,0.161-0.36,0.36-0.36h14c0.199,0,0.36,0.161,0.36,0.36v5 C16.36,14.199,16.199,14.36,16,14.36z M2.36,13.64h13.28V9.36H2.36V13.64z M10,10.64H4v0.72h6V10.64z M30,23.36H16 c-0.199,0-0.36-0.161-0.36-0.36v-5c0-0.199,0.161-0.36,0.36-0.36h14c0.199,0,0.36,0.161,0.36,0.36v5 C30.36,23.199,30.199,23.36,30,23.36z M16.36,22.64h13.28v-4.28H16.36V22.64z M24,19.64h-6v0.721h6V19.64z M30,30.36H16 c-0.199,0-0.36-0.161-0.36-0.36v-5c0-0.199,0.161-0.36,0.36-0.36h14c0.199,0,0.36,0.161,0.36,0.36v5 C30.36,30.199,30.199,30.36,30,30.36z M16.36,29.64h13.28v-4.28H16.36V29.64z M24,26.64h-6v0.721h6V26.64z M28.36,8 c0-0.199-0.161-0.36-0.36-0.36H18v0.72h9.64V16h0.721L28.36,8L28.36,8z M14,23.64H4.36V16H3.64v8c0,0.199,0.161,0.36,0.36,0.36h10 V23.64z\"/></svg>\\n    </div>\\n    \\n    \\n\\n\\r\\n\\r\\n</div>\\n<div class=\"tile-card card link button\">\\r\\n    \\n    <caem-tile label=\"Storage\" cta-type=\"local\" href=\"https://www.ibm.com/storage?lnk=prodC\" target=\"_self\" align-with-content=\"align-with-content\">\\n        \\n            <svg slot=\"pictogram\" focusable=\"false\" preserveAspectRatio=\"xMidYMid meet\" xmlns=\"http://www.w3.org/2000/svg\" data-autoid=\"dds--card__pictogram\" aria-label=\"Pictogram description\" viewBox=\"0 0 32 32\" role=\"img\" class=\"bx--card__pictogram\" fill=\"#0f62fe\">\\n                <use href=\"#storage--product\"></use>\\n            </svg>\\n        \\n        \\n        \\n    \\n\\n        Get storage hardware and software solutions to meet your business needs\\n        \\n    <dds-tag-group>\\n        \\n    </dds-tag-group>\\n\\n\\n\\n    \\n\\n\\n\\n        <p slot=\"cta\">\\n            Explore storage solutions\\n        </p>\\n\\n    </caem-tile>\\n\\n    <div class=\"caem-card-svg-source\" hidden>\\n        <svg xmlns=\"http://www.w3.org/2000/svg\" id=\"storage--product\" viewBox=\"0 0 32 32\"><path d=\"M30,31.36H8c-0.199,0-0.36-0.161-0.36-0.36v-5c0-0.199,0.161-0.36,0.36-0.36h22 c0.199,0,0.36,0.161,0.36,0.36v5C30.36,31.199,30.199,31.36,30,31.36z M8.36,30.64h21.28v-4.28H8.36V30.64z M6,31.36H2 c-0.199,0-0.36-0.161-0.36-0.36V1c0-0.199,0.161-0.36,0.36-0.36h11c0.199,0,0.36,0.161,0.36,0.36v9h-0.72V1.36H2.36v29.28H6V31.36z M28.36,30h-0.72v-2h0.721L28.36,30L28.36,30z M26.36,30h-0.72v-2h0.721L26.36,30L26.36,30z M24.36,30h-0.72v-2h0.721L24.36,30 L24.36,30z M22.36,30h-0.72v-2h0.721L22.36,30L22.36,30z M30,24.36H8c-0.199,0-0.36-0.161-0.36-0.36v-5 c0-0.199,0.161-0.36,0.36-0.36h22c0.199,0,0.36,0.161,0.36,0.36v5C30.36,24.199,30.199,24.36,30,24.36z M8.36,23.64h21.28v-4.28 H8.36V23.64z M28.36,23h-0.72v-2h0.721L28.36,23L28.36,23z M26.36,23h-0.72v-2h0.721L26.36,23L26.36,23z M24.36,23h-0.72v-2h0.721 L24.36,23L24.36,23z M22.36,23h-0.72v-2h0.721L22.36,23L22.36,23z M30,17.36H8c-0.199,0-0.36-0.161-0.36-0.36v-5 c0-0.199,0.161-0.36,0.36-0.36h22c0.199,0,0.36,0.161,0.36,0.36v5C30.36,17.199,30.199,17.36,30,17.36z M8.36,16.64h21.28v-4.28 H8.36V16.64z M28.36,16h-0.72v-2h0.721L28.36,16L28.36,16z M26.36,16h-0.72v-2h0.721L26.36,16L26.36,16z M24.36,16h-0.72v-2h0.721 L24.36,16L24.36,16z M22.36,16h-0.72v-2h0.721L22.36,16L22.36,16z M6,4.36H4V3.64h2V4.36z\"/></svg>\\n    </div>\\n    \\n    \\n\\n\\r\\n\\r\\n</div>\\n\\n        \\n    </div>\\n\\n\\n        </div>\\n    </div>\\n</div></div>\\n\\n        \\n    </div>\\n\\n\\n        </div>\\n    </div>\\n</div></div>\\n<div class=\"intro-section\">\\n<div class=\"bx--col\">\\n    <caem-intro-section>\\n\\n        <caem-heading slot=\"heading\" type=\"h2\" type-style=\"expressive-heading-05\" data-autoid=\"caem-heading\">\\n            \\n\\n\\n\\n  \\n    Inside IBM\\n\\n\\n\\n\\n\\n\\n    \\n\\n\\n        </caem-heading>\\n\\n        <caem-paragraph size=\"lead-in\" data-autoid=\"caem--paragraph\">\\n            <div class=\"cms-richtext\" id=\"rich-text-2e2a81d78b\" data-dynamic-inner-content=\"description\">\\n    <p>Solving the world’s problems through technology wouldn’t be possible without our most important invention: the IBMer. Have a look at our talented teams.</p>\\r\\n \\n    \\n    \\n    \\n    \\n\\n</div>\\n        </caem-paragraph>\\n\\n        \\n            <dds-link-list type=\"vertical\">\\n                \\n                    \\n    \\n    \\n        \\n        \\n        <dds-video-cta-container>\\n            <dds-link-list-item-cta cta-type=\"local\" href=\"https://www.ibm.com/about?lnk=intro\" icon-placement=\"right\" role=\"listitem\" target=\"_self\">\\n                About IBM\\n                \\n            </dds-link-list-item-cta>\\n        </dds-video-cta-container>\\n    \\n    \\n    \\n\\n    \\n    \\n\\n\\n                \\n                \\n                    \\n    \\n    \\n        \\n        \\n        <dds-video-cta-container>\\n            <dds-link-list-item-cta cta-type=\"local\" href=\"https://www.ibm.com/impact?lnk=intro2\" icon-placement=\"right\" role=\"listitem\" target=\"_self\">\\n                IBM&#39;s impact on the world\\n                \\n            </dds-link-list-item-cta>\\n        </dds-video-cta-container>\\n    \\n    \\n    \\n\\n    \\n    \\n\\n\\n                \\n            </dds-link-list>\\n        \\n\\n        \\n\\n    </caem-intro-section>\\n</div>\\n\\n\\n\\n\\n\\n\\n</div>\\n<div class=\"block-card-container container responsivegrid\">\\n    <dds-video-cta-container>\\n        <dds-content-block-cards data-autoid=\"dds--content-block-cards\">\\n            \\n                \\n  \\n\\n                \\n            \\n\\n            \\n\\n            <dds-card-group cards-per-row=\"4\">\\n                    \\n\\n    \\n    \\n    \\n    \\n    \\n    \\n    \\n    \\n    \\n    <dds-card-group-item href=\"https://www.ibm.com/careers?lnk=hpUSap\" target=\"_self\" pictogram-placement=\"top\" cta-type=\"local\">\\n\\n        \\n            \\n                \\n\\n\\n\\n\\n    \\n    \\n        \\n        \\n        \\n        \\n        <dds-image id=\"image--1767021158\" alt=\"Engineer works with electrical device\" slot=\"image\" default-src=\"/content/dam/connectedassets-adobe-cms/worldwide-content/creative-assets/ibs/ul/g/00/00/0100129_Oppermann_PE.component.card-xl.ts=1721046407682.jpg/content/adobe-cms/us/en/homepage/jcr:content/root/table_of_contents/block_card_container/container/card_1430209788/image\" class=\"\">\\n            \\n            \\n                \\n                    \\n    <dds-image-item media=\"(min-width: 1312px) and (min-resolution: 192dpi)\" srcset=\"/content/dam/connectedassets-adobe-cms/worldwide-content/creative-assets/ibs/ul/g/00/00/0100129_Oppermann_PE.component.card-xl-retina.ts=1721046407682.jpg/content/adobe-cms/us/en/homepage/jcr:content/root/table_of_contents/block_card_container/container/card_1430209788/image\"></dds-image-item>\\n    <dds-image-item media=\"(min-width: 1312px)\" srcset=\"/content/dam/connectedassets-adobe-cms/worldwide-content/creative-assets/ibs/ul/g/00/00/0100129_Oppermann_PE.component.card-xl.ts=1721046407682.jpg/content/adobe-cms/us/en/homepage/jcr:content/root/table_of_contents/block_card_container/container/card_1430209788/image\"></dds-image-item>\\n    <dds-image-item media=\"(min-width: 1056px) and (min-resolution: 192dpi)\" srcset=\"/content/dam/connectedassets-adobe-cms/worldwide-content/creative-assets/ibs/ul/g/00/00/0100129_Oppermann_PE.component.card-l-retina.ts=1721046407682.jpg/content/adobe-cms/us/en/homepage/jcr:content/root/table_of_contents/block_card_container/container/card_1430209788/image\"></dds-image-item>\\n    <dds-image-item media=\"(min-width: 1056px)\" srcset=\"/content/dam/connectedassets-adobe-cms/worldwide-content/creative-assets/ibs/ul/g/00/00/0100129_Oppermann_PE.component.card-l.ts=1721046407682.jpg/content/adobe-cms/us/en/homepage/jcr:content/root/table_of_contents/block_card_container/container/card_1430209788/image\"></dds-image-item>\\n    <dds-image-item media=\"(min-width: 672px) and (min-resolution: 192dpi)\" srcset=\"/content/dam/connectedassets-adobe-cms/worldwide-content/creative-assets/ibs/ul/g/00/00/0100129_Oppermann_PE.component.card-m-retina.ts=1721046407682.jpg/content/adobe-cms/us/en/homepage/jcr:content/root/table_of_contents/block_card_container/container/card_1430209788/image\"></dds-image-item>\\n    <dds-image-item media=\"(min-width: 672px)\" srcset=\"/content/dam/connectedassets-adobe-cms/worldwide-content/creative-assets/ibs/ul/g/00/00/0100129_Oppermann_PE.component.card-m.ts=1721046407682.jpg/content/adobe-cms/us/en/homepage/jcr:content/root/table_of_contents/block_card_container/container/card_1430209788/image\"></dds-image-item>\\n    <dds-image-item media=\"(min-width: 481px) and (min-resolution: 192dpi)\" srcset=\"/content/dam/connectedassets-adobe-cms/worldwide-content/creative-assets/ibs/ul/g/00/00/0100129_Oppermann_PE.component.card-s-retina.ts=1721046407682.jpg/content/adobe-cms/us/en/homepage/jcr:content/root/table_of_contents/block_card_container/container/card_1430209788/image\"></dds-image-item>\\n    <dds-image-item media=\"(min-width: 481px)\" srcset=\"/content/dam/connectedassets-adobe-cms/worldwide-content/creative-assets/ibs/ul/g/00/00/0100129_Oppermann_PE.component.card-s.ts=1721046407682.jpg/content/adobe-cms/us/en/homepage/jcr:content/root/table_of_contents/block_card_container/container/card_1430209788/image\"></dds-image-item>\\n    <dds-image-item media=\"(max-width: 480px) and (min-resolution: 192dpi)\" srcset=\"/content/dam/connectedassets-adobe-cms/worldwide-content/creative-assets/ibs/ul/g/00/00/0100129_Oppermann_PE.component.card-xs-retina.ts=1721046407682.jpg/content/adobe-cms/us/en/homepage/jcr:content/root/table_of_contents/block_card_container/container/card_1430209788/image\"></dds-image-item>\\n    <dds-image-item media=\"(max-width: 480px)\" srcset=\"/content/dam/connectedassets-adobe-cms/worldwide-content/creative-assets/ibs/ul/g/00/00/0100129_Oppermann_PE.component.card-xs.ts=1721046407682.jpg/content/adobe-cms/us/en/homepage/jcr:content/root/table_of_contents/block_card_container/container/card_1430209788/image\"></dds-image-item>\\n    \\n\\n                    \\n                \\n            \\n        </dds-image>\\n    \\n\\n    \\n    \\n\\n\\n\\n            \\n        \\n        <dds-card-eyebrow slot=\"eyebrow\" aria-hidden=\"true\" class=\"bx--card__eyebrow\">\\n            Careers at IBM\\n        </dds-card-eyebrow>\\n        <dds-card-heading role=\"heading\" aria-level=\"3\" slot=\"heading\" class=\"bx--card__heading\">\\n            Explore the areas of work where you can apply your unique skills at IBM\\n        </dds-card-heading>\\n        \\n        <dds-card-cta-footer icon-placement=\"right\" cta-type=\"local\" href=\"https://www.ibm.com/careers?lnk=hpUSap\" slot=\"footer\" aria-hidden=\"true\" target=\"_self\" class=\"bx--card__footer-icon-size\">\\n            \\n            \\n    \\n    \\n    \\n    \\n\\n        </dds-card-cta-footer>\\n    </dds-card-group-item>\\n    \\n    \\n\\n    \\n\\n\\n\\n    \\n    \\n    \\n    \\n    \\n    \\n    \\n    \\n    \\n    <dds-card-group-item href=\"https://research.ibm.com/?lnk=hpUSAp\" target=\"_self\" pictogram-placement=\"top\" cta-type=\"local\">\\n\\n        \\n            \\n                \\n\\n\\n\\n\\n    \\n    \\n        \\n        \\n        \\n        \\n        <dds-image id=\"image-1046526041\" alt=\"IBM Quantum System One\" slot=\"image\" default-src=\"/content/dam/connectedassets-adobe-cms/worldwide-content/other/ul/cms/0c/98/ibm-quantum-system-one.component.card-xl.ts=1721046407803.png/content/adobe-cms/us/en/homepage/jcr:content/root/table_of_contents/block_card_container/container/card/image\" class=\"\">\\n            \\n            \\n                \\n                    \\n    <dds-image-item media=\"(min-width: 1312px) and (min-resolution: 192dpi)\" srcset=\"/content/dam/connectedassets-adobe-cms/worldwide-content/other/ul/cms/0c/98/ibm-quantum-system-one.component.card-xl-retina.ts=1721046407803.png/content/adobe-cms/us/en/homepage/jcr:content/root/table_of_contents/block_card_container/container/card/image\"></dds-image-item>\\n    <dds-image-item media=\"(min-width: 1312px)\" srcset=\"/content/dam/connectedassets-adobe-cms/worldwide-content/other/ul/cms/0c/98/ibm-quantum-system-one.component.card-xl.ts=1721046407803.png/content/adobe-cms/us/en/homepage/jcr:content/root/table_of_contents/block_card_container/container/card/image\"></dds-image-item>\\n    <dds-image-item media=\"(min-width: 1056px) and (min-resolution: 192dpi)\" srcset=\"/content/dam/connectedassets-adobe-cms/worldwide-content/other/ul/cms/0c/98/ibm-quantum-system-one.component.card-l-retina.ts=1721046407803.png/content/adobe-cms/us/en/homepage/jcr:content/root/table_of_contents/block_card_container/container/card/image\"></dds-image-item>\\n    <dds-image-item media=\"(min-width: 1056px)\" srcset=\"/content/dam/connectedassets-adobe-cms/worldwide-content/other/ul/cms/0c/98/ibm-quantum-system-one.component.card-l.ts=1721046407803.png/content/adobe-cms/us/en/homepage/jcr:content/root/table_of_contents/block_card_container/container/card/image\"></dds-image-item>\\n    <dds-image-item media=\"(min-width: 672px) and (min-resolution: 192dpi)\" srcset=\"/content/dam/connectedassets-adobe-cms/worldwide-content/other/ul/cms/0c/98/ibm-quantum-system-one.component.card-m-retina.ts=1721046407803.png/content/adobe-cms/us/en/homepage/jcr:content/root/table_of_contents/block_card_container/container/card/image\"></dds-image-item>\\n    <dds-image-item media=\"(min-width: 672px)\" srcset=\"/content/dam/connectedassets-adobe-cms/worldwide-content/other/ul/cms/0c/98/ibm-quantum-system-one.component.card-m.ts=1721046407803.png/content/adobe-cms/us/en/homepage/jcr:content/root/table_of_contents/block_card_container/container/card/image\"></dds-image-item>\\n    <dds-image-item media=\"(min-width: 481px) and (min-resolution: 192dpi)\" srcset=\"/content/dam/connectedassets-adobe-cms/worldwide-content/other/ul/cms/0c/98/ibm-quantum-system-one.component.card-s-retina.ts=1721046407803.png/content/adobe-cms/us/en/homepage/jcr:content/root/table_of_contents/block_card_container/container/card/image\"></dds-image-item>\\n    <dds-image-item media=\"(min-width: 481px)\" srcset=\"/content/dam/connectedassets-adobe-cms/worldwide-content/other/ul/cms/0c/98/ibm-quantum-system-one.component.card-s.ts=1721046407803.png/content/adobe-cms/us/en/homepage/jcr:content/root/table_of_contents/block_card_container/container/card/image\"></dds-image-item>\\n    <dds-image-item media=\"(max-width: 480px) and (min-resolution: 192dpi)\" srcset=\"/content/dam/connectedassets-adobe-cms/worldwide-content/other/ul/cms/0c/98/ibm-quantum-system-one.component.card-xs-retina.ts=1721046407803.png/content/adobe-cms/us/en/homepage/jcr:content/root/table_of_contents/block_card_container/container/card/image\"></dds-image-item>\\n    <dds-image-item media=\"(max-width: 480px)\" srcset=\"/content/dam/connectedassets-adobe-cms/worldwide-content/other/ul/cms/0c/98/ibm-quantum-system-one.component.card-xs.ts=1721046407803.png/content/adobe-cms/us/en/homepage/jcr:content/root/table_of_contents/block_card_container/container/card/image\"></dds-image-item>\\n    \\n\\n                    \\n                \\n            \\n        </dds-image>\\n    \\n\\n    \\n    \\n\\n\\n\\n            \\n        \\n        <dds-card-eyebrow slot=\"eyebrow\" aria-hidden=\"true\" class=\"bx--card__eyebrow\">\\n            IBM Research\\n        </dds-card-eyebrow>\\n        <dds-card-heading role=\"heading\" aria-level=\"3\" slot=\"heading\" class=\"bx--card__heading\">\\n            See the latest technology developed by IBM scientists and design thinkers\\n        </dds-card-heading>\\n        \\n        <dds-card-cta-footer icon-placement=\"right\" cta-type=\"local\" href=\"https://research.ibm.com/?lnk=hpUSAp\" slot=\"footer\" aria-hidden=\"true\" target=\"_self\" class=\"bx--card__footer-icon-size\">\\n            \\n            \\n    \\n    \\n    \\n    \\n\\n        </dds-card-cta-footer>\\n    </dds-card-group-item>\\n    \\n    \\n\\n    \\n\\n\\n\\n    \\n    \\n    \\n    \\n    \\n    \\n    \\n    \\n    \\n    <dds-card-group-item href=\"https://skillsbuild.org/?lnk=hpusap\" target=\"_blank\" pictogram-placement=\"top\" cta-type=\"external\">\\n\\n        \\n            \\n                \\n\\n\\n\\n\\n    \\n    \\n        \\n        \\n        \\n        \\n        <dds-image id=\"image--423282281\" alt=\"Tech worker in front of giant server\" slot=\"image\" default-src=\"/content/dam/connectedassets-adobe-cms/worldwide-content/stock-assets/getty/image/photography/fe/64/universitychile0013846.component.card-xl.ts=1721046408006.jpg/content/adobe-cms/us/en/homepage/jcr:content/root/table_of_contents/block_card_container/container/card_1937905391/image\" class=\"\">\\n            \\n            \\n                \\n                    \\n    <dds-image-item media=\"(min-width: 1312px) and (min-resolution: 192dpi)\" srcset=\"/content/dam/connectedassets-adobe-cms/worldwide-content/stock-assets/getty/image/photography/fe/64/universitychile0013846.component.card-xl-retina.ts=1721046408006.jpg/content/adobe-cms/us/en/homepage/jcr:content/root/table_of_contents/block_card_container/container/card_1937905391/image\"></dds-image-item>\\n    <dds-image-item media=\"(min-width: 1312px)\" srcset=\"/content/dam/connectedassets-adobe-cms/worldwide-content/stock-assets/getty/image/photography/fe/64/universitychile0013846.component.card-xl.ts=1721046408006.jpg/content/adobe-cms/us/en/homepage/jcr:content/root/table_of_contents/block_card_container/container/card_1937905391/image\"></dds-image-item>\\n    <dds-image-item media=\"(min-width: 1056px) and (min-resolution: 192dpi)\" srcset=\"/content/dam/connectedassets-adobe-cms/worldwide-content/stock-assets/getty/image/photography/fe/64/universitychile0013846.component.card-l-retina.ts=1721046408006.jpg/content/adobe-cms/us/en/homepage/jcr:content/root/table_of_contents/block_card_container/container/card_1937905391/image\"></dds-image-item>\\n    <dds-image-item media=\"(min-width: 1056px)\" srcset=\"/content/dam/connectedassets-adobe-cms/worldwide-content/stock-assets/getty/image/photography/fe/64/universitychile0013846.component.card-l.ts=1721046408006.jpg/content/adobe-cms/us/en/homepage/jcr:content/root/table_of_contents/block_card_container/container/card_1937905391/image\"></dds-image-item>\\n    <dds-image-item media=\"(min-width: 672px) and (min-resolution: 192dpi)\" srcset=\"/content/dam/connectedassets-adobe-cms/worldwide-content/stock-assets/getty/image/photography/fe/64/universitychile0013846.component.card-m-retina.ts=1721046408006.jpg/content/adobe-cms/us/en/homepage/jcr:content/root/table_of_contents/block_card_container/container/card_1937905391/image\"></dds-image-item>\\n    <dds-image-item media=\"(min-width: 672px)\" srcset=\"/content/dam/connectedassets-adobe-cms/worldwide-content/stock-assets/getty/image/photography/fe/64/universitychile0013846.component.card-m.ts=1721046408006.jpg/content/adobe-cms/us/en/homepage/jcr:content/root/table_of_contents/block_card_container/container/card_1937905391/image\"></dds-image-item>\\n    <dds-image-item media=\"(min-width: 481px) and (min-resolution: 192dpi)\" srcset=\"/content/dam/connectedassets-adobe-cms/worldwide-content/stock-assets/getty/image/photography/fe/64/universitychile0013846.component.card-s-retina.ts=1721046408006.jpg/content/adobe-cms/us/en/homepage/jcr:content/root/table_of_contents/block_card_container/container/card_1937905391/image\"></dds-image-item>\\n    <dds-image-item media=\"(min-width: 481px)\" srcset=\"/content/dam/connectedassets-adobe-cms/worldwide-content/stock-assets/getty/image/photography/fe/64/universitychile0013846.component.card-s.ts=1721046408006.jpg/content/adobe-cms/us/en/homepage/jcr:content/root/table_of_contents/block_card_container/container/card_1937905391/image\"></dds-image-item>\\n    <dds-image-item media=\"(max-width: 480px) and (min-resolution: 192dpi)\" srcset=\"/content/dam/connectedassets-adobe-cms/worldwide-content/stock-assets/getty/image/photography/fe/64/universitychile0013846.component.card-xs-retina.ts=1721046408006.jpg/content/adobe-cms/us/en/homepage/jcr:content/root/table_of_contents/block_card_container/container/card_1937905391/image\"></dds-image-item>\\n    <dds-image-item media=\"(max-width: 480px)\" srcset=\"/content/dam/connectedassets-adobe-cms/worldwide-content/stock-assets/getty/image/photography/fe/64/universitychile0013846.component.card-xs.ts=1721046408006.jpg/content/adobe-cms/us/en/homepage/jcr:content/root/table_of_contents/block_card_container/container/card_1937905391/image\"></dds-image-item>\\n    \\n\\n                    \\n                \\n            \\n        </dds-image>\\n    \\n\\n    \\n    \\n\\n\\n\\n            \\n        \\n        <dds-card-eyebrow slot=\"eyebrow\" aria-hidden=\"true\" class=\"bx--card__eyebrow\">\\n            IBM SkillsBuild\\n        </dds-card-eyebrow>\\n        <dds-card-heading role=\"heading\" aria-level=\"3\" slot=\"heading\" class=\"bx--card__heading\">\\n            Power your future in tech with job skills, courses and credentials—for free\\n        </dds-card-heading>\\n        \\n        <dds-card-cta-footer icon-placement=\"right\" cta-type=\"external\" href=\"https://skillsbuild.org/?lnk=hpusap\" slot=\"footer\" aria-hidden=\"true\" target=\"_blank\" class=\"bx--card__footer-icon-size\">\\n            \\n            \\n    \\n    \\n    \\n    \\n\\n        </dds-card-cta-footer>\\n    </dds-card-group-item>\\n    \\n    \\n\\n    \\n\\n\\n\\n    \\n    \\n    \\n    \\n    \\n    \\n    \\n    \\n    \\n    <dds-card-group-item href=\"https://www.ibm.com/think/videos/series/ai-academy?lnk=hpUSap\" target=\"_self\" pictogram-placement=\"top\" cta-type=\"local\">\\n\\n        \\n            \\n                \\n\\n\\n\\n\\n    \\n    \\n        \\n        \\n        \\n        \\n        <dds-image id=\"image-1166744971\" alt=\"Woman sitting on white chair and looking ahead\" slot=\"image\" default-src=\"/content/dam/connectedassets-adobe-cms/worldwide-content/creative-assets/ibs/ul/g/6d/33/20240213_ibm_markmahaney_aiacademy_az_0227-extended.component.card-xl.ts=1721046408151.jpg/content/adobe-cms/us/en/homepage/jcr:content/root/table_of_contents/block_card_container/container/block_card/image\" class=\"\">\\n            \\n            \\n                \\n                    \\n    <dds-image-item media=\"(min-width: 1312px) and (min-resolution: 192dpi)\" srcset=\"/content/dam/connectedassets-adobe-cms/worldwide-content/creative-assets/ibs/ul/g/6d/33/20240213_ibm_markmahaney_aiacademy_az_0227-extended.component.card-xl-retina.ts=1721046408151.jpg/content/adobe-cms/us/en/homepage/jcr:content/root/table_of_contents/block_card_container/container/block_card/image\"></dds-image-item>\\n    <dds-image-item media=\"(min-width: 1312px)\" srcset=\"/content/dam/connectedassets-adobe-cms/worldwide-content/creative-assets/ibs/ul/g/6d/33/20240213_ibm_markmahaney_aiacademy_az_0227-extended.component.card-xl.ts=1721046408151.jpg/content/adobe-cms/us/en/homepage/jcr:content/root/table_of_contents/block_card_container/container/block_card/image\"></dds-image-item>\\n    <dds-image-item media=\"(min-width: 1056px) and (min-resolution: 192dpi)\" srcset=\"/content/dam/connectedassets-adobe-cms/worldwide-content/creative-assets/ibs/ul/g/6d/33/20240213_ibm_markmahaney_aiacademy_az_0227-extended.component.card-l-retina.ts=1721046408151.jpg/content/adobe-cms/us/en/homepage/jcr:content/root/table_of_contents/block_card_container/container/block_card/image\"></dds-image-item>\\n    <dds-image-item media=\"(min-width: 1056px)\" srcset=\"/content/dam/connectedassets-adobe-cms/worldwide-content/creative-assets/ibs/ul/g/6d/33/20240213_ibm_markmahaney_aiacademy_az_0227-extended.component.card-l.ts=1721046408151.jpg/content/adobe-cms/us/en/homepage/jcr:content/root/table_of_contents/block_card_container/container/block_card/image\"></dds-image-item>\\n    <dds-image-item media=\"(min-width: 672px) and (min-resolution: 192dpi)\" srcset=\"/content/dam/connectedassets-adobe-cms/worldwide-content/creative-assets/ibs/ul/g/6d/33/20240213_ibm_markmahaney_aiacademy_az_0227-extended.component.card-m-retina.ts=1721046408151.jpg/content/adobe-cms/us/en/homepage/jcr:content/root/table_of_contents/block_card_container/container/block_card/image\"></dds-image-item>\\n    <dds-image-item media=\"(min-width: 672px)\" srcset=\"/content/dam/connectedassets-adobe-cms/worldwide-content/creative-assets/ibs/ul/g/6d/33/20240213_ibm_markmahaney_aiacademy_az_0227-extended.component.card-m.ts=1721046408151.jpg/content/adobe-cms/us/en/homepage/jcr:content/root/table_of_contents/block_card_container/container/block_card/image\"></dds-image-item>\\n    <dds-image-item media=\"(min-width: 481px) and (min-resolution: 192dpi)\" srcset=\"/content/dam/connectedassets-adobe-cms/worldwide-content/creative-assets/ibs/ul/g/6d/33/20240213_ibm_markmahaney_aiacademy_az_0227-extended.component.card-s-retina.ts=1721046408151.jpg/content/adobe-cms/us/en/homepage/jcr:content/root/table_of_contents/block_card_container/container/block_card/image\"></dds-image-item>\\n    <dds-image-item media=\"(min-width: 481px)\" srcset=\"/content/dam/connectedassets-adobe-cms/worldwide-content/creative-assets/ibs/ul/g/6d/33/20240213_ibm_markmahaney_aiacademy_az_0227-extended.component.card-s.ts=1721046408151.jpg/content/adobe-cms/us/en/homepage/jcr:content/root/table_of_contents/block_card_container/container/block_card/image\"></dds-image-item>\\n    <dds-image-item media=\"(max-width: 480px) and (min-resolution: 192dpi)\" srcset=\"/content/dam/connectedassets-adobe-cms/worldwide-content/creative-assets/ibs/ul/g/6d/33/20240213_ibm_markmahaney_aiacademy_az_0227-extended.component.card-xs-retina.ts=1721046408151.jpg/content/adobe-cms/us/en/homepage/jcr:content/root/table_of_contents/block_card_container/container/block_card/image\"></dds-image-item>\\n    <dds-image-item media=\"(max-width: 480px)\" srcset=\"/content/dam/connectedassets-adobe-cms/worldwide-content/creative-assets/ibs/ul/g/6d/33/20240213_ibm_markmahaney_aiacademy_az_0227-extended.component.card-xs.ts=1721046408151.jpg/content/adobe-cms/us/en/homepage/jcr:content/root/table_of_contents/block_card_container/container/block_card/image\"></dds-image-item>\\n    \\n\\n                    \\n                \\n            \\n        </dds-image>\\n    \\n\\n    \\n    \\n\\n\\n\\n            \\n        \\n        <dds-card-eyebrow slot=\"eyebrow\" aria-hidden=\"true\" class=\"bx--card__eyebrow\">\\n            AI Academy\\n        </dds-card-eyebrow>\\n        <dds-card-heading role=\"heading\" aria-level=\"3\" slot=\"heading\" class=\"bx--card__heading\">\\n            Gain the knowledge to prioritize AI investments that can drive growth\\n        </dds-card-heading>\\n        \\n        <dds-card-cta-footer icon-placement=\"right\" cta-type=\"local\" href=\"https://www.ibm.com/think/videos/series/ai-academy?lnk=hpUSap\" slot=\"footer\" aria-hidden=\"true\" target=\"_self\" class=\"bx--card__footer-icon-size\">\\n            \\n            \\n    \\n    \\n    \\n    \\n\\n        </dds-card-cta-footer>\\n    </dds-card-group-item>\\n    \\n    \\n\\n    \\n\\n\\n\\n\\n\\n\\n                </dds-card-group>\\n            \\n            \\n    \\n    \\n    \\n    \\n\\n    \\n\\n\\n\\n\\n            \\n        </dds-content-block-cards>\\n    </dds-video-cta-container>\\n    \\n\\n\\n\\n</div>\\n\\n        \\n    </div>\\n\\n</dds-table-of-contents>\\n\\n</div>\\n<div class=\"footer\">\\n\\n\\n\\n\\n    <dds-footer-container data-cmp-is=\"footer\" data-autoid=\"dds--footer\" class=\"cmp-footer\" data-children-count=\"0\" size=\"tall\"></dds-footer-container>\\n\\n\\n</div>\\n\\n        \\n    </div>\\n\\n</div>\\n\\n\\n<dds-lightbox-video-player-container></dds-lightbox-video-player-container>\\n\\n    \\n    \\n    \\n<script src=\"/etc.clientlibs/adobe-cms/clientlibs/clientlib-idlBundle.lc-fb47b8b531f83fcf850e1bf1b108d5b5-lc.min.js\"></script>\\n\\n\\n\\n    \\n\\n    <script src=\"/etc.clientlibs/adobe-cms/clientlibs/clientlib-target-antiflicker.lc-36a1efb28e947b5873f4a28c2cf9d5eb-lc.min.js\"></script>\\n<script src=\"/etc.clientlibs/adobe-cms/clientlibs/clientlib-idlStyles.lc-d6ed4b23301287e81a6945e57e136448-lc.min.js\"></script>\\n\\n\\n\\n<script src=\"https://www.ibm.com/common/digitaladvisor/cm-app/latest/cm-app.min.js\" defer async></script>\\n\\n\\n\\n    \\n        \\n            <script type=\"module\" src=\"https://1.www.s81c.com/common/carbon/web-components/version/v1.41.0-rc.0/tag.min.js\"></script>\\n        \\n            <script type=\"module\" src=\"https://1.www.s81c.com/common/carbon/web-components/version/v1.41.0-rc.0/code-snippet.min.js\"></script>\\n        \\n        \\n            <script type=\"module\" src=\"https://1.www.s81c.com/common/carbon-for-ibm-dotcom/version/v1.45.0-rc.1/footer.min.js\"></script>\\n        \\n            <script type=\"module\" src=\"https://1.www.s81c.com/common/carbon-for-ibm-dotcom/version/v1.45.0-rc.1/card-group.min.js\"></script>\\n        \\n            <script type=\"module\" src=\"https://1.www.s81c.com/common/carbon-for-ibm-dotcom/version/v1.45.0-rc.1/image.min.js\"></script>\\n        \\n            <script type=\"module\" src=\"https://1.www.s81c.com/common/carbon-for-ibm-dotcom/version/v1.45.0-rc.1/content-block.min.js\"></script>\\n        \\n            <script type=\"module\" src=\"https://1.www.s81c.com/common/carbon-for-ibm-dotcom/version/v1.45.0-rc.1/link-list.min.js\"></script>\\n        \\n            <script type=\"module\" src=\"https://1.www.s81c.com/common/carbon-for-ibm-dotcom/version/v1.45.0-rc.1/link-list-item-cta.js\"></script>\\n        \\n            <script type=\"module\" src=\"https://1.www.s81c.com/common/carbon-for-ibm-dotcom/version/v1.45.0-rc.1/table-of-contents.min.js\"></script>\\n        \\n            <script type=\"module\" src=\"https://1.www.s81c.com/common/carbon-for-ibm-dotcom/version/v1.45.0-rc.1/card-cta-footer.js\"></script>\\n        \\n            <script type=\"module\" src=\"https://1.www.s81c.com/common/carbon-for-ibm-dotcom/version/v1.45.0-rc.1/tag-group.min.js\"></script>\\n        \\n            <script type=\"module\" src=\"https://1.www.s81c.com/common/carbon-for-ibm-dotcom/version/v1.45.0-rc.1/button-cta.js\"></script>\\n        \\n            <script type=\"module\" src=\"https://1.www.s81c.com/common/carbon-for-ibm-dotcom/version/v1.45.0-rc.1/content-group-heading.js\"></script>\\n        \\n            <script type=\"module\" src=\"https://1.www.s81c.com/common/carbon-for-ibm-dotcom/version/v1.45.0-rc.1/search.min.js\"></script>\\n        \\n            <script type=\"module\" src=\"https://1.www.s81c.com/common/carbon-for-ibm-dotcom/version/v1.45.0-rc.1/lightbox-video-player.min.js\"></script>\\n        \\n            <script type=\"module\" src=\"https://1.www.s81c.com/common/carbon-for-ibm-dotcom/version/v1.45.0-rc.1/content-block-cards.min.js\"></script>\\n        \\n            <script type=\"module\" src=\"https://1.www.s81c.com/common/carbon-for-ibm-dotcom/version/v1.45.0-rc.1/content-group.min.js\"></script>\\n        \\n            <script type=\"module\" src=\"https://1.www.s81c.com/common/carbon-for-ibm-dotcom/version/v1.45.0-rc.1/video-cta-container.min.js\"></script>\\n        \\n        \\n            <script type=\"module\" src=\"https://1.www.s81c.com/common/carbon/carbon-for-aem/version/v0.14.0/link-list-item.min.js\"></script>\\n        \\n            <script type=\"module\" src=\"https://1.www.s81c.com/common/carbon/carbon-for-aem/version/v0.14.0/brand-cta-section.min.js\"></script>\\n        \\n            <script type=\"module\" src=\"https://1.www.s81c.com/common/carbon/carbon-for-aem/version/v0.14.0/paragraph.min.js\"></script>\\n        \\n            <script type=\"module\" src=\"https://1.www.s81c.com/common/carbon/carbon-for-aem/version/v0.14.0/tile.min.js\"></script>\\n        \\n            <script type=\"module\" src=\"https://1.www.s81c.com/common/carbon/carbon-for-aem/version/v0.14.0/leadspace.min.js\"></script>\\n        \\n            <script type=\"module\" src=\"https://1.www.s81c.com/common/carbon/carbon-for-aem/version/v0.14.0/star-rating.min.js\"></script>\\n        \\n            <script type=\"module\" src=\"https://1.www.s81c.com/common/carbon/carbon-for-aem/version/v0.14.0/intro-section.min.js\"></script>\\n        \\n            <script type=\"module\" src=\"https://1.www.s81c.com/common/carbon/carbon-for-aem/version/v0.14.0/heading.min.js\"></script>\\n        \\n    \\n    <script type=\"module\" id=\"anti-flicker-script\">\\n        document.getElementById(\\'anti-flicker-style\\').remove();\\n        document.getElementById(\\'anti-flicker-script\\').remove();\\n    </script>\\n\\n\\n    \\n\\n    \\n\\n    \\n\\n\\n\\n    \\n\\n    \\n\\n\\n<script type=\"module\">\\n  window.RUM_BASE = \\'/\\';\\n  import { sampleRUM } from \\'/.rum/@adobe/helix-rum-js@^1/src/index.js\\';\\n  sampleRUM(\\'lazy\\');\\n  sampleRUM(\\'cwv\\');\\n</script><script type=\"text/javascript\"  src=\"/zLlGyS28G/W/9/Ad1MhksbpTgSfoFk/c1packkzSrcz1a/bGdLUXc/OQ/QTEWM7dWg\"></script><link rel=\"stylesheet\" type=\"text/css\"  href=\"/_sec/cp_challenge/sec-4-5.css\">\\n                                        <script  src=\"/_sec/cp_challenge/sec-cpt-4-5.js\" async defer></script>\\n                                        <div id=\"sec-overlay\" style=\"display:none;\">\\n                                        <div id=\"sec-container\">\\n                                        </div>\\n                                      </div></body>\\n</html>'"
      ]
     },
     "execution_count": 48,
     "metadata": {},
     "output_type": "execute_result"
    }
   ],
   "source": [
    "data  = requests.get(url).text \n",
    "data"
   ]
  },
  {
   "cell_type": "markdown",
   "metadata": {},
   "source": [
    "We create a <code>BeautifulSoup</code> object using the <code>BeautifulSoup</code> constructor \n"
   ]
  },
  {
   "cell_type": "code",
   "execution_count": 49,
   "metadata": {},
   "outputs": [
    {
     "data": {
      "text/plain": [
       "[<a href=\"https://www.ibm.com/hybrid-cloud?lnk=hpUSbt1\">hybrid cloud infrastructure</a>,\n",
       " <a href=\"https://www.ibm.com/consulting\" rel=\"noopener noreferrer\" target=\"_self\">IBM Consulting</a>]"
      ]
     },
     "execution_count": 49,
     "metadata": {},
     "output_type": "execute_result"
    }
   ],
   "source": [
    "soup = BeautifulSoup(data,\"html.parser\")  # create a soup object using the variable 'data'\n",
    "list_link = soup.find_all('a', href=True)\n",
    "list_link"
   ]
  },
  {
   "cell_type": "markdown",
   "metadata": {},
   "source": [
    "Scrape all links\n"
   ]
  },
  {
   "cell_type": "code",
   "execution_count": 50,
   "metadata": {},
   "outputs": [
    {
     "name": "stdout",
     "output_type": "stream",
     "text": [
      "https://www.ibm.com/hybrid-cloud?lnk=hpUSbt1\n",
      "https://www.ibm.com/consulting\n"
     ]
    }
   ],
   "source": [
    "for link in soup.find_all('a',href=True):  # in html anchor/link is represented by the tag <a>\n",
    "    print(link.get('href')) #get attribute content of a tag using .get(attrs_name)\n"
   ]
  },
  {
   "cell_type": "markdown",
   "metadata": {},
   "source": [
    "## Scrape  all images  Tags \n"
   ]
  },
  {
   "cell_type": "code",
   "execution_count": 57,
   "metadata": {},
   "outputs": [],
   "source": [
    "for link in soup.find_all('img'):# in html image is represented by the tag <img>\n",
    "    print(link)\n",
    "    print(link.get('src'))\n",
    "\n"
   ]
  },
  {
   "cell_type": "markdown",
   "metadata": {},
   "source": [
    "### Scrape data from HTML tables\n"
   ]
  },
  {
   "cell_type": "code",
   "execution_count": 52,
   "metadata": {},
   "outputs": [],
   "source": [
    "#The below url contains an html table with data about colors and color codes.\n",
    "url = \"https://cf-courses-data.s3.us.cloud-object-storage.appdomain.cloud/IBM-DA0321EN-SkillsNetwork/labs/datasets/HTMLColorCodes.html\""
   ]
  },
  {
   "cell_type": "markdown",
   "metadata": {},
   "source": [
    "Before proceeding to scrape a web site, you need to examine the contents and the way data is organized on the website. Open the above url in your browser and check how many rows and columns there are in the color table.\n"
   ]
  },
  {
   "cell_type": "code",
   "execution_count": 59,
   "metadata": {},
   "outputs": [],
   "source": [
    "# get the contents of the webpage in text format and store in a variable called data\n",
    "data  = requests.get(url).text"
   ]
  },
  {
   "cell_type": "code",
   "execution_count": 65,
   "metadata": {},
   "outputs": [
    {
     "data": {
      "text/plain": [
       "<html>\n",
       "<body>\n",
       "<h1>Partital List  of HTML5 Supported Colors</h1>\n",
       "<table border=\"1\" class=\"main-table\">\n",
       "<tr>\n",
       "<td>Number </td>\n",
       "<td>Color</td>\n",
       "<td>Color Name</td>\n",
       "<td>Hex Code<br/>#RRGGBB</td>\n",
       "<td>Decimal Code<br/>(R,G,B)</td>\n",
       "</tr>\n",
       "<tr>\n",
       "<td>1</td>\n",
       "<td style=\"background:lightsalmon;\"> </td>\n",
       "<td>lightsalmon</td>\n",
       "<td>#FFA07A</td>\n",
       "<td>rgb(255,160,122)</td>\n",
       "</tr>\n",
       "<tr>\n",
       "<td>2</td>\n",
       "<td style=\"background:salmon;\"> </td>\n",
       "<td>salmon</td>\n",
       "<td>#FA8072</td>\n",
       "<td>rgb(250,128,114)</td>\n",
       "</tr>\n",
       "<tr>\n",
       "<td>3</td>\n",
       "<td style=\"background:darksalmon;\"> </td>\n",
       "<td>darksalmon</td>\n",
       "<td>#E9967A</td>\n",
       "<td>rgb(233,150,122)</td>\n",
       "</tr>\n",
       "<tr>\n",
       "<td>4</td>\n",
       "<td style=\"background:lightcoral;\"> </td>\n",
       "<td>lightcoral</td>\n",
       "<td>#F08080</td>\n",
       "<td>rgb(240,128,128)</td>\n",
       "</tr>\n",
       "<tr>\n",
       "<td>5</td>\n",
       "<td style=\"background:coral;\"> </td>\n",
       "<td>coral</td>\n",
       "<td>#FF7F50</td>\n",
       "<td>rgb(255,127,80)</td>\n",
       "</tr>\n",
       "<tr>\n",
       "<td>6</td>\n",
       "<td style=\"background:tomato;\"> </td>\n",
       "<td>tomato</td>\n",
       "<td>#FF6347</td>\n",
       "<td>rgb(255,99,71)</td>\n",
       "</tr>\n",
       "<tr>\n",
       "<td>7</td>\n",
       "<td style=\"background:orangered;\"> </td>\n",
       "<td>orangered</td>\n",
       "<td>#FF4500</td>\n",
       "<td>rgb(255,69,0)</td>\n",
       "</tr>\n",
       "<tr>\n",
       "<td>8</td>\n",
       "<td style=\"background:gold;\"> </td>\n",
       "<td>gold</td>\n",
       "<td>#FFD700</td>\n",
       "<td>rgb(255,215,0)</td>\n",
       "</tr>\n",
       "<tr>\n",
       "<td>9</td>\n",
       "<td style=\"background:orange;\"> </td>\n",
       "<td>orange</td>\n",
       "<td>#FFA500</td>\n",
       "<td>rgb(255,165,0)</td>\n",
       "</tr>\n",
       "<tr>\n",
       "<td>10</td>\n",
       "<td style=\"background:darkorange;\"> </td>\n",
       "<td>darkorange</td>\n",
       "<td>#FF8C00</td>\n",
       "<td>rgb(255,140,0)</td>\n",
       "</tr>\n",
       "<tr>\n",
       "<td>11</td>\n",
       "<td style=\"background:lightyellow;\"> </td>\n",
       "<td>lightyellow</td>\n",
       "<td>#FFFFE0</td>\n",
       "<td>rgb(255,255,224)</td>\n",
       "</tr>\n",
       "<tr>\n",
       "<td>12</td>\n",
       "<td style=\"background:lemonchiffon;\"> </td>\n",
       "<td>lemonchiffon</td>\n",
       "<td>#FFFACD</td>\n",
       "<td>rgb(255,250,205)</td>\n",
       "</tr>\n",
       "<tr>\n",
       "<td>13</td>\n",
       "<td style=\"background:papayawhip;\"> </td>\n",
       "<td>papayawhip</td>\n",
       "<td>#FFEFD5</td>\n",
       "<td>rgb(255,239,213)</td>\n",
       "</tr>\n",
       "<tr>\n",
       "<td>14</td>\n",
       "<td style=\"background:moccasin;\"> </td>\n",
       "<td>moccasin</td>\n",
       "<td>#FFE4B5</td>\n",
       "<td>rgb(255,228,181)</td>\n",
       "</tr>\n",
       "<tr>\n",
       "<td>15</td>\n",
       "<td style=\"background:peachpuff;\"> </td>\n",
       "<td>peachpuff</td>\n",
       "<td>#FFDAB9</td>\n",
       "<td>rgb(255,218,185)</td>\n",
       "</tr>\n",
       "<tr>\n",
       "<td>16</td>\n",
       "<td style=\"background:palegoldenrod;\"> </td>\n",
       "<td>palegoldenrod</td>\n",
       "<td>#EEE8AA</td>\n",
       "<td>rgb(238,232,170)</td>\n",
       "</tr>\n",
       "<tr>\n",
       "<td>17</td>\n",
       "<td style=\"background:khaki;\"> </td>\n",
       "<td>khaki</td>\n",
       "<td>#F0E68C</td>\n",
       "<td>rgb(240,230,140)</td>\n",
       "</tr>\n",
       "<tr>\n",
       "<td>18</td>\n",
       "<td style=\"background:darkkhaki;\"> </td>\n",
       "<td>darkkhaki</td>\n",
       "<td>#BDB76B</td>\n",
       "<td>rgb(189,183,107)</td>\n",
       "</tr>\n",
       "<tr>\n",
       "<td>19</td>\n",
       "<td style=\"background:yellow;\"> </td>\n",
       "<td>yellow</td>\n",
       "<td>#FFFF00</td>\n",
       "<td>rgb(255,255,0)</td>\n",
       "</tr>\n",
       "<tr>\n",
       "<td>20</td>\n",
       "<td style=\"background:lawngreen;\"> </td>\n",
       "<td>lawngreen</td>\n",
       "<td>#7CFC00</td>\n",
       "<td>rgb(124,252,0)</td>\n",
       "</tr>\n",
       "<tr>\n",
       "<td>21</td>\n",
       "<td style=\"background:chartreuse;\"> </td>\n",
       "<td>chartreuse</td>\n",
       "<td>#7FFF00</td>\n",
       "<td>rgb(127,255,0)</td>\n",
       "</tr>\n",
       "<tr>\n",
       "<td>22</td>\n",
       "<td style=\"background:limegreen;\"> </td>\n",
       "<td>limegreen</td>\n",
       "<td>#32CD32</td>\n",
       "<td>rgb(50,205,50)</td>\n",
       "</tr>\n",
       "<tr>\n",
       "<td>23</td>\n",
       "<td style=\"background:lime;\"> </td>\n",
       "<td>lime</td>\n",
       "<td>#00FF00</td>\n",
       "<td>rgb(0.255.0)</td>\n",
       "</tr>\n",
       "<tr>\n",
       "<td>24</td>\n",
       "<td style=\"background:forestgreen;\"> </td>\n",
       "<td>forestgreen</td>\n",
       "<td>#228B22</td>\n",
       "<td>rgb(34,139,34)</td>\n",
       "</tr>\n",
       "<tr>\n",
       "<td>25</td>\n",
       "<td style=\"background:green;\"> </td>\n",
       "<td>green</td>\n",
       "<td>#008000</td>\n",
       "<td>rgb(0,128,0)</td>\n",
       "</tr>\n",
       "<tr>\n",
       "<td>26</td>\n",
       "<td style=\"background:powderblue;\"> </td>\n",
       "<td>powderblue</td>\n",
       "<td>#B0E0E6</td>\n",
       "<td>rgb(176,224,230)</td>\n",
       "</tr>\n",
       "<tr>\n",
       "<td>27</td>\n",
       "<td style=\"background:lightblue;\"> </td>\n",
       "<td>lightblue</td>\n",
       "<td>#ADD8E6</td>\n",
       "<td>rgb(173,216,230)</td>\n",
       "</tr>\n",
       "<tr>\n",
       "<td>28</td>\n",
       "<td style=\"background:lightskyblue;\"> </td>\n",
       "<td>lightskyblue</td>\n",
       "<td>#87CEFA</td>\n",
       "<td>rgb(135,206,250)</td>\n",
       "</tr>\n",
       "<tr>\n",
       "<td>29</td>\n",
       "<td style=\"background:skyblue;\"> </td>\n",
       "<td>skyblue</td>\n",
       "<td>#87CEEB</td>\n",
       "<td>rgb(135,206,235)</td>\n",
       "</tr>\n",
       "<tr>\n",
       "<td>30</td>\n",
       "<td style=\"background:deepskyblue;\"> </td>\n",
       "<td>deepskyblue</td>\n",
       "<td>#00BFFF</td>\n",
       "<td>rgb(0,191,255)</td>\n",
       "</tr>\n",
       "<tr>\n",
       "<td>31</td>\n",
       "<td style=\"background:lightsteelblue;\"> </td>\n",
       "<td>lightsteelblue</td>\n",
       "<td>#B0C4DE</td>\n",
       "<td>rgb(176,196,222)</td>\n",
       "</tr>\n",
       "<tr>\n",
       "<td>32</td>\n",
       "<td style=\"background:dodgerblue;\"> </td>\n",
       "<td>dodgerblue</td>\n",
       "<td>#1E90FF</td>\n",
       "<td>rgb(30,144,255)</td>\n",
       "</tr>\n",
       "</table>\n",
       "</body>\n",
       "</html>"
      ]
     },
     "execution_count": 65,
     "metadata": {},
     "output_type": "execute_result"
    }
   ],
   "source": [
    "soup = BeautifulSoup(data,\"html.parser\")\n",
    "soup"
   ]
  },
  {
   "cell_type": "code",
   "execution_count": 88,
   "metadata": {},
   "outputs": [
    {
     "data": {
      "text/plain": [
       "'Color Name'"
      ]
     },
     "execution_count": 88,
     "metadata": {},
     "output_type": "execute_result"
    }
   ],
   "source": [
    "#find a html table in the web page\n",
    "table = soup.find('table') # in html table is represented by the tag <table>\n",
    "\n",
    "table.find_all('td')[2].string"
   ]
  },
  {
   "cell_type": "code",
   "execution_count": 89,
   "metadata": {},
   "outputs": [
    {
     "data": {
      "text/plain": [
       "[['1', 'lightsalmon', '#FFA07A', 'rgb(255,160,122)'],\n",
       " ['2', 'salmon', '#FA8072', 'rgb(250,128,114)'],\n",
       " ['3', 'darksalmon', '#E9967A', 'rgb(233,150,122)'],\n",
       " ['4', 'lightcoral', '#F08080', 'rgb(240,128,128)'],\n",
       " ['5', 'coral', '#FF7F50', 'rgb(255,127,80)'],\n",
       " ['6', 'tomato', '#FF6347', 'rgb(255,99,71)'],\n",
       " ['7', 'orangered', '#FF4500', 'rgb(255,69,0)'],\n",
       " ['8', 'gold', '#FFD700', 'rgb(255,215,0)'],\n",
       " ['9', 'orange', '#FFA500', 'rgb(255,165,0)'],\n",
       " ['10', 'darkorange', '#FF8C00', 'rgb(255,140,0)'],\n",
       " ['11', 'lightyellow', '#FFFFE0', 'rgb(255,255,224)'],\n",
       " ['12', 'lemonchiffon', '#FFFACD', 'rgb(255,250,205)'],\n",
       " ['13', 'papayawhip', '#FFEFD5', 'rgb(255,239,213)'],\n",
       " ['14', 'moccasin', '#FFE4B5', 'rgb(255,228,181)'],\n",
       " ['15', 'peachpuff', '#FFDAB9', 'rgb(255,218,185)'],\n",
       " ['16', 'palegoldenrod', '#EEE8AA', 'rgb(238,232,170)'],\n",
       " ['17', 'khaki', '#F0E68C', 'rgb(240,230,140)'],\n",
       " ['18', 'darkkhaki', '#BDB76B', 'rgb(189,183,107)'],\n",
       " ['19', 'yellow', '#FFFF00', 'rgb(255,255,0)'],\n",
       " ['20', 'lawngreen', '#7CFC00', 'rgb(124,252,0)'],\n",
       " ['21', 'chartreuse', '#7FFF00', 'rgb(127,255,0)'],\n",
       " ['22', 'limegreen', '#32CD32', 'rgb(50,205,50)'],\n",
       " ['23', 'lime', '#00FF00', 'rgb(0.255.0)'],\n",
       " ['24', 'forestgreen', '#228B22', 'rgb(34,139,34)'],\n",
       " ['25', 'green', '#008000', 'rgb(0,128,0)'],\n",
       " ['26', 'powderblue', '#B0E0E6', 'rgb(176,224,230)'],\n",
       " ['27', 'lightblue', '#ADD8E6', 'rgb(173,216,230)'],\n",
       " ['28', 'lightskyblue', '#87CEFA', 'rgb(135,206,250)'],\n",
       " ['29', 'skyblue', '#87CEEB', 'rgb(135,206,235)'],\n",
       " ['30', 'deepskyblue', '#00BFFF', 'rgb(0,191,255)'],\n",
       " ['31', 'lightsteelblue', '#B0C4DE', 'rgb(176,196,222)'],\n",
       " ['32', 'dodgerblue', '#1E90FF', 'rgb(30,144,255)']]"
      ]
     },
     "execution_count": 89,
     "metadata": {},
     "output_type": "execute_result"
    }
   ],
   "source": [
    "array_table = []\n",
    "for row in table.find_all('tr')[1:]:\n",
    "    list_cols = []\n",
    "    cols = row.find_all()\n",
    "    index = [0,2,3,4]\n",
    "    for i in index:\n",
    "        list_cols.append(cols[i].string)\n",
    "    array_table.append(list_cols)\n",
    "\n",
    "array_table"
   ]
  },
  {
   "cell_type": "code",
   "execution_count": 94,
   "metadata": {},
   "outputs": [
    {
     "data": {
      "text/html": [
       "<div>\n",
       "<style scoped>\n",
       "    .dataframe tbody tr th:only-of-type {\n",
       "        vertical-align: middle;\n",
       "    }\n",
       "\n",
       "    .dataframe tbody tr th {\n",
       "        vertical-align: top;\n",
       "    }\n",
       "\n",
       "    .dataframe thead th {\n",
       "        text-align: right;\n",
       "    }\n",
       "</style>\n",
       "<table border=\"1\" class=\"dataframe\">\n",
       "  <thead>\n",
       "    <tr style=\"text-align: right;\">\n",
       "      <th></th>\n",
       "      <th>Number</th>\n",
       "      <th>Color Name</th>\n",
       "      <th>Hex Code</th>\n",
       "      <th>Decimal Code(RGB)</th>\n",
       "    </tr>\n",
       "  </thead>\n",
       "  <tbody>\n",
       "    <tr>\n",
       "      <th>0</th>\n",
       "      <td>1</td>\n",
       "      <td>lightsalmon</td>\n",
       "      <td>#FFA07A</td>\n",
       "      <td>rgb(255,160,122)</td>\n",
       "    </tr>\n",
       "    <tr>\n",
       "      <th>1</th>\n",
       "      <td>2</td>\n",
       "      <td>salmon</td>\n",
       "      <td>#FA8072</td>\n",
       "      <td>rgb(250,128,114)</td>\n",
       "    </tr>\n",
       "    <tr>\n",
       "      <th>2</th>\n",
       "      <td>3</td>\n",
       "      <td>darksalmon</td>\n",
       "      <td>#E9967A</td>\n",
       "      <td>rgb(233,150,122)</td>\n",
       "    </tr>\n",
       "    <tr>\n",
       "      <th>3</th>\n",
       "      <td>4</td>\n",
       "      <td>lightcoral</td>\n",
       "      <td>#F08080</td>\n",
       "      <td>rgb(240,128,128)</td>\n",
       "    </tr>\n",
       "    <tr>\n",
       "      <th>4</th>\n",
       "      <td>5</td>\n",
       "      <td>coral</td>\n",
       "      <td>#FF7F50</td>\n",
       "      <td>rgb(255,127,80)</td>\n",
       "    </tr>\n",
       "    <tr>\n",
       "      <th>5</th>\n",
       "      <td>6</td>\n",
       "      <td>tomato</td>\n",
       "      <td>#FF6347</td>\n",
       "      <td>rgb(255,99,71)</td>\n",
       "    </tr>\n",
       "    <tr>\n",
       "      <th>6</th>\n",
       "      <td>7</td>\n",
       "      <td>orangered</td>\n",
       "      <td>#FF4500</td>\n",
       "      <td>rgb(255,69,0)</td>\n",
       "    </tr>\n",
       "    <tr>\n",
       "      <th>7</th>\n",
       "      <td>8</td>\n",
       "      <td>gold</td>\n",
       "      <td>#FFD700</td>\n",
       "      <td>rgb(255,215,0)</td>\n",
       "    </tr>\n",
       "    <tr>\n",
       "      <th>8</th>\n",
       "      <td>9</td>\n",
       "      <td>orange</td>\n",
       "      <td>#FFA500</td>\n",
       "      <td>rgb(255,165,0)</td>\n",
       "    </tr>\n",
       "    <tr>\n",
       "      <th>9</th>\n",
       "      <td>10</td>\n",
       "      <td>darkorange</td>\n",
       "      <td>#FF8C00</td>\n",
       "      <td>rgb(255,140,0)</td>\n",
       "    </tr>\n",
       "    <tr>\n",
       "      <th>10</th>\n",
       "      <td>11</td>\n",
       "      <td>lightyellow</td>\n",
       "      <td>#FFFFE0</td>\n",
       "      <td>rgb(255,255,224)</td>\n",
       "    </tr>\n",
       "    <tr>\n",
       "      <th>11</th>\n",
       "      <td>12</td>\n",
       "      <td>lemonchiffon</td>\n",
       "      <td>#FFFACD</td>\n",
       "      <td>rgb(255,250,205)</td>\n",
       "    </tr>\n",
       "    <tr>\n",
       "      <th>12</th>\n",
       "      <td>13</td>\n",
       "      <td>papayawhip</td>\n",
       "      <td>#FFEFD5</td>\n",
       "      <td>rgb(255,239,213)</td>\n",
       "    </tr>\n",
       "    <tr>\n",
       "      <th>13</th>\n",
       "      <td>14</td>\n",
       "      <td>moccasin</td>\n",
       "      <td>#FFE4B5</td>\n",
       "      <td>rgb(255,228,181)</td>\n",
       "    </tr>\n",
       "    <tr>\n",
       "      <th>14</th>\n",
       "      <td>15</td>\n",
       "      <td>peachpuff</td>\n",
       "      <td>#FFDAB9</td>\n",
       "      <td>rgb(255,218,185)</td>\n",
       "    </tr>\n",
       "    <tr>\n",
       "      <th>15</th>\n",
       "      <td>16</td>\n",
       "      <td>palegoldenrod</td>\n",
       "      <td>#EEE8AA</td>\n",
       "      <td>rgb(238,232,170)</td>\n",
       "    </tr>\n",
       "    <tr>\n",
       "      <th>16</th>\n",
       "      <td>17</td>\n",
       "      <td>khaki</td>\n",
       "      <td>#F0E68C</td>\n",
       "      <td>rgb(240,230,140)</td>\n",
       "    </tr>\n",
       "    <tr>\n",
       "      <th>17</th>\n",
       "      <td>18</td>\n",
       "      <td>darkkhaki</td>\n",
       "      <td>#BDB76B</td>\n",
       "      <td>rgb(189,183,107)</td>\n",
       "    </tr>\n",
       "    <tr>\n",
       "      <th>18</th>\n",
       "      <td>19</td>\n",
       "      <td>yellow</td>\n",
       "      <td>#FFFF00</td>\n",
       "      <td>rgb(255,255,0)</td>\n",
       "    </tr>\n",
       "    <tr>\n",
       "      <th>19</th>\n",
       "      <td>20</td>\n",
       "      <td>lawngreen</td>\n",
       "      <td>#7CFC00</td>\n",
       "      <td>rgb(124,252,0)</td>\n",
       "    </tr>\n",
       "    <tr>\n",
       "      <th>20</th>\n",
       "      <td>21</td>\n",
       "      <td>chartreuse</td>\n",
       "      <td>#7FFF00</td>\n",
       "      <td>rgb(127,255,0)</td>\n",
       "    </tr>\n",
       "    <tr>\n",
       "      <th>21</th>\n",
       "      <td>22</td>\n",
       "      <td>limegreen</td>\n",
       "      <td>#32CD32</td>\n",
       "      <td>rgb(50,205,50)</td>\n",
       "    </tr>\n",
       "    <tr>\n",
       "      <th>22</th>\n",
       "      <td>23</td>\n",
       "      <td>lime</td>\n",
       "      <td>#00FF00</td>\n",
       "      <td>rgb(0.255.0)</td>\n",
       "    </tr>\n",
       "    <tr>\n",
       "      <th>23</th>\n",
       "      <td>24</td>\n",
       "      <td>forestgreen</td>\n",
       "      <td>#228B22</td>\n",
       "      <td>rgb(34,139,34)</td>\n",
       "    </tr>\n",
       "    <tr>\n",
       "      <th>24</th>\n",
       "      <td>25</td>\n",
       "      <td>green</td>\n",
       "      <td>#008000</td>\n",
       "      <td>rgb(0,128,0)</td>\n",
       "    </tr>\n",
       "    <tr>\n",
       "      <th>25</th>\n",
       "      <td>26</td>\n",
       "      <td>powderblue</td>\n",
       "      <td>#B0E0E6</td>\n",
       "      <td>rgb(176,224,230)</td>\n",
       "    </tr>\n",
       "    <tr>\n",
       "      <th>26</th>\n",
       "      <td>27</td>\n",
       "      <td>lightblue</td>\n",
       "      <td>#ADD8E6</td>\n",
       "      <td>rgb(173,216,230)</td>\n",
       "    </tr>\n",
       "    <tr>\n",
       "      <th>27</th>\n",
       "      <td>28</td>\n",
       "      <td>lightskyblue</td>\n",
       "      <td>#87CEFA</td>\n",
       "      <td>rgb(135,206,250)</td>\n",
       "    </tr>\n",
       "    <tr>\n",
       "      <th>28</th>\n",
       "      <td>29</td>\n",
       "      <td>skyblue</td>\n",
       "      <td>#87CEEB</td>\n",
       "      <td>rgb(135,206,235)</td>\n",
       "    </tr>\n",
       "    <tr>\n",
       "      <th>29</th>\n",
       "      <td>30</td>\n",
       "      <td>deepskyblue</td>\n",
       "      <td>#00BFFF</td>\n",
       "      <td>rgb(0,191,255)</td>\n",
       "    </tr>\n",
       "    <tr>\n",
       "      <th>30</th>\n",
       "      <td>31</td>\n",
       "      <td>lightsteelblue</td>\n",
       "      <td>#B0C4DE</td>\n",
       "      <td>rgb(176,196,222)</td>\n",
       "    </tr>\n",
       "    <tr>\n",
       "      <th>31</th>\n",
       "      <td>32</td>\n",
       "      <td>dodgerblue</td>\n",
       "      <td>#1E90FF</td>\n",
       "      <td>rgb(30,144,255)</td>\n",
       "    </tr>\n",
       "  </tbody>\n",
       "</table>\n",
       "</div>"
      ],
      "text/plain": [
       "   Number      Color Name Hex Code Decimal Code(RGB)\n",
       "0       1     lightsalmon  #FFA07A  rgb(255,160,122)\n",
       "1       2          salmon  #FA8072  rgb(250,128,114)\n",
       "2       3      darksalmon  #E9967A  rgb(233,150,122)\n",
       "3       4      lightcoral  #F08080  rgb(240,128,128)\n",
       "4       5           coral  #FF7F50   rgb(255,127,80)\n",
       "5       6          tomato  #FF6347    rgb(255,99,71)\n",
       "6       7       orangered  #FF4500     rgb(255,69,0)\n",
       "7       8            gold  #FFD700    rgb(255,215,0)\n",
       "8       9          orange  #FFA500    rgb(255,165,0)\n",
       "9      10      darkorange  #FF8C00    rgb(255,140,0)\n",
       "10     11     lightyellow  #FFFFE0  rgb(255,255,224)\n",
       "11     12    lemonchiffon  #FFFACD  rgb(255,250,205)\n",
       "12     13      papayawhip  #FFEFD5  rgb(255,239,213)\n",
       "13     14        moccasin  #FFE4B5  rgb(255,228,181)\n",
       "14     15       peachpuff  #FFDAB9  rgb(255,218,185)\n",
       "15     16   palegoldenrod  #EEE8AA  rgb(238,232,170)\n",
       "16     17           khaki  #F0E68C  rgb(240,230,140)\n",
       "17     18       darkkhaki  #BDB76B  rgb(189,183,107)\n",
       "18     19          yellow  #FFFF00    rgb(255,255,0)\n",
       "19     20       lawngreen  #7CFC00    rgb(124,252,0)\n",
       "20     21      chartreuse  #7FFF00    rgb(127,255,0)\n",
       "21     22       limegreen  #32CD32    rgb(50,205,50)\n",
       "22     23            lime  #00FF00      rgb(0.255.0)\n",
       "23     24     forestgreen  #228B22    rgb(34,139,34)\n",
       "24     25           green  #008000      rgb(0,128,0)\n",
       "25     26      powderblue  #B0E0E6  rgb(176,224,230)\n",
       "26     27       lightblue  #ADD8E6  rgb(173,216,230)\n",
       "27     28    lightskyblue  #87CEFA  rgb(135,206,250)\n",
       "28     29         skyblue  #87CEEB  rgb(135,206,235)\n",
       "29     30     deepskyblue  #00BFFF    rgb(0,191,255)\n",
       "30     31  lightsteelblue  #B0C4DE  rgb(176,196,222)\n",
       "31     32      dodgerblue  #1E90FF   rgb(30,144,255)"
      ]
     },
     "execution_count": 94,
     "metadata": {},
     "output_type": "execute_result"
    }
   ],
   "source": [
    "import pandas as pd\n",
    "cols = ['Number','Color Name','Hex Code','Decimal Code(RGB)']\n",
    "df_table = pd.DataFrame(array_table, columns=cols)\n",
    "df_table"
   ]
  },
  {
   "cell_type": "markdown",
   "metadata": {},
   "source": [
    "## Authors\n"
   ]
  },
  {
   "cell_type": "markdown",
   "metadata": {},
   "source": [
    "Ramesh Sannareddy\n"
   ]
  },
  {
   "cell_type": "markdown",
   "metadata": {},
   "source": [
    "### Other Contributors\n"
   ]
  },
  {
   "cell_type": "markdown",
   "metadata": {},
   "source": [
    "Rav Ahuja\n"
   ]
  },
  {
   "cell_type": "markdown",
   "metadata": {},
   "source": [
    "## Change Log\n"
   ]
  },
  {
   "cell_type": "markdown",
   "metadata": {},
   "source": [
    "|  Date (YYYY-MM-DD) |  Version | Changed By  |  Change Description |\n",
    "|---|---|---|---|\n",
    "| 2020-10-17  | 0.1  | Joseph Santarcangelo  Created initial version of the lab |\n"
   ]
  },
  {
   "cell_type": "markdown",
   "metadata": {},
   "source": [
    " Copyright &copy; 2020 IBM Corporation. This notebook and its source code are released under the terms of the [MIT License](https://cognitiveclass.ai/mit-license/?utm_medium=Exinfluencer&utm_source=Exinfluencer&utm_content=000026UJ&utm_term=10006555&utm_id=NA-SkillsNetwork-Channel-SkillsNetworkCoursesIBMDeveloperSkillsNetworkPY0101ENSkillsNetwork1005-2022-01-01).\n"
   ]
  }
 ],
 "metadata": {
  "kernelspec": {
   "display_name": "Python 3 (ipykernel)",
   "language": "python",
   "name": "python3"
  },
  "language_info": {
   "codemirror_mode": {
    "name": "ipython",
    "version": 3
   },
   "file_extension": ".py",
   "mimetype": "text/x-python",
   "name": "python",
   "nbconvert_exporter": "python",
   "pygments_lexer": "ipython3",
   "version": "3.11.2"
  }
 },
 "nbformat": 4,
 "nbformat_minor": 4
}
