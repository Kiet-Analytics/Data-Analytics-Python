{
 "cells": [
  {
   "cell_type": "markdown",
   "id": "310a0611-6054-41a9-a15f-3885d126d868",
   "metadata": {},
   "source": [
    "# List of countries and inhabited territories by total population. United Nations"
   ]
  },
  {
   "cell_type": "markdown",
   "id": "b714e760-433a-43b8-89b0-8f70726691e5",
   "metadata": {},
   "source": [
    "### The First Method: not using pandas"
   ]
  },
  {
   "cell_type": "code",
   "execution_count": 14,
   "id": "7069efb1-5a5c-43af-b5b5-908df7e3db24",
   "metadata": {},
   "outputs": [],
   "source": [
    "import requests\n",
    "from bs4 import BeautifulSoup\n",
    "import pandas as pd"
   ]
  },
  {
   "cell_type": "code",
   "execution_count": 3,
   "id": "c55efecd-63e8-4ff1-8b53-d3586ebf2e19",
   "metadata": {},
   "outputs": [],
   "source": [
    "url = 'https://en.wikipedia.org/wiki/List_of_countries_by_population_(United_Nations)'"
   ]
  },
  {
   "cell_type": "code",
   "execution_count": 7,
   "id": "4fd7353b-55ab-45a0-9400-3783affe04f9",
   "metadata": {},
   "outputs": [],
   "source": [
    "r = requests.get(url)\n",
    "data = r.text"
   ]
  },
  {
   "cell_type": "code",
   "execution_count": 11,
   "id": "8b3c91ec-de85-4edd-80e9-c5a5d2271e68",
   "metadata": {},
   "outputs": [],
   "source": [
    "soup = BeautifulSoup(data, 'html.parser')"
   ]
  },
  {
   "cell_type": "code",
   "execution_count": 32,
   "id": "5146ea2e-1888-4ca6-ac92-078d65dc2bea",
   "metadata": {},
   "outputs": [
    {
     "data": {
      "text/plain": [
       "<tr class=\"static-row-numbers-norank\">\n",
       "<td><b><span class=\"flagicon\" style=\"padding-left:25px;\"> </span><a href=\"/wiki/World_population\" title=\"World population\">World</a></b></td>\n",
       "<td>8,021,407,192</td>\n",
       "<td>8,091,734,930</td>\n",
       "<td><span data-sort-value=\"6999880000000000000♠\" style=\"display:none\"></span><span style=\"color:green\">+0.88%</span></td>\n",
       "<td></td>\n",
       "<td>\n",
       "</td></tr>"
      ]
     },
     "execution_count": 32,
     "metadata": {},
     "output_type": "execute_result"
    }
   ],
   "source": [
    "table_rows = soup.find('tbody').find_all('tr')\n",
    "# row1 = table_rows[0]\n",
    "# cells = row1.find_all('td')\n",
    "# cells\n"
   ]
  },
  {
   "cell_type": "markdown",
   "id": "cf9cc23e-42bc-40b9-a1d7-7c9f280124b5",
   "metadata": {},
   "source": [
    "### Create Dataframe for Table"
   ]
  },
  {
   "cell_type": "code",
   "execution_count": 21,
   "id": "5221fe9a-fa15-4473-b948-f552b5bc531c",
   "metadata": {},
   "outputs": [
    {
     "data": {
      "text/html": [
       "<div>\n",
       "<style scoped>\n",
       "    .dataframe tbody tr th:only-of-type {\n",
       "        vertical-align: middle;\n",
       "    }\n",
       "\n",
       "    .dataframe tbody tr th {\n",
       "        vertical-align: top;\n",
       "    }\n",
       "\n",
       "    .dataframe thead th {\n",
       "        text-align: right;\n",
       "    }\n",
       "</style>\n",
       "<table border=\"1\" class=\"dataframe\">\n",
       "  <thead>\n",
       "    <tr style=\"text-align: right;\">\n",
       "      <th></th>\n",
       "      <th>Location</th>\n",
       "      <th>Population (1 July 2022)</th>\n",
       "      <th>Population (1 July 2023)</th>\n",
       "      <th>Change</th>\n",
       "      <th>UN Continental Region</th>\n",
       "      <th>UN Statistical Subregion</th>\n",
       "    </tr>\n",
       "  </thead>\n",
       "  <tbody>\n",
       "  </tbody>\n",
       "</table>\n",
       "</div>"
      ],
      "text/plain": [
       "Empty DataFrame\n",
       "Columns: [Location, Population (1 July 2022), Population (1 July 2023), Change, UN Continental Region, UN Statistical Subregion]\n",
       "Index: []"
      ]
     },
     "execution_count": 21,
     "metadata": {},
     "output_type": "execute_result"
    }
   ],
   "source": [
    "df_population = pd.DataFrame(columns = ['Location','Population (1 July 2022)','Population (1 July 2023)', 'Change' ,'UN Continental Region','UN Statistical Subregion'])\n",
    "df_population"
   ]
  },
  {
   "cell_type": "code",
   "execution_count": 33,
   "id": "49e81352-6c30-4132-9674-2c761f94382f",
   "metadata": {},
   "outputs": [],
   "source": [
    "for row in table_rows[1:]:\n",
    "    cells = row.find_all('td')\n",
    "    Location = cells[0].text\n",
    "    Population1 = cells[1].text\n",
    "    Population2 = cells[2].text\n",
    "    change = cells[3].text\n",
    "    Continental_Region = cells[4].text\n",
    "    Statistical_Subregion = cells[5].text\n",
    "    \n",
    "    row_dataframe = pd.DataFrame({\"Location\":[Location], \"Population (1 July 2022)\":[Population1], \"Population (1 July 2023)\":[Population2],\"Change\":[change], \"UN Continental Region\":[Continental_Region], \"UN Statistical Subregion\":[Statistical_Subregion]})\n",
    "    df_population = pd.concat([df_population, row_dataframe], ignore_index=True)"
   ]
  },
  {
   "cell_type": "code",
   "execution_count": 34,
   "id": "a96a3256-3cb8-40b8-9be9-e3a370ecadec",
   "metadata": {},
   "outputs": [
    {
     "data": {
      "text/html": [
       "<div>\n",
       "<style scoped>\n",
       "    .dataframe tbody tr th:only-of-type {\n",
       "        vertical-align: middle;\n",
       "    }\n",
       "\n",
       "    .dataframe tbody tr th {\n",
       "        vertical-align: top;\n",
       "    }\n",
       "\n",
       "    .dataframe thead th {\n",
       "        text-align: right;\n",
       "    }\n",
       "</style>\n",
       "<table border=\"1\" class=\"dataframe\">\n",
       "  <thead>\n",
       "    <tr style=\"text-align: right;\">\n",
       "      <th></th>\n",
       "      <th>Location</th>\n",
       "      <th>Population (1 July 2022)</th>\n",
       "      <th>Population (1 July 2023)</th>\n",
       "      <th>Change</th>\n",
       "      <th>UN Continental Region</th>\n",
       "      <th>UN Statistical Subregion</th>\n",
       "    </tr>\n",
       "  </thead>\n",
       "  <tbody>\n",
       "    <tr>\n",
       "      <th>0</th>\n",
       "      <td>World</td>\n",
       "      <td>8,021,407,192</td>\n",
       "      <td>8,091,734,930</td>\n",
       "      <td>+0.88%</td>\n",
       "      <td></td>\n",
       "      <td>\\n</td>\n",
       "    </tr>\n",
       "    <tr>\n",
       "      <th>1</th>\n",
       "      <td>India</td>\n",
       "      <td>1,425,423,212</td>\n",
       "      <td>1,438,069,596</td>\n",
       "      <td>+0.89%</td>\n",
       "      <td>Asia</td>\n",
       "      <td>Southern Asia\\n</td>\n",
       "    </tr>\n",
       "    <tr>\n",
       "      <th>2</th>\n",
       "      <td>China[a]</td>\n",
       "      <td>1,425,179,569</td>\n",
       "      <td>1,422,584,933</td>\n",
       "      <td>−0.18%</td>\n",
       "      <td>Asia</td>\n",
       "      <td>Eastern Asia\\n</td>\n",
       "    </tr>\n",
       "    <tr>\n",
       "      <th>3</th>\n",
       "      <td>United States</td>\n",
       "      <td>341,534,046</td>\n",
       "      <td>343,477,335</td>\n",
       "      <td>+0.57%</td>\n",
       "      <td>Americas</td>\n",
       "      <td>Northern America\\n</td>\n",
       "    </tr>\n",
       "    <tr>\n",
       "      <th>4</th>\n",
       "      <td>Indonesia</td>\n",
       "      <td>278,830,529</td>\n",
       "      <td>281,190,067</td>\n",
       "      <td>+0.85%</td>\n",
       "      <td>Asia</td>\n",
       "      <td>South-eastern Asia\\n</td>\n",
       "    </tr>\n",
       "    <tr>\n",
       "      <th>...</th>\n",
       "      <td>...</td>\n",
       "      <td>...</td>\n",
       "      <td>...</td>\n",
       "      <td>...</td>\n",
       "      <td>...</td>\n",
       "      <td>...</td>\n",
       "    </tr>\n",
       "    <tr>\n",
       "      <th>233</th>\n",
       "      <td>Montserrat (United Kingdom)</td>\n",
       "      <td>4,453</td>\n",
       "      <td>4,420</td>\n",
       "      <td>−0.74%</td>\n",
       "      <td>Americas</td>\n",
       "      <td>Caribbean\\n</td>\n",
       "    </tr>\n",
       "    <tr>\n",
       "      <th>234</th>\n",
       "      <td>Falkland Islands (United Kingdom)</td>\n",
       "      <td>3,490</td>\n",
       "      <td>3,477</td>\n",
       "      <td>−0.37%</td>\n",
       "      <td>Americas</td>\n",
       "      <td>South America\\n</td>\n",
       "    </tr>\n",
       "    <tr>\n",
       "      <th>235</th>\n",
       "      <td>Tokelau (New Zealand)</td>\n",
       "      <td>2,290</td>\n",
       "      <td>2,397</td>\n",
       "      <td>+4.67%</td>\n",
       "      <td>Oceania</td>\n",
       "      <td>Polynesia\\n</td>\n",
       "    </tr>\n",
       "    <tr>\n",
       "      <th>236</th>\n",
       "      <td>Niue (New Zealand)</td>\n",
       "      <td>1,821</td>\n",
       "      <td>1,817</td>\n",
       "      <td>−0.22%</td>\n",
       "      <td>Oceania</td>\n",
       "      <td>Polynesia\\n</td>\n",
       "    </tr>\n",
       "    <tr>\n",
       "      <th>237</th>\n",
       "      <td>Vatican City[x]</td>\n",
       "      <td>505</td>\n",
       "      <td>496</td>\n",
       "      <td>−1.78%</td>\n",
       "      <td>Europe</td>\n",
       "      <td>Southern Europe\\n</td>\n",
       "    </tr>\n",
       "  </tbody>\n",
       "</table>\n",
       "<p>238 rows × 6 columns</p>\n",
       "</div>"
      ],
      "text/plain": [
       "                               Location Population (1 July 2022)  \\\n",
       "0                                 World            8,021,407,192   \n",
       "1                                 India            1,425,423,212   \n",
       "2                              China[a]            1,425,179,569   \n",
       "3                         United States              341,534,046   \n",
       "4                             Indonesia              278,830,529   \n",
       "..                                  ...                      ...   \n",
       "233         Montserrat (United Kingdom)                    4,453   \n",
       "234   Falkland Islands (United Kingdom)                    3,490   \n",
       "235               Tokelau (New Zealand)                    2,290   \n",
       "236                  Niue (New Zealand)                    1,821   \n",
       "237                     Vatican City[x]                      505   \n",
       "\n",
       "    Population (1 July 2023)  Change UN Continental Region  \\\n",
       "0              8,091,734,930  +0.88%                         \n",
       "1              1,438,069,596  +0.89%                  Asia   \n",
       "2              1,422,584,933  −0.18%                  Asia   \n",
       "3                343,477,335  +0.57%              Americas   \n",
       "4                281,190,067  +0.85%                  Asia   \n",
       "..                       ...     ...                   ...   \n",
       "233                    4,420  −0.74%              Americas   \n",
       "234                    3,477  −0.37%              Americas   \n",
       "235                    2,397  +4.67%               Oceania   \n",
       "236                    1,817  −0.22%               Oceania   \n",
       "237                      496  −1.78%                Europe   \n",
       "\n",
       "    UN Statistical Subregion  \n",
       "0                         \\n  \n",
       "1            Southern Asia\\n  \n",
       "2             Eastern Asia\\n  \n",
       "3         Northern America\\n  \n",
       "4       South-eastern Asia\\n  \n",
       "..                       ...  \n",
       "233              Caribbean\\n  \n",
       "234          South America\\n  \n",
       "235              Polynesia\\n  \n",
       "236              Polynesia\\n  \n",
       "237        Southern Europe\\n  \n",
       "\n",
       "[238 rows x 6 columns]"
      ]
     },
     "execution_count": 34,
     "metadata": {},
     "output_type": "execute_result"
    }
   ],
   "source": [
    "df_population"
   ]
  },
  {
   "cell_type": "code",
   "execution_count": null,
   "id": "b177695a-4da5-4830-94fd-04c834209be1",
   "metadata": {},
   "outputs": [],
   "source": []
  }
 ],
 "metadata": {
  "kernelspec": {
   "display_name": "Python 3 (ipykernel)",
   "language": "python",
   "name": "python3"
  },
  "language_info": {
   "codemirror_mode": {
    "name": "ipython",
    "version": 3
   },
   "file_extension": ".py",
   "mimetype": "text/x-python",
   "name": "python",
   "nbconvert_exporter": "python",
   "pygments_lexer": "ipython3",
   "version": "3.11.9"
  }
 },
 "nbformat": 4,
 "nbformat_minor": 5
}
