{
 "cells": [
  {
   "cell_type": "markdown",
   "id": "d8e4a791",
   "metadata": {},
   "source": [
    "# A. Scripting with Raw Input"
   ]
  },
  {
   "cell_type": "markdown",
   "id": "83d8d553",
   "metadata": {},
   "source": [
    "1. Ask for user input 3 times. Once for a list of names, once for a list of missing assignment counts, and once for a list of grades. Use this input to create lists for names, assignments, and grades.\n",
    "2. Use a loop to print the message for each student with the correct values. The potential grade is simply the current grade added to two times the number of missing assignments.\n"
   ]
  },
  {
   "cell_type": "code",
   "execution_count": 15,
   "id": "b7af77d1",
   "metadata": {},
   "outputs": [
    {
     "name": "stdout",
     "output_type": "stream",
     "text": [
      "Enter names separated by comas: boy\n",
      "Enter assignment counts separated by comas: 1\n",
      "Enter grades separated by commas: 98\n",
      "Hi Boy,\n",
      "\n",
      "This is a reminder that you have 1 assignments left to submit before you can graduate. You're current grade is 98 and can increase to 100 if you submit all assignments before the due date.\n",
      "\n",
      "\n"
     ]
    }
   ],
   "source": [
    "names = input('Enter names separated by comas: ').title().split(\",\")\n",
    "\n",
    "assignments = input('Enter assignment counts separated by comas: ').split(\",\")\n",
    "\n",
    "grades = input('Enter grades separated by commas: ').split(\",\")\n",
    "\n",
    "message = \"Hi {},\\n\\nThis is a reminder that you have {} assignments left to \\\n",
    "submit before you can graduate. You're current grade is {} and can increase \\\n",
    "to {} if you submit all assignments before the due date.\\n\\n\"\n",
    "\n",
    "#loops here\n",
    "for name, assignment, grade in zip(names, assignments, grades):\n",
    "    print(message.format(name, assignment, grade, int(assignment)*2 + int(grade)))\n"
   ]
  },
  {
   "cell_type": "code",
   "execution_count": 1,
   "id": "794e4a52",
   "metadata": {},
   "outputs": [
    {
     "name": "stdout",
     "output_type": "stream",
     "text": [
      "Enter a number: 10\n",
      "30\n"
     ]
    }
   ],
   "source": [
    "x = int(input('Enter a number: '))\n",
    "x += 20\n",
    "print(x)"
   ]
  },
  {
   "cell_type": "code",
   "execution_count": null,
   "id": "532ab445",
   "metadata": {},
   "outputs": [],
   "source": []
  }
 ],
 "metadata": {
  "kernelspec": {
   "display_name": "Python 3 (ipykernel)",
   "language": "python",
   "name": "python3"
  },
  "language_info": {
   "codemirror_mode": {
    "name": "ipython",
    "version": 3
   },
   "file_extension": ".py",
   "mimetype": "text/x-python",
   "name": "python",
   "nbconvert_exporter": "python",
   "pygments_lexer": "ipython3",
   "version": "3.11.2"
  }
 },
 "nbformat": 4,
 "nbformat_minor": 5
}
