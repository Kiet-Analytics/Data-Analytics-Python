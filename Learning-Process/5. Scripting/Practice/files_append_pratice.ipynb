{
 "cells": [
  {
   "cell_type": "markdown",
   "id": "d8e4a791",
   "metadata": {},
   "source": [
    "# A. Scripting with Raw Input"
   ]
  },
  {
   "cell_type": "markdown",
   "id": "83d8d553",
   "metadata": {},
   "source": [
    "1. Ask for user input 3 times. Once for a list of names, once for a list of missing assignment counts, and once for a list of grades. Use this input to create lists for names, assignments, and grades.\n",
    "2. Use a loop to print the message for each student with the correct values. The potential grade is simply the current grade added to two times the number of missing assignments.\n"
   ]
  },
  {
   "cell_type": "code",
   "execution_count": null,
   "id": "b7af77d1",
   "metadata": {},
   "outputs": [],
   "source": [
    "# create user input variables\n",
    "names = input('Enter names separated by comas: ').title().split(\",\")\n",
    "\n",
    "assignments = input('Enter assignment counts separated by comas: ').split(\",\")\n",
    "\n",
    "grades = input('Enter grades separated by commas: ').split(\",\")\n",
    "\n",
    "message = \"Hi {},\\n\\nThis is a reminder that you have {} assignments left to \\\n",
    "submit before you can graduate. You're current grade is {} and can increase \\\n",
    "to {} if you submit all assignments before the due date.\\n\\n\"\n",
    "\n",
    "#loops here\n",
    "for name, assignment, grade in zip(names, assignments, grades):\n",
    "    print(message.format(name, assignment, grade, int(assignment)*2 + int(grade)))\n"
   ]
  },
  {
   "cell_type": "markdown",
   "id": "c98c8c77",
   "metadata": {},
   "source": [
    "# B. Handling input errors"
   ]
  },
  {
   "cell_type": "markdown",
   "id": "ab464b80",
   "metadata": {},
   "source": [
    "The party_planner function below takes as input a number of party people and cookies and figures out how many cookies each person gets at the party, assuming equitable distribution of cookies. Then, it returns that number along with how many cookies will be left over.\n",
    "\n",
    "Right now, calling the function with an input of 0 people will cause an error, because it creates a ZeroDivisionError exception. Edit the party_planner function to handle this invalid input. If it runs into this exception, it should print a warning message to the user and request they input a different number of people."
   ]
  },
  {
   "cell_type": "code",
   "execution_count": null,
   "id": "604dc01e",
   "metadata": {},
   "outputs": [],
   "source": [
    "#create functions\n",
    "def party_planner(guests, cookies):\n",
    "    cookies_for_each = None\n",
    "    left_cookies = None\n",
    "    try:\n",
    "        cookies_for_each = cookies // guests\n",
    "        left_cookies = cookies % guests\n",
    "    except ZeroDivisionError:\n",
    "        print('Please try again with approriate number!!!')\n",
    "    return \"Each guest will be served {}, remaing {} cookies left\" .format(cookies_for_each, left_cookies)\n",
    "\n",
    "#testing function\n",
    "party_planner(10, 29)"
   ]
  },
  {
   "cell_type": "code",
   "execution_count": null,
   "id": "5a06b8be",
   "metadata": {},
   "outputs": [],
   "source": [
    "def party_planner(guests, cookies):\n",
    "    cookies_for_each = None\n",
    "    left_cookies = None\n",
    "    try:\n",
    "        cookies_for_each = cookies // guests\n",
    "        left_cookies = cookies % guests\n",
    "    except Exception as e:\n",
    "        print('Exceptions Occured: {}'.format(e))\n",
    "    return \"Each guest will be served {}, remaing {} cookies left\" .format(cookies_for_each, left_cookies)\n",
    "party_planner(7, 29)"
   ]
  },
  {
   "cell_type": "code",
   "execution_count": null,
   "id": "7f35db0d",
   "metadata": {},
   "outputs": [],
   "source": [
    "value = ('the answer', 42)\n",
    "s = str(value)\n",
    "print(s)"
   ]
  },
  {
   "cell_type": "markdown",
   "id": "06738a84",
   "metadata": {},
   "source": [
    "# C.Reading and Writing Files"
   ]
  },
  {
   "cell_type": "markdown",
   "id": "acdde569",
   "metadata": {},
   "source": [
    "You're going to create a list of the actors who appeared in the television programme Monty Python's Flying Circus.\n",
    "\n",
    "Write a function called create_cast_list that takes a filename as input and returns a list of actors' names.\n",
    "It will be run on the file flying_circus_cast.txt (this information was collected from imdb.com). Each line of that file consists of an actor's name, a comma, and then some (messy) information about roles they played in the programme. You'll need to extract only the name and add it to a list. You might use the .split() method to process each line."
   ]
  },
  {
   "cell_type": "code",
   "execution_count": null,
   "id": "6f3a6bc9",
   "metadata": {},
   "outputs": [],
   "source": [
    "def create_cast_list(filename):\n",
    "    cast_list = []\n",
    "    with open('/Users/macbook/Documents/Python-for-Data-Analysis/flying_circus_cast.txt') as f:\n",
    "        for line in f:\n",
    "            name = line.split(',')[0]\n",
    "            cast_list.append(name)\n",
    "    return cast_list\n",
    "\n",
    "cast_list = create_cast_list('/Users/macbook/Documents/Python-for-Data-Analysis/flying_circus_cast.txt')\n",
    "for actor in cast_list:\n",
    "    print(actor)"
   ]
  },
  {
   "cell_type": "markdown",
   "id": "3aa97068",
   "metadata": {},
   "source": [
    "# D. Debugging"
   ]
  },
  {
   "cell_type": "markdown",
   "id": "a86449ba",
   "metadata": {},
   "source": [
    "In the workspace at the bottom of the page, there is a piece of code in the ** user_input_numlist.py** Python file. The code prompts the user to enter 10 two-digit numbers. It should then find and print the sum of all of the even numbers among those that were entered.\n",
    "\n",
    "But there is a bug in the code! When I input a number, I get the following TypeError. Use the programming environment provided below with a Terminal and code editor to debug the code.\n",
    "\n"
   ]
  },
  {
   "cell_type": "code",
   "execution_count": null,
   "id": "ef654219",
   "metadata": {},
   "outputs": [],
   "source": [
    "#1st-solution\n",
    "num_list = []\n",
    "sum_even = 0\n",
    "for i in range(10):\n",
    "    num = input(\"Enter two-digit number: \")\n",
    "    try:\n",
    "        num_list.append(num)\n",
    "        if int(num)%2 == 0:\n",
    "            sum_even += int(num)\n",
    "    except Exception as e:\n",
    "        print('Exception occured: {}'.format(e))\n",
    "\n",
    "print(num_list)\n",
    "print(sum_even)\n",
    "        "
   ]
  },
  {
   "cell_type": "code",
   "execution_count": null,
   "id": "33a7bf00",
   "metadata": {},
   "outputs": [],
   "source": [
    "#2nd-solution\n",
    "user_list = []  \n",
    "list_sum = 0\n",
    "for i in range(10):\n",
    "    userInput = int(input(\"Enter any number: \"))\n",
    "    try:\n",
    "        user_list.append(userInput)\n",
    "        if userInput % 2 == 0:\n",
    "            list_sum += userInput\n",
    "    except ValueError:\n",
    "        print(\"Incorrect value. That's not an int!\")\n",
    "\n",
    "print(\"user_list: {}\".format(user_list))\n",
    "print(\"The sum of the even numbers in user_list is: {}.\".format(list_sum))"
   ]
  },
  {
   "cell_type": "markdown",
   "id": "60876eec",
   "metadata": {},
   "source": [
    "# E. The standard Library"
   ]
  },
  {
   "cell_type": "markdown",
   "id": "07b2871e",
   "metadata": {},
   "source": [
    "1. It's your turn to import and use the math module. Use the math module to calculate e to the power of 3. print the answer.\n",
    "Refer to the math module's documentation to find the function you need!"
   ]
  },
  {
   "cell_type": "code",
   "execution_count": 5,
   "id": "13b2fcd6",
   "metadata": {
    "scrolled": true
   },
   "outputs": [
    {
     "name": "stdout",
     "output_type": "stream",
     "text": [
      "20.085536923187664\n"
     ]
    }
   ],
   "source": [
    "import math\n",
    "e_power_3 = math.pow(math.e, 3)\n",
    "print(e_power_3)"
   ]
  },
  {
   "cell_type": "markdown",
   "id": "068cf0c6",
   "metadata": {},
   "source": [
    "2. Write a function called generate_password that selects three random words from the list of words word_list and concatenates them into a single string. Your function should not accept any arguments and should reference the global variable word_list to build the password."
   ]
  },
  {
   "cell_type": "code",
   "execution_count": 11,
   "id": "9643dc30",
   "metadata": {},
   "outputs": [
    {
     "name": "stdout",
     "output_type": "stream",
     "text": [
      "sittingnothingwhat\n"
     ]
    }
   ],
   "source": [
    "#1st-way\n",
    "# Use an import statement at the top\n",
    "word_file = \"words.txt\"\n",
    "word_list = []\n",
    "\n",
    "#fill up the word_list\n",
    "with open(word_file,'r') as words:\n",
    "    for line in words:\n",
    "        word = line.strip().lower()\n",
    "        if 3 < len(word) < 8:\n",
    "            word_list.append(word)\n",
    "\n",
    "# Add function generate_password here\n",
    "import random\n",
    "def generate_password():\n",
    "    random_list = []\n",
    "    for i in range(3):\n",
    "        random_word = word_list[random.randint(0,len(word_list)-1)]\n",
    "        random_list.append(random_word)\n",
    "    return ''.join(random_list)\n",
    "# test your function\n",
    "print(generate_password())\n"
   ]
  },
  {
   "cell_type": "code",
   "execution_count": 16,
   "id": "d8de9aef",
   "metadata": {},
   "outputs": [
    {
     "name": "stdout",
     "output_type": "stream",
     "text": [
      "sisterpeepedsitting\n"
     ]
    }
   ],
   "source": [
    "#2nd-way\n",
    "word_file = \"words.txt\"\n",
    "word_list = []\n",
    "\n",
    "#fill up the word_list\n",
    "with open(word_file,'r') as words:\n",
    "    for line in words:\n",
    "        word = line.strip().lower()\n",
    "        if 3 < len(word) < 8:\n",
    "            word_list.append(word)\n",
    "            \n",
    "# Add function generate_password here\n",
    "import random\n",
    "def generate_password():\n",
    "    return random.choice(word_list) + random.choice(word_list) + random.choice(word_list)\n",
    "\n",
    "# test your function\n",
    "print(generate_password())"
   ]
  },
  {
   "cell_type": "code",
   "execution_count": 19,
   "id": "cb2880d2",
   "metadata": {},
   "outputs": [
    {
     "name": "stdout",
     "output_type": "stream",
     "text": [
      "intooncealice\n"
     ]
    }
   ],
   "source": [
    "#3nd-way\n",
    "word_file = \"words.txt\"\n",
    "word_list = []\n",
    "\n",
    "#fill up the word_list\n",
    "with open(word_file,'r') as words:\n",
    "    for line in words:\n",
    "        word = line.strip().lower()\n",
    "        if 3 < len(word) < 8:\n",
    "            word_list.append(word)\n",
    "            \n",
    "# Add function generate_password here\n",
    "import random\n",
    "def generate_password():\n",
    "    return ''.join(random.sample(word_list, 3))\n",
    "\n",
    "# test your function\n",
    "print(generate_password())"
   ]
  },
  {
   "cell_type": "code",
   "execution_count": 26,
   "id": "a27da2d0",
   "metadata": {},
   "outputs": [
    {
     "name": "stdout",
     "output_type": "stream",
     "text": [
      "[['1', 'Linus Torvalds', 'Linux Kernel'], ['2', 'Tim Berners-Lee', 'World Wide Web'], ['3', 'Guido van Rossum', 'Python Programming']]\n"
     ]
    }
   ],
   "source": [
    "import csv\n",
    "\n",
    "with open('testing.csv', 'r') as file:\n",
    "    reader = csv.reader(file)\n",
    "    headers = next(reader) # Read the header row\n",
    "    print(list(reader))"
   ]
  },
  {
   "cell_type": "markdown",
   "id": "d26a5779",
   "metadata": {},
   "source": [
    "3. Buidling a list of dictionaries from csv file, using csv module"
   ]
  },
  {
   "cell_type": "code",
   "execution_count": 27,
   "id": "9fb5facf",
   "metadata": {},
   "outputs": [
    {
     "name": "stdout",
     "output_type": "stream",
     "text": [
      "[{'SN': '1', 'Name': 'Linus Torvalds', 'Contribution': 'Linux Kernel'}, {'SN': '2', 'Name': 'Tim Berners-Lee', 'Contribution': 'World Wide Web'}, {'SN': '3', 'Name': 'Guido van Rossum', 'Contribution': 'Python Programming'}]\n"
     ]
    }
   ],
   "source": [
    "import csv\n",
    "\n",
    "with open('testing.csv', 'r') as file:\n",
    "    reader = csv.reader(file)\n",
    "    headers = next(reader) # Read the header row\n",
    "    \n",
    "    data = []\n",
    "    for row in reader:\n",
    "        record = {}\n",
    "        for i, value in enumerate(row):\n",
    "            record[headers[i]] = value\n",
    "        data.append(record)\n",
    "print(data)"
   ]
  },
  {
   "cell_type": "markdown",
   "id": "16ba7bc4",
   "metadata": {},
   "source": [
    "4.  Question: Create a function that opens the flowers.txt, reads every line in it, and saves it as a dictionary. The main (separate) function should take user input (user's first name and last name) and parse the user input to identify the first letter of the first name. It should then use it to print the flower name with the same first letter (from dictionary created in the first function)."
   ]
  },
  {
   "cell_type": "code",
   "execution_count": 12,
   "id": "02276c26",
   "metadata": {},
   "outputs": [
    {
     "name": "stdout",
     "output_type": "stream",
     "text": [
      "Enter your First [space] Last name only: Anh Dien\n"
     ]
    },
    {
     "data": {
      "text/plain": [
       "'Unique flower name with the first letter: African Daisy'"
      ]
     },
     "execution_count": 12,
     "metadata": {},
     "output_type": "execute_result"
    }
   ],
   "source": [
    "#>>> Enter your First [space] Last name only: Bill Newman\n",
    "#>>> Unique flower name with the first letter: Bellflowe\n",
    "def create_folowerdict(filename):\n",
    "    flowerdict = {}\n",
    "    with open(filename, 'r') as f:\n",
    "        for line in f:\n",
    "            letter = line.split(\": \")[0].lower()\n",
    "            flower = line.split(\": \")[1].strip()\n",
    "            flowerdict[letter] = flower\n",
    "    return flowerdict\n",
    "\n",
    "def main():\n",
    "    flower_d = create_folowerdict('flowers.txt')\n",
    "    user_input = input(\"Enter your First [space] Last name only: \")\n",
    "    first_letter = user_input[0].lower()\n",
    "    return \"Unique flower name with the first letter: {}\".format(flower_d[first_letter])\n",
    "\n",
    "main()\n",
    "\n"
   ]
  },
  {
   "cell_type": "code",
   "execution_count": null,
   "id": "30db0554",
   "metadata": {},
   "outputs": [],
   "source": []
  }
 ],
 "metadata": {
  "kernelspec": {
   "display_name": "Python 3 (ipykernel)",
   "language": "python",
   "name": "python3"
  },
  "language_info": {
   "codemirror_mode": {
    "name": "ipython",
    "version": 3
   },
   "file_extension": ".py",
   "mimetype": "text/x-python",
   "name": "python",
   "nbconvert_exporter": "python",
   "pygments_lexer": "ipython3",
   "version": "3.11.2"
  }
 },
 "nbformat": 4,
 "nbformat_minor": 5
}
