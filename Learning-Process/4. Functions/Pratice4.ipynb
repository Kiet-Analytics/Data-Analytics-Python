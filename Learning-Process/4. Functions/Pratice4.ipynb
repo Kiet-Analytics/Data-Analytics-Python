{
 "cells": [
  {
   "cell_type": "markdown",
   "id": "4fb4c008",
   "metadata": {},
   "source": [
    "# A. Defining Functions"
   ]
  },
  {
   "cell_type": "markdown",
   "id": "a1cce7fa",
   "metadata": {},
   "source": [
    "1. Write a function named population_density that takes two arguments, population and land_area, and returns a population density calculated from those values. I've included two test cases that you can use to verify that your function works correctly. Once you've written your function, use the Test Run button to test your code."
   ]
  },
  {
   "cell_type": "code",
   "execution_count": 3,
   "id": "47ec39d7",
   "metadata": {},
   "outputs": [
    {
     "name": "stdout",
     "output_type": "stream",
     "text": [
      "expected result: 10, actual result: 10.0\n",
      "expected result: 7123.6902801, actual result: 7123.690280065897\n"
     ]
    }
   ],
   "source": [
    "# write your function here\n",
    "def population_density(population, land_area):\n",
    "    return population / land_area\n",
    "# test cases for your function\n",
    "test1 = population_density(10, 1)\n",
    "expected_result1 = 10\n",
    "print(\"expected result: {}, actual result: {}\".format(expected_result1, test1))\n",
    "\n",
    "test2 = population_density(864816, 121.4)\n",
    "expected_result2 = 7123.6902801\n",
    "print(\"expected result: {}, actual result: {}\".format(expected_result2, test2))"
   ]
  },
  {
   "cell_type": "markdown",
   "id": "b697e7a7",
   "metadata": {},
   "source": [
    "2. Write a function named readable_timedelta. The function should take one argument, an integer days, and return a string that says how many weeks and days that is. For example, calling the function and printing the result like this:"
   ]
  },
  {
   "cell_type": "code",
   "execution_count": 23,
   "id": "abe50a1d",
   "metadata": {},
   "outputs": [
    {
     "name": "stdout",
     "output_type": "stream",
     "text": [
      "14 week (s) and 2 day(s)\n"
     ]
    }
   ],
   "source": [
    "def readable_timedelta(days):\n",
    "    weeks = int(days / 7)\n",
    "    d  = int(days - (weeks * 7))\n",
    "    return \"{} week (s) and {} day(s)\".format(weeks, d)\n",
    "print(readable_timedelta(100)) "
   ]
  },
  {
   "cell_type": "markdown",
   "id": "aaea2d1e",
   "metadata": {},
   "source": [
    "# B. Documentation"
   ]
  },
  {
   "cell_type": "markdown",
   "id": "329878c0",
   "metadata": {},
   "source": [
    "Write a docstring for the readable_timedelta function you defined earlier! Remember the way you write your docstrings is pretty flexible! Look through Python's docstring conventions here and check out this Stack Overflow page for some inspiration!\n",
    "\n"
   ]
  },
  {
   "cell_type": "code",
   "execution_count": 8,
   "id": "985f17cf",
   "metadata": {},
   "outputs": [
    {
     "data": {
      "text/plain": [
       "'4 week(s) and 2 day(s)'"
      ]
     },
     "execution_count": 8,
     "metadata": {},
     "output_type": "execute_result"
    }
   ],
   "source": [
    "def readable_timedelta(days):\n",
    "    \"\"\"Used to return a string indicates how many weeks and days for a specific amount of days\n",
    "    \n",
    "    Args:\n",
    "        days (int): number of days to covert\n",
    "    Returns:\n",
    "        a string indicates the number of weeks and days included in days\n",
    "    \"\"\"\n",
    "    \n",
    "    weeks = days // 7\n",
    "    remainder = days % 7\n",
    "    return \"{} week(s) and {} day(s)\".format(weeks, remainder)\n",
    "\n",
    "readable_timedelta(30)"
   ]
  },
  {
   "cell_type": "markdown",
   "id": "9b81f31c",
   "metadata": {},
   "source": [
    "# C.  Lambda Expressions"
   ]
  },
  {
   "cell_type": "markdown",
   "id": "eeac9786",
   "metadata": {},
   "source": [
    "1. Function - map() is a higher-order built-in function that takes a function and iterable as inputs, and returns an iterator that applies the function to each element of the iterable. The code below uses map() to find the mean of each list in numbers to create the list averages. Give it a test run to see what happens."
   ]
  },
  {
   "cell_type": "code",
   "execution_count": 14,
   "id": "8f5d532f",
   "metadata": {},
   "outputs": [
    {
     "name": "stdout",
     "output_type": "stream",
     "text": [
      "[57.0, 58.2, 50.6, 27.2]\n"
     ]
    }
   ],
   "source": [
    "numbers = [\n",
    "              [34, 63, 88, 71, 29],\n",
    "              [90, 78, 51, 27, 45],\n",
    "              [63, 37, 85, 46, 22],\n",
    "              [51, 22, 34, 11, 18]\n",
    "           ]\n",
    "\n",
    "mean = lambda num_list: sum(num_list)/len(num_list)\n",
    "\n",
    "averages = list(map(mean, numbers))\n",
    "print(averages)"
   ]
  },
  {
   "cell_type": "markdown",
   "id": "55e0fa8e",
   "metadata": {},
   "source": [
    "2. filter() is a higher-order built-in function that takes a function and iterable as inputs and returns an iterator with the elements from the iterable for which the function returns True. The code below uses filter() to get the names in cities that are fewer than 10 characters long to create the list short_cities. Give it a test run to see what happens."
   ]
  },
  {
   "cell_type": "code",
   "execution_count": 15,
   "id": "804a1f21",
   "metadata": {},
   "outputs": [
    {
     "name": "stdout",
     "output_type": "stream",
     "text": [
      "['Chicago', 'Denver', 'Boston']\n"
     ]
    }
   ],
   "source": [
    "cities = [\"New York City\", \"Los Angeles\", \"Chicago\", \"Mountain View\", \"Denver\", \"Boston\"]\n",
    "\n",
    "is_short = lambda string: len(string) < 10\n",
    "\n",
    "short_cities = list(filter(is_short, cities))\n",
    "print(short_cities)"
   ]
  },
  {
   "cell_type": "code",
   "execution_count": null,
   "id": "12351fb5",
   "metadata": {},
   "outputs": [],
   "source": []
  }
 ],
 "metadata": {
  "kernelspec": {
   "display_name": "Python 3 (ipykernel)",
   "language": "python",
   "name": "python3"
  },
  "language_info": {
   "codemirror_mode": {
    "name": "ipython",
    "version": 3
   },
   "file_extension": ".py",
   "mimetype": "text/x-python",
   "name": "python",
   "nbconvert_exporter": "python",
   "pygments_lexer": "ipython3",
   "version": "3.11.2"
  }
 },
 "nbformat": 4,
 "nbformat_minor": 5
}
