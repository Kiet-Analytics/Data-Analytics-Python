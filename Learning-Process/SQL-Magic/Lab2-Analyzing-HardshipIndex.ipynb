{
    "metadata": {
        "kernelspec": {
            "name": "SQL",
            "display_name": "SQL",
            "language": "sql"
        },
        "language_info": {
            "name": "sql",
            "version": ""
        },
        "prev_pub_hash": "09ce986e3758d87b2cada309c08f7752eec5d24e24ca1cd547400d918772eeab"
    },
    "nbformat_minor": 2,
    "nbformat": 4,
    "cells": [
        {
            "cell_type": "markdown",
            "source": [
                "## Selected Socioeconomic Indicators in Chicago\n",
                "\n",
                "The city of Chicago released a dataset of socioeconomic data to the Chicago City Portal.\n",
                "This dataset contains a selection of six socioeconomic indicators of public health significance and a “hardship index,” for each Chicago community area, for the years 2008 – 2012.\n",
                "\n",
                "Scores on the hardship index can range from 1 to 100, with a higher index number representing a greater level of hardship.\n",
                "\n",
                "A detailed description of the dataset can be found on [the city of Chicago's website](https://data.cityofchicago.org/Health-Human-Services/Census-Data-Selected-socioeconomic-indicators-in-C/kn9c-c2s2?utm_medium=Exinfluencer&utm_source=Exinfluencer&utm_content=000026UJ&utm_term=10006555&utm_id=NA-SkillsNetwork-Channel-SkillsNetworkCoursesIBMDeveloperSkillsNetworkDB0201ENSkillsNetwork20127838-2021-01-01), but to summarize, the dataset has the following variables:\n",
                "\n",
                "*   **Community Area Number** (`ca`): Used to uniquely identify each row of the dataset\n",
                "\n",
                "*   **Community Area Name** (`community_area_name`): The name of the region in the city of Chicago\n",
                "\n",
                "*   **Percent of Housing Crowded** (`percent_of_housing_crowded`): Percent of occupied housing units with more than one person per room\n",
                "\n",
                "*   **Percent Households Below Poverty** (`percent_households_below_poverty`): Percent of households living below the federal poverty line\n",
                "\n",
                "*   **Percent Aged 16+ Unemployed** (`percent_aged_16_unemployed`): Percent of persons over the age of 16 years that are unemployed\n",
                "\n",
                "*   **Percent Aged 25+ without High School Diploma** (`percent_aged_25_without_high_school_diploma`): Percent of persons over the age of 25 years without a high school education\n",
                "\n",
                "*   **Percent Aged Under** 18 or Over 64:Percent of population under 18 or over 64 years of age (`percent_aged_under_18_or_over_64`): (ie. dependents)\n",
                "\n",
                "*   **Per Capita Income** (`per_capita_income_`): Community Area per capita income is estimated as the sum of tract-level aggragate incomes divided by the total population\n",
                "\n",
                "*   **Hardship Index** (`hardship_index`): Score that incorporates each of the six selected socioeconomic indicators\n",
                "\n",
                "In this Lab, we'll take a look at the variables in the socioeconomic indicators dataset and do some basic analysis with Python.\n"
            ],
            "metadata": {
                "azdata_cell_guid": "a3ed05ad-de85-42ad-8cf2-e20d4a941a4f"
            }
        },
        {
            "cell_type": "markdown",
            "source": [
                "### Connect to the database\n",
                "\n",
                "Let us first load the SQL extension and establish a connection with the database\n",
                "\n",
                "##### The syntax for connecting to magic sql using sqllite is\n",
                "\n",
                "  **%sql sqlite://DatabaseName**   \n",
                "  \n",
                "where DatabaseName will be your **.db** file \n"
            ],
            "metadata": {
                "azdata_cell_guid": "4b3f7219-8941-4449-99b1-7927ce8ecaa2"
            }
        },
        {
            "cell_type": "code",
            "source": [
                "%load_ext sql"
            ],
            "metadata": {
                "tags": [],
                "azdata_cell_guid": "a643abf0-d61a-42d5-9263-9552f6768e6d",
                "language": "sql"
            },
            "outputs": [],
            "execution_count": 3
        },
        {
            "cell_type": "code",
            "source": [
                "import csv, sqlite3\n",
                "\n",
                "con = sqlite3.connect(\"socioeconomic.db\")\n",
                "cur = con.cursor()\n",
                "!pip install -q pandas==1.1.5"
            ],
            "metadata": {
                "tags": [],
                "azdata_cell_guid": "4cf392bf-8c86-4137-aec2-31fa4507075b",
                "language": "sql"
            },
            "outputs": [],
            "execution_count": 4
        },
        {
            "cell_type": "code",
            "source": [
                "%sql sqlite:///socioeconomic.db"
            ],
            "metadata": {
                "tags": [],
                "azdata_cell_guid": "2cdd7627-d389-46a3-9cc7-e9a11a723deb",
                "language": "sql"
            },
            "outputs": [
                {
                    "output_type": "execute_result",
                    "execution_count": 5,
                    "data": {
                        "text/plain": "'Connected: @socioeconomic.db'"
                    },
                    "metadata": {}
                }
            ],
            "execution_count": 5
        },
        {
            "cell_type": "markdown",
            "source": [
                "### Store the dataset in a Table\n",
                "\n",
                "##### In many cases the dataset to be analyzed is available as a .CSV (comma separated values) file, perhaps on the internet. To analyze the data using SQL, it first needs to be stored in the database.\n",
                "\n",
                "##### We will first read the csv files  from the given url  into pandas dataframes\n",
                "\n",
                "##### Next we will be using the  df.to_sql() function to convert each csv file  to a table in sqlite  with the csv data loaded in it.\n",
                "\n"
            ],
            "metadata": {
                "azdata_cell_guid": "3c8babbd-4504-4154-9d96-1ae8bfeafa5b"
            }
        },
        {
            "cell_type": "code",
            "source": [
                "import pandas\n",
                "df = pandas.read_csv('https://data.cityofchicago.org/resource/jcxq-k9xf.csv')\n",
                "df.to_sql(\"chicago_socioeconomic_data\", con, if_exists='replace', index=False, method=\"multi\")\n"
            ],
            "metadata": {
                "tags": [],
                "azdata_cell_guid": "a1d39b55-ac79-4236-9c9e-722830bcc67e",
                "language": "sql"
            },
            "outputs": [],
            "execution_count": 6
        },
        {
            "cell_type": "markdown",
            "source": [
                "##### You can verify that the table creation was successful by making a basic query like:\n"
            ],
            "metadata": {
                "azdata_cell_guid": "b82c266a-0e7a-4f41-be33-a57c13d1fe70"
            }
        },
        {
            "cell_type": "code",
            "source": [
                "%sql SELECT * FROM chicago_socioeconomic_data limit 5;"
            ],
            "metadata": {
                "tags": [],
                "azdata_cell_guid": "0de79c0d-d0be-430d-8d26-7e4aeb67f2df",
                "language": "sql"
            },
            "outputs": [
                {
                    "output_type": "stream",
                    "name": "stdout",
                    "text": " * sqlite:///socioeconomic.db\nDone.\n"
                },
                {
                    "output_type": "execute_result",
                    "execution_count": 7,
                    "data": {
                        "text/html": "<table>\n    <thead>\n        <tr>\n            <th>ca</th>\n            <th>community_area_name</th>\n            <th>percent_of_housing_crowded</th>\n            <th>percent_households_below_poverty</th>\n            <th>percent_aged_16_unemployed</th>\n            <th>percent_aged_25_without_high_school_diploma</th>\n            <th>percent_aged_under_18_or_over_64</th>\n            <th>per_capita_income_</th>\n            <th>hardship_index</th>\n        </tr>\n    </thead>\n    <tbody>\n        <tr>\n            <td>1.0</td>\n            <td>Rogers Park</td>\n            <td>7.7</td>\n            <td>23.6</td>\n            <td>8.7</td>\n            <td>18.2</td>\n            <td>27.5</td>\n            <td>23939</td>\n            <td>39.0</td>\n        </tr>\n        <tr>\n            <td>2.0</td>\n            <td>West Ridge</td>\n            <td>7.8</td>\n            <td>17.2</td>\n            <td>8.8</td>\n            <td>20.8</td>\n            <td>38.5</td>\n            <td>23040</td>\n            <td>46.0</td>\n        </tr>\n        <tr>\n            <td>3.0</td>\n            <td>Uptown</td>\n            <td>3.8</td>\n            <td>24.0</td>\n            <td>8.9</td>\n            <td>11.8</td>\n            <td>22.2</td>\n            <td>35787</td>\n            <td>20.0</td>\n        </tr>\n        <tr>\n            <td>4.0</td>\n            <td>Lincoln Square</td>\n            <td>3.4</td>\n            <td>10.9</td>\n            <td>8.2</td>\n            <td>13.4</td>\n            <td>25.5</td>\n            <td>37524</td>\n            <td>17.0</td>\n        </tr>\n        <tr>\n            <td>5.0</td>\n            <td>North Center</td>\n            <td>0.3</td>\n            <td>7.5</td>\n            <td>5.2</td>\n            <td>4.5</td>\n            <td>26.2</td>\n            <td>57123</td>\n            <td>6.0</td>\n        </tr>\n    </tbody>\n</table>",
                        "text/plain": "[(1.0, 'Rogers Park', 7.7, 23.6, 8.7, 18.2, 27.5, 23939, 39.0),\n (2.0, 'West Ridge', 7.8, 17.2, 8.8, 20.8, 38.5, 23040, 46.0),\n (3.0, 'Uptown', 3.8, 24.0, 8.9, 11.8, 22.2, 35787, 20.0),\n (4.0, 'Lincoln Square', 3.4, 10.9, 8.2, 13.4, 25.5, 37524, 17.0),\n (5.0, 'North Center', 0.3, 7.5, 5.2, 4.5, 26.2, 57123, 6.0)]"
                    },
                    "metadata": {}
                }
            ],
            "execution_count": 7
        },
        {
            "cell_type": "markdown",
            "source": [
                "## Problems\n",
                "\n",
                "### Problem 1\n",
                "\n",
                "##### How many rows are in the dataset?\n"
            ],
            "metadata": {
                "azdata_cell_guid": "6ffed986-113c-4d2d-a556-857f92682239"
            }
        },
        {
            "cell_type": "code",
            "source": [
                "%sql SELECT COUNT(*) FROM chicago_socioeconomic_data;\n"
            ],
            "metadata": {
                "tags": [],
                "azdata_cell_guid": "afd589ca-4924-4c9d-bdf5-813c7b2ac14f",
                "language": "sql"
            },
            "outputs": [
                {
                    "output_type": "stream",
                    "name": "stdout",
                    "text": " * sqlite:///socioeconomic.db\nDone.\n"
                },
                {
                    "output_type": "execute_result",
                    "execution_count": 10,
                    "data": {
                        "text/html": "<table>\n    <thead>\n        <tr>\n            <th>COUNT(*)</th>\n        </tr>\n    </thead>\n    <tbody>\n        <tr>\n            <td>78</td>\n        </tr>\n    </tbody>\n</table>",
                        "text/plain": "[(78,)]"
                    },
                    "metadata": {}
                }
            ],
            "execution_count": 10
        },
        {
            "cell_type": "markdown",
            "source": [
                "### Problem 2\n",
                "\n",
                "##### How many community areas in Chicago have a hardship index greater than 50.0?\n"
            ],
            "metadata": {
                "azdata_cell_guid": "1412fe16-8724-4025-b249-895b7148cfd4"
            }
        },
        {
            "cell_type": "code",
            "source": [
                "%sql SELECT COUNT(*) FROM chicago_socioeconomic_data WHERE hardship_index > 50.0 ;\n"
            ],
            "metadata": {
                "tags": [],
                "azdata_cell_guid": "66e3d129-1b8b-4286-8239-22961b96be74",
                "language": "sql"
            },
            "outputs": [
                {
                    "output_type": "stream",
                    "name": "stdout",
                    "text": " * sqlite:///socioeconomic.db\nDone.\n"
                },
                {
                    "output_type": "execute_result",
                    "execution_count": 11,
                    "data": {
                        "text/html": "<table>\n    <thead>\n        <tr>\n            <th>COUNT(*)</th>\n        </tr>\n    </thead>\n    <tbody>\n        <tr>\n            <td>38</td>\n        </tr>\n    </tbody>\n</table>",
                        "text/plain": "[(38,)]"
                    },
                    "metadata": {}
                }
            ],
            "execution_count": 11
        },
        {
            "cell_type": "markdown",
            "source": [
                "### Problem 3\n",
                "\n",
                "##### What is the maximum value of hardship index in this dataset?\n"
            ],
            "metadata": {
                "azdata_cell_guid": "57f6d8d5-6354-4079-940c-2dd702f0c36f"
            }
        },
        {
            "cell_type": "code",
            "source": [
                "%sql select MAX(hardship_index) from chicago_socioeconomic_data;"
            ],
            "metadata": {
                "tags": [],
                "azdata_cell_guid": "63656eaa-745c-4473-ac7c-14180d91e789",
                "language": "sql"
            },
            "outputs": [
                {
                    "output_type": "stream",
                    "name": "stdout",
                    "text": " * sqlite:///socioeconomic.db\nDone.\n"
                },
                {
                    "output_type": "execute_result",
                    "execution_count": 12,
                    "data": {
                        "text/html": "<table>\n    <thead>\n        <tr>\n            <th>MAX(hardship_index)</th>\n        </tr>\n    </thead>\n    <tbody>\n        <tr>\n            <td>98.0</td>\n        </tr>\n    </tbody>\n</table>",
                        "text/plain": "[(98.0,)]"
                    },
                    "metadata": {}
                }
            ],
            "execution_count": 12
        },
        {
            "cell_type": "markdown",
            "source": [
                "### Problem 4\n",
                "\n",
                "##### Which community area which has the highest hardship index?\n"
            ],
            "metadata": {
                "azdata_cell_guid": "f02ac66e-6be2-43cf-b3e1-04dadd53dee8"
            }
        },
        {
            "cell_type": "code",
            "source": [
                "%sql select community_area_name\t from chicago_socioeconomic_data WHERE hardship_index =( select MAX(hardship_index) from chicago_socioeconomic_data);"
            ],
            "metadata": {
                "tags": [],
                "azdata_cell_guid": "505339dd-6b3b-4713-a83e-6c1069f987e2",
                "language": "sql"
            },
            "outputs": [
                {
                    "output_type": "stream",
                    "name": "stdout",
                    "text": " * sqlite:///socioeconomic.db\nDone.\n"
                },
                {
                    "output_type": "execute_result",
                    "execution_count": 13,
                    "data": {
                        "text/html": "<table>\n    <thead>\n        <tr>\n            <th>community_area_name</th>\n        </tr>\n    </thead>\n    <tbody>\n        <tr>\n            <td>Riverdale</td>\n        </tr>\n    </tbody>\n</table>",
                        "text/plain": "[('Riverdale',)]"
                    },
                    "metadata": {}
                }
            ],
            "execution_count": 13
        },
        {
            "cell_type": "markdown",
            "source": [
                "### Problem 5\n",
                "\n",
                "##### Which Chicago community areas have per-capita incomes greater than $60,000?\n"
            ],
            "metadata": {
                "azdata_cell_guid": "ba7e3658-014f-49b8-b3fb-e3c3f07d6d86"
            }
        },
        {
            "cell_type": "code",
            "source": [
                "%sql SELECT community_area_name FROM chicago_socioeconomic_data WHERE per_capita_income_ > 60000;"
            ],
            "metadata": {
                "tags": [],
                "azdata_cell_guid": "e82d5b86-ee1d-4c7c-9fd0-d8bec64472ce",
                "language": "sql"
            },
            "outputs": [
                {
                    "output_type": "stream",
                    "name": "stdout",
                    "text": " * sqlite:///socioeconomic.db\nDone.\n"
                },
                {
                    "output_type": "execute_result",
                    "execution_count": 14,
                    "data": {
                        "text/html": "<table>\n    <thead>\n        <tr>\n            <th>community_area_name</th>\n        </tr>\n    </thead>\n    <tbody>\n        <tr>\n            <td>Lake View</td>\n        </tr>\n        <tr>\n            <td>Lincoln Park</td>\n        </tr>\n        <tr>\n            <td>Near North Side</td>\n        </tr>\n        <tr>\n            <td>Loop</td>\n        </tr>\n    </tbody>\n</table>",
                        "text/plain": "[('Lake View',), ('Lincoln Park',), ('Near North Side',), ('Loop',)]"
                    },
                    "metadata": {}
                }
            ],
            "execution_count": 14
        },
        {
            "cell_type": "markdown",
            "source": [
                "### Problem 6\n",
                "\n",
                "##### Create a scatter plot using the variables `per_capita_income_` and `hardship_index`. Explain the correlation between the two variables.\n"
            ],
            "metadata": {
                "azdata_cell_guid": "38be45f2-5c67-424a-bd2a-3ef4eff770b5"
            }
        },
        {
            "cell_type": "code",
            "source": [
                "import seaborn as sns\n"
            ],
            "metadata": {
                "tags": [],
                "azdata_cell_guid": "9ee06672-2074-45ef-8d61-212d61ad0389",
                "language": "sql"
            },
            "outputs": [],
            "execution_count": 16
        },
        {
            "cell_type": "code",
            "source": [
                "scatter = sns.scatterplot(data=df, x ='hardship_index', y='per_capita_income_')\n"
            ],
            "metadata": {
                "tags": [],
                "azdata_cell_guid": "974d452f-9235-4715-b948-98de77ac6458",
                "language": "sql"
            },
            "outputs": [
                {
                    "output_type": "display_data",
                    "data": {
                        "image/png": "[encoded data removed]",
                        "text/plain": "<Figure size 640x480 with 1 Axes>"
                    },
                    "metadata": {}
                }
            ],
            "execution_count": 21
        },
        {
            "cell_type": "code",
            "source": [],
            "metadata": {
                "azdata_cell_guid": "71b3eb85-479c-4573-9e7d-1d55b8bb5246",
                "language": "sql"
            },
            "outputs": [],
            "execution_count": null
        }
    ]
}